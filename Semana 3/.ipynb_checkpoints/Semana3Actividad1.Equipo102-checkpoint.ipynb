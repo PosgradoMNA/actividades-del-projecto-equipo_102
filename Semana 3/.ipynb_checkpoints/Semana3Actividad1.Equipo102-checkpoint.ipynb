{
 "cells": [
  {
   "cell_type": "markdown",
   "metadata": {},
   "source": [
    "#### **Actividad 1 Semana 3 - Ciencia de Datos**\n",
    "\n",
    "**Integrantes:**\n",
    "\n",
    "- Rafael J. Mateo C: A01793054\n",
    "- Matthias Sibrian: A01794249 "
   ]
  },
  {
   "cell_type": "markdown",
   "metadata": {},
   "source": [
    "#### **1. Fundamentos de Base de Datos**"
   ]
  },
  {
   "cell_type": "markdown",
   "metadata": {},
   "source": [
    "**1. Fundamentos de bases de datos y para ciencia de datos.** \n",
    "\n",
    "Conceptualmente, una base de datos es un repositorio estructurado de información que se utiliza para guardar datos en un formato definido y utilizable. Esta puede estar en un servidor o en la nube, que no es más que una colección de servidores accesibles a través del Internet. Para guardar información en ella, se debe elaborar procesos que conviertan la información en un formato utilizable, comúnmente a través de algún lenguaje definido, tal como SQL. \n",
    "\n",
    "Dependiendo de la manera en que estructuran la información, pueden ser relacionales (SQL) o no-relacionales (NoSQL). Para ambos escenarios, comúnmente se sigue el paradigma ETL (Extract, Transform, Load) para administrar la información en ellas. Por ejemplo, para las bases de datos operacionales, en donde algún proceso ingresa información a través de algún aplicativo, procesos ETL transforman la información desde y hacia el modelo de información propio de la base de datos.\n",
    "\n",
    "Esta es la manera menos moderna de realizar analítica sobre bases de datos, pues descansa sobre el hecho que la data necesita ser transformada a exactitud para guardarse en muchos servidores locales dispersos. Además, comúnmente no se separan las bases de datos operativas de las utilizadas para analítica, lo cual tiene un costo operativo significativo. \n",
    "\n",
    "**2. Fundamentos de almacenes de datos (Data Warehouse) para ciencia de datos.**\n",
    "\n",
    "Un ‘data warehouse’ es una solución más robusta para optimizar la accesibilidad y disponibilidad de datos almacenados en una organización. Un data warehouse es una serie de bases de datos en donde se guarda datos específicamente curados para llevar a cabo procesos analíticos. Para crearla, se combinan distintas bases de datos con una estructura de operación definida y optimizada. De manera similar, un ‘data lake’ es un repositorio para data estructurada y no estructurada. Tanto un data lake como un data warehouse puede estar compuesto de colecciones de bases de datos relacionales y no relacionales.\n",
    "\n",
    "Adicionalmente, es importante entender que, en una solución donde se involucre un data lake o un data warehouse, comúnmente se emplea el paradigma ELT (Extract, Transform, Load). Esencialmente, en este esquema, se utiliza un clúster NoSQL de almacenamiento para realizar transformaciones de data necesarias, dependiendo del consumo que se le dará. Primero, se ingesta la data hacia una plataforma clusterizada, tal como Hive sobre Hadoop, en una forma muy poco procesada. Luego, se transforma de distintas maneras previo a su consumo en procesos analíticos, e incluso se puede volver a transformar y guardar en algún otro data warehouse o publicar en el mismo data lake.\n",
    "\n",
    "**Fuentes consultadas:**\n",
    "\n",
    "Kane, F. (2017). Hands-on data science and python machine learning. Packt Publishing Ltd. Consultado el 3 de octubre del 2022 en https://learning.oreilly.com/library/view/sql-for-data/9781119669364/c01.xhtml#head-2-15.\n",
    "\n",
    "Metwalli, S. (2020). Databases 101: Introduction to Databases for Data Scientists. Towards Data Science. Consultado el 3 de octubre del 2022 en https://towardsdatascience.com/databases-101-introduction-to-databases-for-data-scientists-ee18c9f0785d.\n"
   ]
  },
  {
   "cell_type": "markdown",
   "metadata": {},
   "source": [
    "#### **2. Selección y Limpieza de los Datos**"
   ]
  },
  {
   "cell_type": "code",
   "execution_count": 1,
   "metadata": {},
   "outputs": [],
   "source": [
    "import pandas as pd\n",
    "import numpy as np"
   ]
  },
  {
   "cell_type": "markdown",
   "metadata": {},
   "source": [
    "Primero, comencemos cargando los datos del csv y revisando su estructura."
   ]
  },
  {
   "cell_type": "code",
   "execution_count": 2,
   "metadata": {},
   "outputs": [
    {
     "data": {
      "text/html": [
       "<div>\n",
       "<style scoped>\n",
       "    .dataframe tbody tr th:only-of-type {\n",
       "        vertical-align: middle;\n",
       "    }\n",
       "\n",
       "    .dataframe tbody tr th {\n",
       "        vertical-align: top;\n",
       "    }\n",
       "\n",
       "    .dataframe thead th {\n",
       "        text-align: right;\n",
       "    }\n",
       "</style>\n",
       "<table border=\"1\" class=\"dataframe\">\n",
       "  <thead>\n",
       "    <tr style=\"text-align: right;\">\n",
       "      <th></th>\n",
       "      <th>ID</th>\n",
       "      <th>X1</th>\n",
       "      <th>X2</th>\n",
       "      <th>X3</th>\n",
       "      <th>X4</th>\n",
       "      <th>X5</th>\n",
       "      <th>X6</th>\n",
       "      <th>X7</th>\n",
       "      <th>X8</th>\n",
       "      <th>X9</th>\n",
       "      <th>...</th>\n",
       "      <th>X15</th>\n",
       "      <th>X16</th>\n",
       "      <th>X17</th>\n",
       "      <th>X18</th>\n",
       "      <th>X19</th>\n",
       "      <th>X20</th>\n",
       "      <th>X21</th>\n",
       "      <th>X22</th>\n",
       "      <th>X23</th>\n",
       "      <th>Y</th>\n",
       "    </tr>\n",
       "  </thead>\n",
       "  <tbody>\n",
       "    <tr>\n",
       "      <th>0</th>\n",
       "      <td>1</td>\n",
       "      <td>20000</td>\n",
       "      <td>2.0</td>\n",
       "      <td>2.0</td>\n",
       "      <td>1.0</td>\n",
       "      <td>24.0</td>\n",
       "      <td>2.0</td>\n",
       "      <td>2.0</td>\n",
       "      <td>-1.0</td>\n",
       "      <td>-1.0</td>\n",
       "      <td>...</td>\n",
       "      <td>0.0</td>\n",
       "      <td>0.0</td>\n",
       "      <td>0.0</td>\n",
       "      <td>0.0</td>\n",
       "      <td>689.0</td>\n",
       "      <td>0.0</td>\n",
       "      <td>0.0</td>\n",
       "      <td>0.0</td>\n",
       "      <td>0.0</td>\n",
       "      <td>1.0</td>\n",
       "    </tr>\n",
       "    <tr>\n",
       "      <th>1</th>\n",
       "      <td>2</td>\n",
       "      <td>120000</td>\n",
       "      <td>2.0</td>\n",
       "      <td>2.0</td>\n",
       "      <td>2.0</td>\n",
       "      <td>26.0</td>\n",
       "      <td>-1.0</td>\n",
       "      <td>2.0</td>\n",
       "      <td>0.0</td>\n",
       "      <td>0.0</td>\n",
       "      <td>...</td>\n",
       "      <td>3272.0</td>\n",
       "      <td>3455.0</td>\n",
       "      <td>3261.0</td>\n",
       "      <td>0.0</td>\n",
       "      <td>1000.0</td>\n",
       "      <td>1000.0</td>\n",
       "      <td>1000.0</td>\n",
       "      <td>0.0</td>\n",
       "      <td>2000.0</td>\n",
       "      <td>1.0</td>\n",
       "    </tr>\n",
       "    <tr>\n",
       "      <th>2</th>\n",
       "      <td>3</td>\n",
       "      <td>90000</td>\n",
       "      <td>2.0</td>\n",
       "      <td>2.0</td>\n",
       "      <td>2.0</td>\n",
       "      <td>34.0</td>\n",
       "      <td>0.0</td>\n",
       "      <td>0.0</td>\n",
       "      <td>0.0</td>\n",
       "      <td>0.0</td>\n",
       "      <td>...</td>\n",
       "      <td>14331.0</td>\n",
       "      <td>14948.0</td>\n",
       "      <td>15549.0</td>\n",
       "      <td>1518.0</td>\n",
       "      <td>1500.0</td>\n",
       "      <td>1000.0</td>\n",
       "      <td>1000.0</td>\n",
       "      <td>1000.0</td>\n",
       "      <td>5000.0</td>\n",
       "      <td>0.0</td>\n",
       "    </tr>\n",
       "    <tr>\n",
       "      <th>3</th>\n",
       "      <td>4</td>\n",
       "      <td>50000</td>\n",
       "      <td>2.0</td>\n",
       "      <td>2.0</td>\n",
       "      <td>1.0</td>\n",
       "      <td>37.0</td>\n",
       "      <td>0.0</td>\n",
       "      <td>0.0</td>\n",
       "      <td>0.0</td>\n",
       "      <td>0.0</td>\n",
       "      <td>...</td>\n",
       "      <td>28314.0</td>\n",
       "      <td>28959.0</td>\n",
       "      <td>29547.0</td>\n",
       "      <td>2000.0</td>\n",
       "      <td>2019.0</td>\n",
       "      <td>1200.0</td>\n",
       "      <td>1100.0</td>\n",
       "      <td>1069.0</td>\n",
       "      <td>1000.0</td>\n",
       "      <td>0.0</td>\n",
       "    </tr>\n",
       "    <tr>\n",
       "      <th>4</th>\n",
       "      <td>5</td>\n",
       "      <td>50000</td>\n",
       "      <td>1.0</td>\n",
       "      <td>2.0</td>\n",
       "      <td>1.0</td>\n",
       "      <td>57.0</td>\n",
       "      <td>-1.0</td>\n",
       "      <td>0.0</td>\n",
       "      <td>-1.0</td>\n",
       "      <td>0.0</td>\n",
       "      <td>...</td>\n",
       "      <td>20940.0</td>\n",
       "      <td>19146.0</td>\n",
       "      <td>19131.0</td>\n",
       "      <td>2000.0</td>\n",
       "      <td>36681.0</td>\n",
       "      <td>10000.0</td>\n",
       "      <td>9000.0</td>\n",
       "      <td>689.0</td>\n",
       "      <td>679.0</td>\n",
       "      <td>0.0</td>\n",
       "    </tr>\n",
       "  </tbody>\n",
       "</table>\n",
       "<p>5 rows × 25 columns</p>\n",
       "</div>"
      ],
      "text/plain": [
       "   ID      X1   X2   X3   X4    X5   X6   X7   X8   X9  ...      X15      X16  \\\n",
       "0   1   20000  2.0  2.0  1.0  24.0  2.0  2.0 -1.0 -1.0  ...      0.0      0.0   \n",
       "1   2  120000  2.0  2.0  2.0  26.0 -1.0  2.0  0.0  0.0  ...   3272.0   3455.0   \n",
       "2   3   90000  2.0  2.0  2.0  34.0  0.0  0.0  0.0  0.0  ...  14331.0  14948.0   \n",
       "3   4   50000  2.0  2.0  1.0  37.0  0.0  0.0  0.0  0.0  ...  28314.0  28959.0   \n",
       "4   5   50000  1.0  2.0  1.0  57.0 -1.0  0.0 -1.0  0.0  ...  20940.0  19146.0   \n",
       "\n",
       "       X17     X18      X19      X20     X21     X22     X23    Y  \n",
       "0      0.0     0.0    689.0      0.0     0.0     0.0     0.0  1.0  \n",
       "1   3261.0     0.0   1000.0   1000.0  1000.0     0.0  2000.0  1.0  \n",
       "2  15549.0  1518.0   1500.0   1000.0  1000.0  1000.0  5000.0  0.0  \n",
       "3  29547.0  2000.0   2019.0   1200.0  1100.0  1069.0  1000.0  0.0  \n",
       "4  19131.0  2000.0  36681.0  10000.0  9000.0   689.0   679.0  0.0  \n",
       "\n",
       "[5 rows x 25 columns]"
      ]
     },
     "execution_count": 2,
     "metadata": {},
     "output_type": "execute_result"
    }
   ],
   "source": [
    "df = pd.read_csv(\"dataset.csv\")\n",
    "df.head()"
   ]
  },
  {
   "cell_type": "markdown",
   "metadata": {},
   "source": [
    "Ahora los tipos de datos con los cuales contamos, así como el total de filas y columnas."
   ]
  },
  {
   "cell_type": "code",
   "execution_count": 3,
   "metadata": {},
   "outputs": [
    {
     "name": "stdout",
     "output_type": "stream",
     "text": [
      "<class 'pandas.core.frame.DataFrame'>\n",
      "RangeIndex: 30000 entries, 0 to 29999\n",
      "Data columns (total 25 columns):\n",
      " #   Column  Non-Null Count  Dtype  \n",
      "---  ------  --------------  -----  \n",
      " 0   ID      30000 non-null  int64  \n",
      " 1   X1      30000 non-null  int64  \n",
      " 2   X2      29999 non-null  float64\n",
      " 3   X3      29998 non-null  float64\n",
      " 4   X4      29998 non-null  float64\n",
      " 5   X5      29995 non-null  float64\n",
      " 6   X6      29997 non-null  float64\n",
      " 7   X7      29995 non-null  float64\n",
      " 8   X8      29993 non-null  float64\n",
      " 9   X9      29991 non-null  float64\n",
      " 10  X10     29984 non-null  float64\n",
      " 11  X11     29986 non-null  float64\n",
      " 12  X12     29989 non-null  float64\n",
      " 13  X13     29989 non-null  float64\n",
      " 14  X14     29987 non-null  float64\n",
      " 15  X15     29985 non-null  float64\n",
      " 16  X16     29983 non-null  float64\n",
      " 17  X17     29990 non-null  float64\n",
      " 18  X18     29992 non-null  float64\n",
      " 19  X19     29991 non-null  float64\n",
      " 20  X20     29992 non-null  float64\n",
      " 21  X21     29989 non-null  float64\n",
      " 22  X22     29989 non-null  float64\n",
      " 23  X23     29995 non-null  float64\n",
      " 24  Y       29997 non-null  float64\n",
      "dtypes: float64(23), int64(2)\n",
      "memory usage: 5.7 MB\n"
     ]
    }
   ],
   "source": [
    "df.info()"
   ]
  },
  {
   "cell_type": "markdown",
   "metadata": {},
   "source": [
    "A continuación revisamos la presencia de valores vacíos en el conjunto de datos"
   ]
  },
  {
   "cell_type": "code",
   "execution_count": 4,
   "metadata": {},
   "outputs": [
    {
     "data": {
      "text/plain": [
       "True"
      ]
     },
     "execution_count": 4,
     "metadata": {},
     "output_type": "execute_result"
    }
   ],
   "source": [
    "df.isna().values.any()"
   ]
  },
  {
   "cell_type": "markdown",
   "metadata": {},
   "source": [
    "En el código siguiente revisamos cuáles de las columnas tiene datos vacíos. Como se observa, todas las columnas (a excepción de la columna X1) cuentan con valores vacíos."
   ]
  },
  {
   "cell_type": "code",
   "execution_count": 5,
   "metadata": {},
   "outputs": [
    {
     "data": {
      "text/plain": [
       "ID     False\n",
       "X1     False\n",
       "X2      True\n",
       "X3      True\n",
       "X4      True\n",
       "X5      True\n",
       "X6      True\n",
       "X7      True\n",
       "X8      True\n",
       "X9      True\n",
       "X10     True\n",
       "X11     True\n",
       "X12     True\n",
       "X13     True\n",
       "X14     True\n",
       "X15     True\n",
       "X16     True\n",
       "X17     True\n",
       "X18     True\n",
       "X19     True\n",
       "X20     True\n",
       "X21     True\n",
       "X22     True\n",
       "X23     True\n",
       "Y       True\n",
       "dtype: bool"
      ]
     },
     "execution_count": 5,
     "metadata": {},
     "output_type": "execute_result"
    }
   ],
   "source": [
    "df.isna().any()"
   ]
  },
  {
   "cell_type": "markdown",
   "metadata": {},
   "source": [
    "Ahora nos interesa saber cuántas filas dentro del conjunto de datos no tienen todos los datos completos. Esta información es útil para saber si tendría un impacto muy alto eliminar esas filas."
   ]
  },
  {
   "cell_type": "code",
   "execution_count": 7,
   "metadata": {},
   "outputs": [
    {
     "data": {
      "text/plain": [
       "42"
      ]
     },
     "execution_count": 7,
     "metadata": {},
     "output_type": "execute_result"
    }
   ],
   "source": [
    "df.shape[0] - df.dropna().shape[0]"
   ]
  },
  {
   "cell_type": "markdown",
   "metadata": {},
   "source": [
    "En el resultado anterior podemos observar que solo 42 filas, de un total de 30,000, tienen datos vacíos. Esto significa apenas un 0.14% del total, por lo que eliminarlos no tendría un impacto muy alto.\n",
    "\n",
    "Debido a lo anterior, ahora procedemos a eliminar las filas con valores vacíos."
   ]
  },
  {
   "cell_type": "code",
   "execution_count": 8,
   "metadata": {},
   "outputs": [],
   "source": [
    "df_copy = df.copy() #copiamos los datos para no manipular los originales\n",
    "df_copy.dropna(inplace=True)"
   ]
  },
  {
   "cell_type": "code",
   "execution_count": 9,
   "metadata": {},
   "outputs": [
    {
     "data": {
      "text/plain": [
       "(29958, 25)"
      ]
     },
     "execution_count": 9,
     "metadata": {},
     "output_type": "execute_result"
    }
   ],
   "source": [
    "df_copy.shape"
   ]
  },
  {
   "cell_type": "markdown",
   "metadata": {},
   "source": [
    "Ahora revisemos la consistencia de los datos, verificando que cada columna tenga los valores que le corresponde."
   ]
  },
  {
   "cell_type": "code",
   "execution_count": 10,
   "metadata": {},
   "outputs": [
    {
     "data": {
      "text/html": [
       "<div>\n",
       "<style scoped>\n",
       "    .dataframe tbody tr th:only-of-type {\n",
       "        vertical-align: middle;\n",
       "    }\n",
       "\n",
       "    .dataframe tbody tr th {\n",
       "        vertical-align: top;\n",
       "    }\n",
       "\n",
       "    .dataframe thead th {\n",
       "        text-align: right;\n",
       "    }\n",
       "</style>\n",
       "<table border=\"1\" class=\"dataframe\">\n",
       "  <thead>\n",
       "    <tr style=\"text-align: right;\">\n",
       "      <th></th>\n",
       "      <th>X2</th>\n",
       "      <th>X3</th>\n",
       "      <th>X4</th>\n",
       "    </tr>\n",
       "  </thead>\n",
       "  <tbody>\n",
       "    <tr>\n",
       "      <th>0.0</th>\n",
       "      <td>NaN</td>\n",
       "      <td>14</td>\n",
       "      <td>54.0</td>\n",
       "    </tr>\n",
       "    <tr>\n",
       "      <th>1.0</th>\n",
       "      <td>11863.0</td>\n",
       "      <td>10572</td>\n",
       "      <td>13643.0</td>\n",
       "    </tr>\n",
       "    <tr>\n",
       "      <th>2.0</th>\n",
       "      <td>18095.0</td>\n",
       "      <td>14009</td>\n",
       "      <td>15939.0</td>\n",
       "    </tr>\n",
       "    <tr>\n",
       "      <th>3.0</th>\n",
       "      <td>NaN</td>\n",
       "      <td>4909</td>\n",
       "      <td>322.0</td>\n",
       "    </tr>\n",
       "    <tr>\n",
       "      <th>4.0</th>\n",
       "      <td>NaN</td>\n",
       "      <td>123</td>\n",
       "      <td>NaN</td>\n",
       "    </tr>\n",
       "    <tr>\n",
       "      <th>5.0</th>\n",
       "      <td>NaN</td>\n",
       "      <td>280</td>\n",
       "      <td>NaN</td>\n",
       "    </tr>\n",
       "    <tr>\n",
       "      <th>6.0</th>\n",
       "      <td>NaN</td>\n",
       "      <td>51</td>\n",
       "      <td>NaN</td>\n",
       "    </tr>\n",
       "  </tbody>\n",
       "</table>\n",
       "</div>"
      ],
      "text/plain": [
       "          X2     X3       X4\n",
       "0.0      NaN     14     54.0\n",
       "1.0  11863.0  10572  13643.0\n",
       "2.0  18095.0  14009  15939.0\n",
       "3.0      NaN   4909    322.0\n",
       "4.0      NaN    123      NaN\n",
       "5.0      NaN    280      NaN\n",
       "6.0      NaN     51      NaN"
      ]
     },
     "execution_count": 10,
     "metadata": {},
     "output_type": "execute_result"
    }
   ],
   "source": [
    "attrs = [\"X2\", \"X3\", \"X4\"]\n",
    "attr_count = {}\n",
    "\n",
    "for attr in attrs:\n",
    "    attr_count[attr] = df_copy[[attr]].value_counts()\n",
    "    \n",
    "\n",
    "pd.DataFrame(attr_count)"
   ]
  },
  {
   "cell_type": "markdown",
   "metadata": {},
   "source": [
    "De la tabla anterior se puede observar lo siguiente:\n",
    "\n",
    "* La variable X2 (Género) solo tiene valores 1 y 2, lo cual es de esperarse según la información de los metadatos.\n",
    "* La variable X3 (Educación) tiene valores desde 0 hasta 6, cuando el rango esperado es de 1 a 4.\n",
    "* La variable X4 (Estado marital) tiene valores que van del 0 al 3, cuando el rango debe ser de 1 a 3.\n",
    "\n",
    "Ahora revisemos cuantos registros tienen tienen información incorrecta:"
   ]
  },
  {
   "cell_type": "code",
   "execution_count": 11,
   "metadata": {},
   "outputs": [
    {
     "data": {
      "text/plain": [
       "399"
      ]
     },
     "execution_count": 11,
     "metadata": {},
     "output_type": "execute_result"
    }
   ],
   "source": [
    "df_copy.shape[0] - df_copy.drop(df_copy[(df_copy.X3 > 4) | (df_copy.X3 == 0) | (df_copy.X4 == 0)].index).shape[0]"
   ]
  },
  {
   "cell_type": "markdown",
   "metadata": {},
   "source": [
    "Como se observa en el paso anterior, un total de 399 registros tienen información incorrecta. Como apenas representa cerca de un 1% del total de los datos, se procederá a eliminarlos."
   ]
  },
  {
   "cell_type": "code",
   "execution_count": 12,
   "metadata": {},
   "outputs": [
    {
     "data": {
      "text/plain": [
       "(29559, 25)"
      ]
     },
     "execution_count": 12,
     "metadata": {},
     "output_type": "execute_result"
    }
   ],
   "source": [
    "df_copy.drop(df_copy[(df_copy.X3 > 4) | (df_copy.X3 == 0) | (df_copy.X4 == 0)].index, inplace=True)\n",
    "df_copy.shape"
   ]
  },
  {
   "cell_type": "markdown",
   "metadata": {},
   "source": [
    "Luego de eliminados los datos, nos restan un total de 29,559 registros de los 30,000. Esto equivale al 98.53% de los datos.\n",
    "\n",
    "A continuación revisaremos la columna de las edades para verificar si la información es correcta."
   ]
  },
  {
   "cell_type": "code",
   "execution_count": 13,
   "metadata": {},
   "outputs": [
    {
     "data": {
      "text/plain": [
       "count    29559.000000\n",
       "mean        35.461957\n",
       "std          9.209596\n",
       "min         21.000000\n",
       "25%         28.000000\n",
       "50%         34.000000\n",
       "75%         41.000000\n",
       "max         79.000000\n",
       "Name: X5, dtype: float64"
      ]
     },
     "execution_count": 13,
     "metadata": {},
     "output_type": "execute_result"
    }
   ],
   "source": [
    "df_copy.X5.describe()"
   ]
  },
  {
   "cell_type": "markdown",
   "metadata": {},
   "source": [
    "De la información anterior se observa que la columna de edad tiene valores esperados. Por ejemplo, el valor mínimo es de 21, lo cual hace sentido ya que para obtener una tarjeta de crédito debe ser mayor de edad. También se observa que el valor máximo es 79 años, lo cual está dentro del rango de vida esperado para una persona.\n",
    "\n",
    "Ahora revisemos las variables X6 hasta X11, los cuales representan el histórico de pagos pasados. Según la información de los metadatos, la escala de posibles valores para este conjunto de datos debe ir desde -1 hasta 9, excluyendo el 0."
   ]
  },
  {
   "cell_type": "code",
   "execution_count": 14,
   "metadata": {},
   "outputs": [
    {
     "data": {
      "text/html": [
       "<div>\n",
       "<style scoped>\n",
       "    .dataframe tbody tr th:only-of-type {\n",
       "        vertical-align: middle;\n",
       "    }\n",
       "\n",
       "    .dataframe tbody tr th {\n",
       "        vertical-align: top;\n",
       "    }\n",
       "\n",
       "    .dataframe thead th {\n",
       "        text-align: right;\n",
       "    }\n",
       "</style>\n",
       "<table border=\"1\" class=\"dataframe\">\n",
       "  <thead>\n",
       "    <tr style=\"text-align: right;\">\n",
       "      <th></th>\n",
       "      <th>X6</th>\n",
       "      <th>X7</th>\n",
       "      <th>X8</th>\n",
       "      <th>X9</th>\n",
       "      <th>X10</th>\n",
       "      <th>X11</th>\n",
       "    </tr>\n",
       "  </thead>\n",
       "  <tbody>\n",
       "    <tr>\n",
       "      <th>-2.0</th>\n",
       "      <td>2707</td>\n",
       "      <td>3718</td>\n",
       "      <td>4024</td>\n",
       "      <td>4282</td>\n",
       "      <td>4474.0</td>\n",
       "      <td>4801.0</td>\n",
       "    </tr>\n",
       "    <tr>\n",
       "      <th>-1.0</th>\n",
       "      <td>5627</td>\n",
       "      <td>5982</td>\n",
       "      <td>5855</td>\n",
       "      <td>5611</td>\n",
       "      <td>5474.0</td>\n",
       "      <td>5665.0</td>\n",
       "    </tr>\n",
       "    <tr>\n",
       "      <th>0.0</th>\n",
       "      <td>14479</td>\n",
       "      <td>15455</td>\n",
       "      <td>15496</td>\n",
       "      <td>16180</td>\n",
       "      <td>16662.0</td>\n",
       "      <td>16033.0</td>\n",
       "    </tr>\n",
       "    <tr>\n",
       "      <th>1.0</th>\n",
       "      <td>3652</td>\n",
       "      <td>28</td>\n",
       "      <td>4</td>\n",
       "      <td>2</td>\n",
       "      <td>NaN</td>\n",
       "      <td>NaN</td>\n",
       "    </tr>\n",
       "    <tr>\n",
       "      <th>2.0</th>\n",
       "      <td>2635</td>\n",
       "      <td>3895</td>\n",
       "      <td>3794</td>\n",
       "      <td>3137</td>\n",
       "      <td>2609.0</td>\n",
       "      <td>2750.0</td>\n",
       "    </tr>\n",
       "    <tr>\n",
       "      <th>3.0</th>\n",
       "      <td>320</td>\n",
       "      <td>326</td>\n",
       "      <td>237</td>\n",
       "      <td>179</td>\n",
       "      <td>177.0</td>\n",
       "      <td>182.0</td>\n",
       "    </tr>\n",
       "    <tr>\n",
       "      <th>4.0</th>\n",
       "      <td>76</td>\n",
       "      <td>97</td>\n",
       "      <td>76</td>\n",
       "      <td>69</td>\n",
       "      <td>84.0</td>\n",
       "      <td>49.0</td>\n",
       "    </tr>\n",
       "    <tr>\n",
       "      <th>5.0</th>\n",
       "      <td>24</td>\n",
       "      <td>25</td>\n",
       "      <td>21</td>\n",
       "      <td>35</td>\n",
       "      <td>17.0</td>\n",
       "      <td>13.0</td>\n",
       "    </tr>\n",
       "    <tr>\n",
       "      <th>6.0</th>\n",
       "      <td>11</td>\n",
       "      <td>12</td>\n",
       "      <td>23</td>\n",
       "      <td>5</td>\n",
       "      <td>4.0</td>\n",
       "      <td>18.0</td>\n",
       "    </tr>\n",
       "    <tr>\n",
       "      <th>7.0</th>\n",
       "      <td>9</td>\n",
       "      <td>20</td>\n",
       "      <td>27</td>\n",
       "      <td>57</td>\n",
       "      <td>57.0</td>\n",
       "      <td>46.0</td>\n",
       "    </tr>\n",
       "    <tr>\n",
       "      <th>8.0</th>\n",
       "      <td>19</td>\n",
       "      <td>1</td>\n",
       "      <td>2</td>\n",
       "      <td>2</td>\n",
       "      <td>1.0</td>\n",
       "      <td>2.0</td>\n",
       "    </tr>\n",
       "  </tbody>\n",
       "</table>\n",
       "</div>"
      ],
      "text/plain": [
       "         X6     X7     X8     X9      X10      X11\n",
       "-2.0   2707   3718   4024   4282   4474.0   4801.0\n",
       "-1.0   5627   5982   5855   5611   5474.0   5665.0\n",
       " 0.0  14479  15455  15496  16180  16662.0  16033.0\n",
       " 1.0   3652     28      4      2      NaN      NaN\n",
       " 2.0   2635   3895   3794   3137   2609.0   2750.0\n",
       " 3.0    320    326    237    179    177.0    182.0\n",
       " 4.0     76     97     76     69     84.0     49.0\n",
       " 5.0     24     25     21     35     17.0     13.0\n",
       " 6.0     11     12     23      5      4.0     18.0\n",
       " 7.0      9     20     27     57     57.0     46.0\n",
       " 8.0     19      1      2      2      1.0      2.0"
      ]
     },
     "execution_count": 14,
     "metadata": {},
     "output_type": "execute_result"
    }
   ],
   "source": [
    "attrs = [\"X6\", \"X7\", \"X8\", \"X9\", \"X10\", \"X11\"]\n",
    "attr_count = {}\n",
    "\n",
    "for attr in attrs:\n",
    "    attr_count[attr] = df_copy[[attr]].value_counts()\n",
    "    \n",
    "\n",
    "pd.DataFrame(attr_count)"
   ]
  },
  {
   "cell_type": "markdown",
   "metadata": {},
   "source": [
    "De la información anterior se observa que hay muchos valores fuera de la escala permitida. Por ejemplo, todas las columnas tienen valores de -2 y 0, cuando la escala no permite estos valores. Debido a la cantidad de registros con información errónea (un pooco más de 50%), no se recomienda reemplazar o eliminar valores. \n",
    "\n",
    "La mejor estrategia a seguir en este caso es revisar el método de recolección de información, o bien, consultar con algún experto en el tema sobre la posibilidad de hacer sustituciones (por ejemplo, considerar -2 y 0 como -1).\n",
    "\n",
    "Ahora revisemos las variables X12 a X17, las cuales representan el estado de cuenta por mes."
   ]
  },
  {
   "cell_type": "code",
   "execution_count": 15,
   "metadata": {},
   "outputs": [
    {
     "data": {
      "text/html": [
       "<div>\n",
       "<style scoped>\n",
       "    .dataframe tbody tr th:only-of-type {\n",
       "        vertical-align: middle;\n",
       "    }\n",
       "\n",
       "    .dataframe tbody tr th {\n",
       "        vertical-align: top;\n",
       "    }\n",
       "\n",
       "    .dataframe thead th {\n",
       "        text-align: right;\n",
       "    }\n",
       "</style>\n",
       "<table border=\"1\" class=\"dataframe\">\n",
       "  <thead>\n",
       "    <tr style=\"text-align: right;\">\n",
       "      <th></th>\n",
       "      <th>X12</th>\n",
       "      <th>X13</th>\n",
       "      <th>X14</th>\n",
       "      <th>X15</th>\n",
       "      <th>X16</th>\n",
       "      <th>X17</th>\n",
       "    </tr>\n",
       "  </thead>\n",
       "  <tbody>\n",
       "    <tr>\n",
       "      <th>count</th>\n",
       "      <td>29559.000000</td>\n",
       "      <td>29559.000000</td>\n",
       "      <td>2.955900e+04</td>\n",
       "      <td>29559.000000</td>\n",
       "      <td>29559.000000</td>\n",
       "      <td>29559.000000</td>\n",
       "    </tr>\n",
       "    <tr>\n",
       "      <th>mean</th>\n",
       "      <td>50982.177814</td>\n",
       "      <td>48963.560743</td>\n",
       "      <td>4.682240e+04</td>\n",
       "      <td>43138.962313</td>\n",
       "      <td>40253.258365</td>\n",
       "      <td>38876.841470</td>\n",
       "    </tr>\n",
       "    <tr>\n",
       "      <th>std</th>\n",
       "      <td>73409.715123</td>\n",
       "      <td>70961.804952</td>\n",
       "      <td>6.916009e+04</td>\n",
       "      <td>64228.552285</td>\n",
       "      <td>60728.731274</td>\n",
       "      <td>59549.029384</td>\n",
       "    </tr>\n",
       "    <tr>\n",
       "      <th>min</th>\n",
       "      <td>-165580.000000</td>\n",
       "      <td>-69777.000000</td>\n",
       "      <td>-1.572640e+05</td>\n",
       "      <td>-170000.000000</td>\n",
       "      <td>-81334.000000</td>\n",
       "      <td>-339603.000000</td>\n",
       "    </tr>\n",
       "    <tr>\n",
       "      <th>25%</th>\n",
       "      <td>3528.000000</td>\n",
       "      <td>2969.000000</td>\n",
       "      <td>2.652000e+03</td>\n",
       "      <td>2329.000000</td>\n",
       "      <td>1778.500000</td>\n",
       "      <td>1278.000000</td>\n",
       "    </tr>\n",
       "    <tr>\n",
       "      <th>50%</th>\n",
       "      <td>22241.000000</td>\n",
       "      <td>21044.000000</td>\n",
       "      <td>2.003300e+04</td>\n",
       "      <td>19000.000000</td>\n",
       "      <td>18091.000000</td>\n",
       "      <td>17112.000000</td>\n",
       "    </tr>\n",
       "    <tr>\n",
       "      <th>75%</th>\n",
       "      <td>66671.500000</td>\n",
       "      <td>63575.000000</td>\n",
       "      <td>5.984450e+04</td>\n",
       "      <td>54277.500000</td>\n",
       "      <td>50090.500000</td>\n",
       "      <td>49153.500000</td>\n",
       "    </tr>\n",
       "    <tr>\n",
       "      <th>max</th>\n",
       "      <td>964511.000000</td>\n",
       "      <td>983931.000000</td>\n",
       "      <td>1.664089e+06</td>\n",
       "      <td>891586.000000</td>\n",
       "      <td>927171.000000</td>\n",
       "      <td>961664.000000</td>\n",
       "    </tr>\n",
       "  </tbody>\n",
       "</table>\n",
       "</div>"
      ],
      "text/plain": [
       "                 X12            X13           X14            X15  \\\n",
       "count   29559.000000   29559.000000  2.955900e+04   29559.000000   \n",
       "mean    50982.177814   48963.560743  4.682240e+04   43138.962313   \n",
       "std     73409.715123   70961.804952  6.916009e+04   64228.552285   \n",
       "min   -165580.000000  -69777.000000 -1.572640e+05 -170000.000000   \n",
       "25%      3528.000000    2969.000000  2.652000e+03    2329.000000   \n",
       "50%     22241.000000   21044.000000  2.003300e+04   19000.000000   \n",
       "75%     66671.500000   63575.000000  5.984450e+04   54277.500000   \n",
       "max    964511.000000  983931.000000  1.664089e+06  891586.000000   \n",
       "\n",
       "                 X16            X17  \n",
       "count   29559.000000   29559.000000  \n",
       "mean    40253.258365   38876.841470  \n",
       "std     60728.731274   59549.029384  \n",
       "min    -81334.000000 -339603.000000  \n",
       "25%      1778.500000    1278.000000  \n",
       "50%     18091.000000   17112.000000  \n",
       "75%     50090.500000   49153.500000  \n",
       "max    927171.000000  961664.000000  "
      ]
     },
     "execution_count": 15,
     "metadata": {},
     "output_type": "execute_result"
    }
   ],
   "source": [
    "attrs = [\"X12\", \"X13\", \"X14\", \"X15\", \"X16\", \"X17\"]\n",
    "stats_df = pd.DataFrame(columns = attrs)\n",
    "\n",
    "for attr in attrs:\n",
    "    stats_df[attr] = df_copy[[attr]].describe()\n",
    "    \n",
    "stats_df"
   ]
  },
  {
   "cell_type": "markdown",
   "metadata": {},
   "source": [
    "De los datos anteriores se observan valores negativos. Esto podría indicar saldo a favor del cliente de la tarjeta. Sin embargo, es recomendable consultar con un experto en el tema sobre el significado de los valores negativos.\n",
    "\n",
    "Ahora hagamos lo mismo para las variables X18 a X23, las cuales representan el monto pagado en el periodo anterior."
   ]
  },
  {
   "cell_type": "code",
   "execution_count": 16,
   "metadata": {},
   "outputs": [
    {
     "data": {
      "text/html": [
       "<div>\n",
       "<style scoped>\n",
       "    .dataframe tbody tr th:only-of-type {\n",
       "        vertical-align: middle;\n",
       "    }\n",
       "\n",
       "    .dataframe tbody tr th {\n",
       "        vertical-align: top;\n",
       "    }\n",
       "\n",
       "    .dataframe thead th {\n",
       "        text-align: right;\n",
       "    }\n",
       "</style>\n",
       "<table border=\"1\" class=\"dataframe\">\n",
       "  <thead>\n",
       "    <tr style=\"text-align: right;\">\n",
       "      <th></th>\n",
       "      <th>X18</th>\n",
       "      <th>X19</th>\n",
       "      <th>X20</th>\n",
       "      <th>X21</th>\n",
       "      <th>X22</th>\n",
       "      <th>X23</th>\n",
       "    </tr>\n",
       "  </thead>\n",
       "  <tbody>\n",
       "    <tr>\n",
       "      <th>count</th>\n",
       "      <td>29559.000000</td>\n",
       "      <td>2.955900e+04</td>\n",
       "      <td>29559.000000</td>\n",
       "      <td>29559.000000</td>\n",
       "      <td>29559.000000</td>\n",
       "      <td>29559.000000</td>\n",
       "    </tr>\n",
       "    <tr>\n",
       "      <th>mean</th>\n",
       "      <td>5650.588315</td>\n",
       "      <td>5.899364e+03</td>\n",
       "      <td>5201.162725</td>\n",
       "      <td>4832.510877</td>\n",
       "      <td>4797.148753</td>\n",
       "      <td>5186.553537</td>\n",
       "    </tr>\n",
       "    <tr>\n",
       "      <th>std</th>\n",
       "      <td>16573.889188</td>\n",
       "      <td>2.310455e+04</td>\n",
       "      <td>17591.414381</td>\n",
       "      <td>15721.273274</td>\n",
       "      <td>15251.530482</td>\n",
       "      <td>17668.852466</td>\n",
       "    </tr>\n",
       "    <tr>\n",
       "      <th>min</th>\n",
       "      <td>0.000000</td>\n",
       "      <td>0.000000e+00</td>\n",
       "      <td>0.000000</td>\n",
       "      <td>0.000000</td>\n",
       "      <td>0.000000</td>\n",
       "      <td>0.000000</td>\n",
       "    </tr>\n",
       "    <tr>\n",
       "      <th>25%</th>\n",
       "      <td>1000.000000</td>\n",
       "      <td>8.270000e+02</td>\n",
       "      <td>390.000000</td>\n",
       "      <td>298.500000</td>\n",
       "      <td>259.000000</td>\n",
       "      <td>138.000000</td>\n",
       "    </tr>\n",
       "    <tr>\n",
       "      <th>50%</th>\n",
       "      <td>2100.000000</td>\n",
       "      <td>2.007000e+03</td>\n",
       "      <td>1800.000000</td>\n",
       "      <td>1500.000000</td>\n",
       "      <td>1500.000000</td>\n",
       "      <td>1500.000000</td>\n",
       "    </tr>\n",
       "    <tr>\n",
       "      <th>75%</th>\n",
       "      <td>5005.000000</td>\n",
       "      <td>5.000000e+03</td>\n",
       "      <td>4500.000000</td>\n",
       "      <td>4016.000000</td>\n",
       "      <td>4055.500000</td>\n",
       "      <td>4000.000000</td>\n",
       "    </tr>\n",
       "    <tr>\n",
       "      <th>max</th>\n",
       "      <td>873552.000000</td>\n",
       "      <td>1.684259e+06</td>\n",
       "      <td>896040.000000</td>\n",
       "      <td>621000.000000</td>\n",
       "      <td>426529.000000</td>\n",
       "      <td>528666.000000</td>\n",
       "    </tr>\n",
       "  </tbody>\n",
       "</table>\n",
       "</div>"
      ],
      "text/plain": [
       "                 X18           X19            X20            X21  \\\n",
       "count   29559.000000  2.955900e+04   29559.000000   29559.000000   \n",
       "mean     5650.588315  5.899364e+03    5201.162725    4832.510877   \n",
       "std     16573.889188  2.310455e+04   17591.414381   15721.273274   \n",
       "min         0.000000  0.000000e+00       0.000000       0.000000   \n",
       "25%      1000.000000  8.270000e+02     390.000000     298.500000   \n",
       "50%      2100.000000  2.007000e+03    1800.000000    1500.000000   \n",
       "75%      5005.000000  5.000000e+03    4500.000000    4016.000000   \n",
       "max    873552.000000  1.684259e+06  896040.000000  621000.000000   \n",
       "\n",
       "                 X22            X23  \n",
       "count   29559.000000   29559.000000  \n",
       "mean     4797.148753    5186.553537  \n",
       "std     15251.530482   17668.852466  \n",
       "min         0.000000       0.000000  \n",
       "25%       259.000000     138.000000  \n",
       "50%      1500.000000    1500.000000  \n",
       "75%      4055.500000    4000.000000  \n",
       "max    426529.000000  528666.000000  "
      ]
     },
     "execution_count": 16,
     "metadata": {},
     "output_type": "execute_result"
    }
   ],
   "source": [
    "attrs = [\"X18\", \"X19\", \"X20\", \"X21\", \"X22\", \"X23\"]\n",
    "stats_df = pd.DataFrame(columns = attrs)\n",
    "\n",
    "for attr in attrs:\n",
    "    stats_df[attr] = df_copy[[attr]].describe()\n",
    "    \n",
    "stats_df"
   ]
  },
  {
   "cell_type": "markdown",
   "metadata": {},
   "source": [
    "Para las variables anteriores no se observan valores anormales o que deban ser revisados."
   ]
  },
  {
   "cell_type": "markdown",
   "metadata": {},
   "source": [
    "#### **3. Preparación de los Datos** "
   ]
  },
  {
   "cell_type": "markdown",
   "metadata": {},
   "source": [
    "**1. ¿Qué datos considero mas importantes? ¿Por qué?**\n",
    "\n",
    "Debido a que aún no existe información sobre la relación de las diferentes variables con la probabilidad de default, se consideraron todos los datos igual de importantes. Aún no sabemos cuál de estas variables es o no significativa para la predicción de la variable de respuesta.\n",
    "\n",
    "Se podría considerar correr algunas pruebas estadísticas exploratorias para determinar que tan estrecha es la relación de cada atributo con la variable de respuesta, y en función de eso determinar si alguna vale o no la pena eliminar del conjunto de datos.\n",
    "\n",
    "**2. ¿Se eliminaron o reemplazaron los datos nulos? ¿Qué se hizo y por qué?**\n",
    "\n",
    "Los datos nulos fueron eliminados debido a que eran muy pocos (apenas 42 registros de 30,000). Eliminar esos registros no impactará considerablemente al momento de usar el dataset.\n",
    "\n",
    "**3. ¿Es necesario ordenar los datos para el análisis? Sí / No / ¿Por qué?**\n",
    "\n",
    "Si, es necesario limpiar los datos previo al análisis. Como dice el dicho \"Basura entra, basura sale\". \n",
    "\n",
    "Lo anterior significa que si tenemos datos que no han sido limpiados previamente, el modelo que obtengamos no será adecuado, y por tanto los resultados que obtengamos del análisis de estos datos no serán adecuados. Todo esto provocará que las decisiones que tomemos no sean confiables.\n",
    "\n",
    "Con relación a contar con un orden específico de los datos, esto no es necesario para el análisis, puesto que el orden no afecta los resultados del análisis. El orden tiene un impacto solo para el cálculo de la mediana.\n",
    "\n",
    "**4. ¿Existen problemas de formato que deban solucionar antes del proceso de modelado? Sí / No / Por qué.**\n",
    "\n",
    "Si. Por ejemplo, las columnas X2 a X4 contienen valores erróneos. También pasa lo mismo con las columnas X6 a X11. Estos problemas deben solucionarse antes de crear el modelo, puesto que de no hacerse el algortimo estaría aprendiendo sobre datos erróneos.\n",
    "\n",
    "En el caso de las columnas X2 a X4, la cantidad de filas afectadas no son muchas y pueden eliminarse. Pero para las columnas X6 a X11 la cantidad de filas es considerable, por lo que es necesario revisar estos datos con un experto de dominio para definir la mejor estrategia a seguir.\n",
    "\n",
    "Otro aspecto a destacar es que existen columnas de variables categóricas que se están importando como variables continuas. Previo al modelado es importante convertir estas columnas a un tipo de dato categórico.\n",
    "\n",
    "**5. ¿Qué ajustes se realizaron en el proceso de limpieza de datos (agregar, integrar, eliminar, modificar registros (filas), cambiar atributos (columnas)?**\n",
    "\n",
    "Se realizaron las siguientes acciones:\n",
    "\n",
    "* Se eliminaron las filas con datos erróneos para las columnas X2 a X4, por representar apenas un 1% del total del conjunto de datos.\n",
    "* Se eliminaron las filas con valores vacíos, por solo representar apenas un 0.15% del total del conjunto de datos.\n",
    "* Se recomienda consultar con expertos de dominio sobre los valores erróneos para las columnas X6 a X11 para determinar la mejor forma de proceder (por ejemplo, sustituir los datos, obtener nuevos datos, etc)\n",
    "* Se recomienda consultar con expertos de dominios el significado de los valores negativos para las variables X12 a X17."
   ]
  }
 ],
 "metadata": {
  "kernelspec": {
   "display_name": "Python 3 (ipykernel)",
   "language": "python",
   "name": "python3"
  },
  "language_info": {
   "codemirror_mode": {
    "name": "ipython",
    "version": 3
   },
   "file_extension": ".py",
   "mimetype": "text/x-python",
   "name": "python",
   "nbconvert_exporter": "python",
   "pygments_lexer": "ipython3",
   "version": "3.10.6"
  },
  "vscode": {
   "interpreter": {
    "hash": "63d64dcca26c8f38dc74dfb30b84aa8ff37e5fe5c37e0e01ae8e43a31d3267cd"
   }
  }
 },
 "nbformat": 4,
 "nbformat_minor": 2
}
