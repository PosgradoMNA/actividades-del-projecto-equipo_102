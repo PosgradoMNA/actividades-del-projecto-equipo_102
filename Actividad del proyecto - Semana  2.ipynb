{
 "cells": [
  {
   "cell_type": "markdown",
   "metadata": {},
   "source": [
    "# **Proyecto Final - Ciencia de Datos**"
   ]
  },
  {
   "cell_type": "markdown",
   "metadata": {},
   "source": [
    "**Integrantes del Equipo:**\n",
    "\n",
    "* Matthias Sibrian - A01794249 \n",
    "* Rafael J Mateo - A01793054"
   ]
  },
  {
   "cell_type": "markdown",
   "metadata": {},
   "source": [
    "### **Metodología Seleccionada**"
   ]
  },
  {
   "cell_type": "markdown",
   "metadata": {},
   "source": [
    "La metodología seleccionada para este proyecto es CRISP-DM. A continuación se describen los pasos de esta metodología:\n",
    "\n",
    "* **Entendimiento del Negocio o Problema:** En esta etapa se identifican las necesidades del negocio, así como los objetivos y metas concretas que se quieren lograr con el proyecto. En esta etapa también se determinan los riesgos, supuestos e involucrados claves del resultado del proyecto. Por ejemplo, en nuestro proyecto, el objetivo del estudio es construir un modelo que permita predecir el peso y/o nivel de obsesidad de una persona, en función de su estilo de vida.\n",
    "\n",
    "* **Entendimiento de los Datos:** Esta etapa tiene como objetivo explorar los datos con los que se cuentan por medio de gráficos u otras técnicas. También se determina el nivel de esfuerzo que se debe realizar limpiando y preparando los datos. A modo de ejemplo, en nuestro proyecto se pueden generar gráficos para evaluar la relación entre las variables, confirmar la existencia de valores atípicos, revisar la distribución de los datos, etc.\n",
    "\n",
    "* **Preparación de los Datos:** Este paso consiste en preparar el conjunto de datos para la construcción del modelo. Es en esta etapa donde se decidirá para nuestro proyecto la necesidad de normalizar los datos, convertir variables categóricas y el manejo con valores atípicos, en caso de existir.\n",
    "\n",
    "* **Construcción del Modelo:** En esta etapa se selecciona la técnica de modelado. En el caso de nuestro proyecto, la variable de respuesta puede ser tanto discreta (por ejm, predecir el nivel de obsesidad) como continua (predecir el peso). En función del tipo de variable se determinará si se utilizará un modelo de clasificación o de regresión.\n",
    "\n",
    "* **Evaluación:** En este paso se evalúan los resultados del modelo para determinar si cumplen los objetivos definidos inicialmente. También en esta etapa se puede consultar a expertos en el tema (por ejemplo, nutricionistas, doctores, etc) para que evalúen si los datos arrojados por el modelo son correctos y/o razonables.\n",
    "\n",
    "* **Despliegue:** En esta etapa se procede a publicar el modelo para su uso por parte de los grupos de interés. Por ejemplo, en nuestro proyecto se pueden considerar la elaboración de informes, la creación de una aplicación web para el uso de nutricionistas, doctores, personal que trabaje en el sector salud o cualquier público en general interesado en predecir su peso. "
   ]
  },
  {
   "cell_type": "markdown",
   "metadata": {},
   "source": [
    "### **Diagrama Proceso CRISP-DM**"
   ]
  },
  {
   "cell_type": "markdown",
   "metadata": {},
   "source": [
    "![Diagrama Crisp-DM](imagenes/proceso-crisp-dm.png \"Diagrama CRISP - DM\")"
   ]
  }
 ],
 "metadata": {
  "kernelspec": {
   "display_name": "Python 3.9.7 ('base')",
   "language": "python",
   "name": "python3"
  },
  "language_info": {
   "name": "python",
   "version": "3.9.7"
  },
  "orig_nbformat": 4,
  "vscode": {
   "interpreter": {
    "hash": "a45cc4a1e8f4356b8744a09c08687f3a5162f6e6540e2de8bac6b2366a25a49e"
   }
  }
 },
 "nbformat": 4,
 "nbformat_minor": 2
}
