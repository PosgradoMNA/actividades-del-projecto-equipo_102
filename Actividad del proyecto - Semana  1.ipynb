{
  "cells": [
    {
      "cell_type": "markdown",
      "metadata": {
        "colab_type": "text",
        "id": "view-in-github"
      },
      "source": [
        "<a href=\"https://colab.research.google.com/github/tec03/ParaAssignment01-/blob/main/assignment01.ipynb\" target=\"_parent\"><img src=\"https://colab.research.google.com/assets/colab-badge.svg\" alt=\"Open In Colab\"/></a>"
      ]
    },
    {
      "cell_type": "markdown",
      "metadata": {},
      "source": [
        "# **Proyecto Final - Ciencia de Datos**"
      ]
    },
    {
      "cell_type": "markdown",
      "metadata": {},
      "source": [
        "**Integrantes del Equipo:**\n",
        "\n",
        "* Matthias Sibrian - A01794249 \n",
        "* Rafael J Mateo - A01793054"
      ]
    },
    {
      "cell_type": "markdown",
      "metadata": {},
      "source": [
        "### **Información del Conjunto de Datos**"
      ]
    },
    {
      "cell_type": "markdown",
      "metadata": {
        "colab": {
          "base_uri": "https://localhost:8080/"
        },
        "id": "LzUSMM79NR9P",
        "outputId": "0e6cb421-1096-426a-b31a-f61d059def81"
      },
      "source": [
        "* **Nombre del Conjunto de Datos:** \"Dataset for estimation of obesity levels based on eating habits and physical condition in individuals from Colombia, Peru and Mexico\"\n",
        "\n",
        "* **Generado por:** Universidad de la Costa (CUC), Colombia\n",
        "\n",
        "* **URL del conjunto de datos:** https://archive-beta.ics.uci.edu/ml/datasets/estimation+of+obesity+levels+based+on+eating+habits+and+physical+condition#Abstract\n",
        "\n",
        "* **Descripción del Conjunto de Datos:** Los datos contienen 17 atributos y 2111 registros con información para estimar los niveles de obsesidad. Estos datos provienen de tres localidades: Colombia, México y Perú de personas con edades entre 14 - 61 años y diferentes hábitos alimenticios y condiciones físicas. A continuación se presenta una tabla con los atributos del dataset:\n",
        "\n",
        "    **Atributo**|**Definición**|**Tipo de Datos**\n",
        "    :-----:|:-----:|:-----:\n",
        "    FAVC |Frequency of Consumption of High Caloric Food|Discrete\n",
        "    FCVC|Frequency of Consumption of Vegetables|Discrete\n",
        "    NCP|Number of main meals|Discrete\n",
        "    CAEC|Consumption of food between meals|Discrete\n",
        "    CH20|Consumption of water daily|Discrete\n",
        "    CALC|Consumption of alcohol|Discrete\n",
        "    SCC|Calories Consumption Monitoring|Discrete\n",
        "    FAF|Physical Activity Frequency|Discrete\n",
        "    TUE|Time using technology devices|Discrete\n",
        "    MTRANS|Transportation use|Discrete\n",
        "    Gender|Male or Female|Discrete \n",
        "    Age|Age of the participant|Variable\n",
        "    Height|Height of the participant|Variable\n",
        "    Weight|Weight of the participant|Variable\n",
        "    SMOKE|Smoker or Non Smoker|Discrete\n",
        "    family\\_history\\_with\\_overweight|Relatives of the participant have overweight|Discrete\n",
        "    NObesity|Obesity type|Discrete\n",
        "\n",
        "    <br>\n",
        "\n",
        "* **Preguntas de Investigación:**\n",
        "\n",
        "    1.\t¿Cuál es el impacto del medio de transporte en el peso de la persona?\n",
        "\n",
        "    2.\t¿Cuál género es más propenso a desarrollar obesidad?\n",
        "    \n",
        "    3.\t¿Hay alguna incidencia entre las personas que fuman y consumen alchohol y su peso?\n",
        "\n",
        "    4.\t¿Puede la edad contribuir al aumento de peso en las personas?\n",
        "\n",
        "    5.\tTienen las personas con historial de familas sobrepeso mayor riesgo a desarrollar sobrepeso?\n",
        "\n",
        "    6.\t¿Tiene el consumo de agua alguna relación con el peso de las personas?\n",
        "\n",
        "    7.\t¿Hay una relación entre el monitoreo de consumo de calorías y el peso de la persona?\n",
        "\n",
        "    8.\t¿Son estos atributos suficientes para predecir el peso de una persona? Qué tan bien explica el modelo la variación del peso de las personas?\n",
        "\n",
        "* **Qué actor estaría interesado en las preguntas mencionadas que identificó?:** Posibles usuarios o interesados en la investigación son: Ministerios de Salud de Colombia, México y Perú, Gremios y/o asociaiones médicas, la Organización Mundial de la Salud (OMS) y la Federación Latinoamericana de Sociedades de Obesidad (FLASO)."
      ]
    },
    {
      "cell_type": "code",
      "execution_count": null,
      "metadata": {
        "id": "mxM_WppZPMFx"
      },
      "outputs": [],
      "source": []
    }
  ],
  "metadata": {
    "colab": {
      "include_colab_link": true,
      "name": "assignment01.ipynb",
      "provenance": []
    },
    "kernelspec": {
      "display_name": "Python 3",
      "name": "python3"
    },
    "language_info": {
      "name": "python"
    }
  },
  "nbformat": 4,
  "nbformat_minor": 0
}
