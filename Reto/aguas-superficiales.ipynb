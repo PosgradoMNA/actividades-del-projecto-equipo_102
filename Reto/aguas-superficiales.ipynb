{
 "cells": [
  {
   "cell_type": "code",
   "execution_count": 28,
   "metadata": {},
   "outputs": [],
   "source": [
    "import pandas as pd\n",
    "import seaborn as sns\n",
    "import numpy as np\n",
    "import matplotlib.pyplot as plt"
   ]
  },
  {
   "cell_type": "code",
   "execution_count": 24,
   "metadata": {},
   "outputs": [],
   "source": [
    "df = pd.read_csv(r'datos\\aguas_superficiales_2020.csv', sep=',') #se importa la data\n"
   ]
  },
  {
   "cell_type": "code",
   "execution_count": 34,
   "metadata": {},
   "outputs": [
    {
     "data": {
      "text/html": [
       "<div>\n",
       "<style scoped>\n",
       "    .dataframe tbody tr th:only-of-type {\n",
       "        vertical-align: middle;\n",
       "    }\n",
       "\n",
       "    .dataframe tbody tr th {\n",
       "        vertical-align: top;\n",
       "    }\n",
       "\n",
       "    .dataframe thead th {\n",
       "        text-align: right;\n",
       "    }\n",
       "</style>\n",
       "<table border=\"1\" class=\"dataframe\">\n",
       "  <thead>\n",
       "    <tr style=\"text-align: right;\">\n",
       "      <th></th>\n",
       "      <th>CLAVE</th>\n",
       "      <th>SITIO</th>\n",
       "      <th>ORGANISMO_DE_CUENCA</th>\n",
       "      <th>ESTADO</th>\n",
       "      <th>MUNICIPIO</th>\n",
       "      <th>CUENCA</th>\n",
       "      <th>CUERPO DE AGUA</th>\n",
       "      <th>TIPO</th>\n",
       "      <th>SUBTIPO</th>\n",
       "      <th>LONGITUD</th>\n",
       "      <th>...</th>\n",
       "      <th>CONTAMINANTES</th>\n",
       "      <th>CUMPLE_CON_DBO</th>\n",
       "      <th>CUMPLE_CON_DQO</th>\n",
       "      <th>CUMPLE_CON_SST</th>\n",
       "      <th>CUMPLE_CON_CF</th>\n",
       "      <th>CUMPLE_CON_E_COLI</th>\n",
       "      <th>CUMPLE_CON_ENTEROC</th>\n",
       "      <th>CUMPLE_CON_OD</th>\n",
       "      <th>CUMPLE_CON_TOX</th>\n",
       "      <th>GRUPO</th>\n",
       "    </tr>\n",
       "  </thead>\n",
       "  <tbody>\n",
       "    <tr>\n",
       "      <th>0</th>\n",
       "      <td>DLAGU8</td>\n",
       "      <td>PRESA EL SAUCILLO 100M AGUAS ARRIBA DE LA CORTINA</td>\n",
       "      <td>LERMA SANTIAGO PACIFICO</td>\n",
       "      <td>AGUASCALIENTES</td>\n",
       "      <td>RINCON DE ROMOS</td>\n",
       "      <td>RIO SAN PEDRO</td>\n",
       "      <td>PRESA EL SAUCILLO</td>\n",
       "      <td>LENTICO</td>\n",
       "      <td>PRESA</td>\n",
       "      <td>-102.33911</td>\n",
       "      <td>...</td>\n",
       "      <td>DQO,CF,</td>\n",
       "      <td>SI</td>\n",
       "      <td>NO</td>\n",
       "      <td>SI</td>\n",
       "      <td>NO</td>\n",
       "      <td>SI</td>\n",
       "      <td>ND</td>\n",
       "      <td>SI</td>\n",
       "      <td>SI</td>\n",
       "      <td>LENTICO</td>\n",
       "    </tr>\n",
       "    <tr>\n",
       "      <th>1</th>\n",
       "      <td>DLBAJ100</td>\n",
       "      <td>LOS CABOS SEG 22, 2 ISA10B</td>\n",
       "      <td>PENINSULA DE BAJA CALIFORNIA</td>\n",
       "      <td>BAJA CALIFORNIA SUR</td>\n",
       "      <td>LOS CABOS</td>\n",
       "      <td>SAN JOSE DEL CABO</td>\n",
       "      <td>OCEANO PACIFICO</td>\n",
       "      <td>COSTERO</td>\n",
       "      <td>OCEANO-MAR</td>\n",
       "      <td>-109.84290</td>\n",
       "      <td>...</td>\n",
       "      <td>NaN</td>\n",
       "      <td>ND</td>\n",
       "      <td>ND</td>\n",
       "      <td>SI</td>\n",
       "      <td>ND</td>\n",
       "      <td>ND</td>\n",
       "      <td>SI</td>\n",
       "      <td>SI</td>\n",
       "      <td>SI</td>\n",
       "      <td>COSTERO</td>\n",
       "    </tr>\n",
       "    <tr>\n",
       "      <th>2</th>\n",
       "      <td>DLBAJ101</td>\n",
       "      <td>LOS CABOS SEG 22, 1 ISA10B</td>\n",
       "      <td>PENINSULA DE BAJA CALIFORNIA</td>\n",
       "      <td>BAJA CALIFORNIA SUR</td>\n",
       "      <td>LOS CABOS</td>\n",
       "      <td>SAN LUCAS</td>\n",
       "      <td>OCEANO PACIFICO</td>\n",
       "      <td>COSTERO</td>\n",
       "      <td>OCEANO-MAR</td>\n",
       "      <td>-109.86442</td>\n",
       "      <td>...</td>\n",
       "      <td>NaN</td>\n",
       "      <td>ND</td>\n",
       "      <td>ND</td>\n",
       "      <td>SI</td>\n",
       "      <td>ND</td>\n",
       "      <td>ND</td>\n",
       "      <td>SI</td>\n",
       "      <td>SI</td>\n",
       "      <td>SI</td>\n",
       "      <td>COSTERO</td>\n",
       "    </tr>\n",
       "    <tr>\n",
       "      <th>3</th>\n",
       "      <td>DLBAJ102</td>\n",
       "      <td>LOS CABOS 3</td>\n",
       "      <td>PENINSULA DE BAJA CALIFORNIA</td>\n",
       "      <td>BAJA CALIFORNIA SUR</td>\n",
       "      <td>LOS CABOS</td>\n",
       "      <td>SAN LUCAS</td>\n",
       "      <td>BAHIA SAN LUCAS</td>\n",
       "      <td>COSTERO</td>\n",
       "      <td>BAHIA</td>\n",
       "      <td>-109.88604</td>\n",
       "      <td>...</td>\n",
       "      <td>NaN</td>\n",
       "      <td>ND</td>\n",
       "      <td>ND</td>\n",
       "      <td>SI</td>\n",
       "      <td>ND</td>\n",
       "      <td>ND</td>\n",
       "      <td>SI</td>\n",
       "      <td>SI</td>\n",
       "      <td>SI</td>\n",
       "      <td>COSTERO</td>\n",
       "    </tr>\n",
       "    <tr>\n",
       "      <th>4</th>\n",
       "      <td>DLBAJ103</td>\n",
       "      <td>LOS CABOS 1</td>\n",
       "      <td>PENINSULA DE BAJA CALIFORNIA</td>\n",
       "      <td>BAJA CALIFORNIA SUR</td>\n",
       "      <td>LOS CABOS</td>\n",
       "      <td>SAN LUCAS</td>\n",
       "      <td>BAHIA SAN LUCAS</td>\n",
       "      <td>COSTERO</td>\n",
       "      <td>BAHIA</td>\n",
       "      <td>-109.89657</td>\n",
       "      <td>...</td>\n",
       "      <td>NaN</td>\n",
       "      <td>ND</td>\n",
       "      <td>ND</td>\n",
       "      <td>SI</td>\n",
       "      <td>ND</td>\n",
       "      <td>ND</td>\n",
       "      <td>SI</td>\n",
       "      <td>SI</td>\n",
       "      <td>SI</td>\n",
       "      <td>COSTERO</td>\n",
       "    </tr>\n",
       "  </tbody>\n",
       "</table>\n",
       "<p>5 rows × 55 columns</p>\n",
       "</div>"
      ],
      "text/plain": [
       "      CLAVE                                              SITIO  \\\n",
       "0    DLAGU8  PRESA EL SAUCILLO 100M AGUAS ARRIBA DE LA CORTINA   \n",
       "1  DLBAJ100                         LOS CABOS SEG 22, 2 ISA10B   \n",
       "2  DLBAJ101                         LOS CABOS SEG 22, 1 ISA10B   \n",
       "3  DLBAJ102                                        LOS CABOS 3   \n",
       "4  DLBAJ103                                        LOS CABOS 1   \n",
       "\n",
       "            ORGANISMO_DE_CUENCA               ESTADO        MUNICIPIO  \\\n",
       "0       LERMA SANTIAGO PACIFICO       AGUASCALIENTES  RINCON DE ROMOS   \n",
       "1  PENINSULA DE BAJA CALIFORNIA  BAJA CALIFORNIA SUR        LOS CABOS   \n",
       "2  PENINSULA DE BAJA CALIFORNIA  BAJA CALIFORNIA SUR        LOS CABOS   \n",
       "3  PENINSULA DE BAJA CALIFORNIA  BAJA CALIFORNIA SUR        LOS CABOS   \n",
       "4  PENINSULA DE BAJA CALIFORNIA  BAJA CALIFORNIA SUR        LOS CABOS   \n",
       "\n",
       "              CUENCA     CUERPO DE AGUA     TIPO     SUBTIPO   LONGITUD  ...  \\\n",
       "0      RIO SAN PEDRO  PRESA EL SAUCILLO  LENTICO       PRESA -102.33911  ...   \n",
       "1  SAN JOSE DEL CABO    OCEANO PACIFICO  COSTERO  OCEANO-MAR -109.84290  ...   \n",
       "2          SAN LUCAS    OCEANO PACIFICO  COSTERO  OCEANO-MAR -109.86442  ...   \n",
       "3          SAN LUCAS    BAHIA SAN LUCAS  COSTERO       BAHIA -109.88604  ...   \n",
       "4          SAN LUCAS    BAHIA SAN LUCAS  COSTERO       BAHIA -109.89657  ...   \n",
       "\n",
       "   CONTAMINANTES  CUMPLE_CON_DBO CUMPLE_CON_DQO CUMPLE_CON_SST CUMPLE_CON_CF  \\\n",
       "0        DQO,CF,              SI             NO             SI            NO   \n",
       "1            NaN              ND             ND             SI            ND   \n",
       "2            NaN              ND             ND             SI            ND   \n",
       "3            NaN              ND             ND             SI            ND   \n",
       "4            NaN              ND             ND             SI            ND   \n",
       "\n",
       "  CUMPLE_CON_E_COLI CUMPLE_CON_ENTEROC CUMPLE_CON_OD CUMPLE_CON_TOX    GRUPO  \n",
       "0                SI                 ND            SI             SI  LENTICO  \n",
       "1                ND                 SI            SI             SI  COSTERO  \n",
       "2                ND                 SI            SI             SI  COSTERO  \n",
       "3                ND                 SI            SI             SI  COSTERO  \n",
       "4                ND                 SI            SI             SI  COSTERO  \n",
       "\n",
       "[5 rows x 55 columns]"
      ]
     },
     "execution_count": 34,
     "metadata": {},
     "output_type": "execute_result"
    }
   ],
   "source": [
    "df.head()"
   ]
  },
  {
   "cell_type": "code",
   "execution_count": 35,
   "metadata": {},
   "outputs": [
    {
     "name": "stdout",
     "output_type": "stream",
     "text": [
      "<class 'pandas.core.frame.DataFrame'>\n",
      "RangeIndex: 4141 entries, 0 to 4140\n",
      "Data columns (total 55 columns):\n",
      " #   Column                  Non-Null Count  Dtype  \n",
      "---  ------                  --------------  -----  \n",
      " 0   CLAVE                   3493 non-null   object \n",
      " 1   SITIO                   3493 non-null   object \n",
      " 2   ORGANISMO_DE_CUENCA     3493 non-null   object \n",
      " 3   ESTADO                  3493 non-null   object \n",
      " 4   MUNICIPIO               3493 non-null   object \n",
      " 5   CUENCA                  3492 non-null   object \n",
      " 6   CUERPO DE AGUA          3479 non-null   object \n",
      " 7   TIPO                    3493 non-null   object \n",
      " 8   SUBTIPO                 3479 non-null   object \n",
      " 9   LONGITUD                3493 non-null   float64\n",
      " 10  LATITUD                 3493 non-null   float64\n",
      " 11  PERIODO                 3493 non-null   float64\n",
      " 12  DBO_mg/L                2581 non-null   object \n",
      " 13  CALIDAD_DBO             2581 non-null   object \n",
      " 14  DQO_mg/L                2581 non-null   object \n",
      " 15  CALIDAD_DQO             2581 non-null   object \n",
      " 16  SST_mg/L                3489 non-null   object \n",
      " 17  CALIDAD_SST             3489 non-null   object \n",
      " 18  COLI_FEC_NMP_100mL      2582 non-null   object \n",
      " 19  CALIDAD_COLI_FEC        2582 non-null   object \n",
      " 20  E_COLI_NMP_100mL        2582 non-null   object \n",
      " 21  CALIDAD_E_COLI          2582 non-null   object \n",
      " 22  ENTEROC_NMP_100mL       904 non-null    object \n",
      " 23  CALIDAD_ENTEROC         904 non-null    object \n",
      " 24  OD_PORC                 1797 non-null   object \n",
      " 25  CALIDAD_OD_PORC         1797 non-null   object \n",
      " 26  OD_PORC_SUP             1619 non-null   object \n",
      " 27  CALIDAD_OD_PORC_SUP     1619 non-null   object \n",
      " 28  OD_PORC_MED             487 non-null    object \n",
      " 29  CALIDAD_OD_PORC_MED     487 non-null    object \n",
      " 30  OD_PORC_FON             946 non-null    object \n",
      " 31  CALIDAD_OD_PORC_FON     946 non-null    object \n",
      " 32  TOX_D_48_UT             1816 non-null   object \n",
      " 33  CALIDAD_TOX_D_48        1816 non-null   object \n",
      " 34  TOX_V_15_UT             1819 non-null   object \n",
      " 35  CALIDAD_TOX_V_15        1819 non-null   object \n",
      " 36  TOX_D_48_SUP_UT         762 non-null    object \n",
      " 37  CALIDAD TOX_D_48_SUP    762 non-null    object \n",
      " 38  TOX_D_48_FON_UT         0 non-null      float64\n",
      " 39  CALIDAD_TOX_D_48_FON    0 non-null      float64\n",
      " 40  TOX_FIS_SUP_15_UT       1674 non-null   object \n",
      " 41  CALIDAD_TOX_FIS_SUP_15  1674 non-null   object \n",
      " 42  TOX_FIS_FON_15_UT       0 non-null      float64\n",
      " 43  CALIDAD_TOX_FIS_FON_15  0 non-null      float64\n",
      " 44  SEMAFORO                3493 non-null   object \n",
      " 45  CONTAMINANTES           2226 non-null   object \n",
      " 46  CUMPLE_CON_DBO          3493 non-null   object \n",
      " 47  CUMPLE_CON_DQO          3493 non-null   object \n",
      " 48  CUMPLE_CON_SST          3493 non-null   object \n",
      " 49  CUMPLE_CON_CF           3493 non-null   object \n",
      " 50  CUMPLE_CON_E_COLI       3493 non-null   object \n",
      " 51  CUMPLE_CON_ENTEROC      3493 non-null   object \n",
      " 52  CUMPLE_CON_OD           3493 non-null   object \n",
      " 53  CUMPLE_CON_TOX          3493 non-null   object \n",
      " 54  GRUPO                   3493 non-null   object \n",
      "dtypes: float64(7), object(48)\n",
      "memory usage: 1.7+ MB\n"
     ]
    }
   ],
   "source": [
    "df.info()"
   ]
  },
  {
   "cell_type": "code",
   "execution_count": 26,
   "metadata": {},
   "outputs": [
    {
     "data": {
      "text/plain": [
       "CLAVE                      648\n",
       "SITIO                      648\n",
       "ORGANISMO_DE_CUENCA        648\n",
       "ESTADO                     648\n",
       "MUNICIPIO                  648\n",
       "CUENCA                     649\n",
       "CUERPO DE AGUA             662\n",
       "TIPO                       648\n",
       "SUBTIPO                    662\n",
       "LONGITUD                   648\n",
       "LATITUD                    648\n",
       "PERIODO                    648\n",
       "DBO_mg/L                  1560\n",
       "CALIDAD_DBO               1560\n",
       "DQO_mg/L                  1560\n",
       "CALIDAD_DQO               1560\n",
       "SST_mg/L                   652\n",
       "CALIDAD_SST                652\n",
       "COLI_FEC_NMP_100mL        1559\n",
       "CALIDAD_COLI_FEC          1559\n",
       "E_COLI_NMP_100mL          1559\n",
       "CALIDAD_E_COLI            1559\n",
       "ENTEROC_NMP_100mL         3237\n",
       "CALIDAD_ENTEROC           3237\n",
       "OD_PORC                   2344\n",
       "CALIDAD_OD_PORC           2344\n",
       "OD_PORC_SUP               2522\n",
       "CALIDAD_OD_PORC_SUP       2522\n",
       "OD_PORC_MED               3654\n",
       "CALIDAD_OD_PORC_MED       3654\n",
       "OD_PORC_FON               3195\n",
       "CALIDAD_OD_PORC_FON       3195\n",
       "TOX_D_48_UT               2325\n",
       "CALIDAD_TOX_D_48          2325\n",
       "TOX_V_15_UT               2322\n",
       "CALIDAD_TOX_V_15          2322\n",
       "TOX_D_48_SUP_UT           3379\n",
       "CALIDAD TOX_D_48_SUP      3379\n",
       "TOX_D_48_FON_UT           4141\n",
       "CALIDAD_TOX_D_48_FON      4141\n",
       "TOX_FIS_SUP_15_UT         2467\n",
       "CALIDAD_TOX_FIS_SUP_15    2467\n",
       "TOX_FIS_FON_15_UT         4141\n",
       "CALIDAD_TOX_FIS_FON_15    4141\n",
       "SEMAFORO                   648\n",
       "CONTAMINANTES             1915\n",
       "CUMPLE_CON_DBO             648\n",
       "CUMPLE_CON_DQO             648\n",
       "CUMPLE_CON_SST             648\n",
       "CUMPLE_CON_CF              648\n",
       "CUMPLE_CON_E_COLI          648\n",
       "CUMPLE_CON_ENTEROC         648\n",
       "CUMPLE_CON_OD              648\n",
       "CUMPLE_CON_TOX             648\n",
       "GRUPO                      648\n",
       "dtype: int64"
      ]
     },
     "execution_count": 26,
     "metadata": {},
     "output_type": "execute_result"
    }
   ],
   "source": [
    "df.isna().sum()"
   ]
  },
  {
   "cell_type": "code",
   "execution_count": 32,
   "metadata": {},
   "outputs": [
    {
     "data": {
      "text/plain": [
       "0       LENTICO\n",
       "1       COSTERO\n",
       "2       COSTERO\n",
       "3       COSTERO\n",
       "4       COSTERO\n",
       "         ...   \n",
       "4136        NaN\n",
       "4137        NaN\n",
       "4138        NaN\n",
       "4139        NaN\n",
       "4140        NaN\n",
       "Name: GRUPO, Length: 4141, dtype: object"
      ]
     },
     "execution_count": 32,
     "metadata": {},
     "output_type": "execute_result"
    }
   ],
   "source": [
    "df['GRUPO']"
   ]
  },
  {
   "cell_type": "code",
   "execution_count": 45,
   "metadata": {},
   "outputs": [
    {
     "data": {
      "text/plain": [
       "0      -102.33911\n",
       "1      -109.84290\n",
       "2      -109.86442\n",
       "3      -109.88604\n",
       "4      -109.89657\n",
       "          ...    \n",
       "4136          NaN\n",
       "4137          NaN\n",
       "4138          NaN\n",
       "4139          NaN\n",
       "4140          NaN\n",
       "Name: LONGITUD, Length: 4141, dtype: float64"
      ]
     },
     "execution_count": 45,
     "metadata": {},
     "output_type": "execute_result"
    }
   ],
   "source": [
    "df[continuas[0]]"
   ]
  },
  {
   "cell_type": "code",
   "execution_count": 44,
   "metadata": {},
   "outputs": [
    {
     "data": {
      "image/png": "[encoded data removed]",
      "text/plain": [
       "<Figure size 1008x792 with 1 Axes>"
      ]
     },
     "metadata": {},
     "output_type": "display_data"
    }
   ],
   "source": [
    "continuas = ['LONGITUD', 'LATITUD', 'PERIODO', 'TOX_D_48_FON_UT', 'CALIDAD_TOX_D_48_FON', 'TOX_FIS_FON_15_UT', 'CALIDAD_TOX_FIS_FON_15']\n",
    "sns.set(rc={'figure.figsize':(14,11)})\n",
    "plt.boxplot(df[continuas[0]], showmeans=True, vert=False)   \n",
    "plt.show()"
   ]
  },
  {
   "cell_type": "code",
   "execution_count": 31,
   "metadata": {},
   "outputs": [
    {
     "ename": "TypeError",
     "evalue": "can only concatenate str (not \"float\") to str",
     "output_type": "error",
     "traceback": [
      "\u001b[1;31m---------------------------------------------------------------------------\u001b[0m",
      "\u001b[1;31mTypeError\u001b[0m                                 Traceback (most recent call last)",
      "\u001b[1;32mc:\\Users\\matth\\OneDrive\\Documentos\\GitHub\\actividades-del-projecto-equipo_102\\Reto\\aguas-superficiales.ipynb Cell 5\u001b[0m in \u001b[0;36m<cell line: 5>\u001b[1;34m()\u001b[0m\n\u001b[0;32m      <a href='vscode-notebook-cell:/c%3A/Users/matth/OneDrive/Documentos/GitHub/actividades-del-projecto-equipo_102/Reto/aguas-superficiales.ipynb#W4sZmlsZQ%3D%3D?line=2'>3</a>\u001b[0m i \u001b[39m=\u001b[39m \u001b[39m0\u001b[39m\n\u001b[0;32m      <a href='vscode-notebook-cell:/c%3A/Users/matth/OneDrive/Documentos/GitHub/actividades-del-projecto-equipo_102/Reto/aguas-superficiales.ipynb#W4sZmlsZQ%3D%3D?line=3'>4</a>\u001b[0m fig, axes \u001b[39m=\u001b[39m plt\u001b[39m.\u001b[39msubplots(\u001b[39m3\u001b[39m, \u001b[39m2\u001b[39m)    \n\u001b[1;32m----> <a href='vscode-notebook-cell:/c%3A/Users/matth/OneDrive/Documentos/GitHub/actividades-del-projecto-equipo_102/Reto/aguas-superficiales.ipynb#W4sZmlsZQ%3D%3D?line=4'>5</a>\u001b[0m plt\u001b[39m.\u001b[39;49mboxplot(df[\u001b[39m'\u001b[39;49m\u001b[39mGRUPO\u001b[39;49m\u001b[39m'\u001b[39;49m], showmeans\u001b[39m=\u001b[39;49m\u001b[39mTrue\u001b[39;49;00m, vert\u001b[39m=\u001b[39;49m\u001b[39mFalse\u001b[39;49;00m)   \n\u001b[0;32m      <a href='vscode-notebook-cell:/c%3A/Users/matth/OneDrive/Documentos/GitHub/actividades-del-projecto-equipo_102/Reto/aguas-superficiales.ipynb#W4sZmlsZQ%3D%3D?line=5'>6</a>\u001b[0m plt\u001b[39m.\u001b[39mshow()\n",
      "File \u001b[1;32mc:\\Users\\matth\\anaconda3\\lib\\site-packages\\matplotlib\\pyplot.py:2428\u001b[0m, in \u001b[0;36mboxplot\u001b[1;34m(x, notch, sym, vert, whis, positions, widths, patch_artist, bootstrap, usermedians, conf_intervals, meanline, showmeans, showcaps, showbox, showfliers, boxprops, labels, flierprops, medianprops, meanprops, capprops, whiskerprops, manage_ticks, autorange, zorder, data)\u001b[0m\n\u001b[0;32m   2418\u001b[0m \u001b[39m@_copy_docstring_and_deprecators\u001b[39m(Axes\u001b[39m.\u001b[39mboxplot)\n\u001b[0;32m   2419\u001b[0m \u001b[39mdef\u001b[39;00m \u001b[39mboxplot\u001b[39m(\n\u001b[0;32m   2420\u001b[0m         x, notch\u001b[39m=\u001b[39m\u001b[39mNone\u001b[39;00m, sym\u001b[39m=\u001b[39m\u001b[39mNone\u001b[39;00m, vert\u001b[39m=\u001b[39m\u001b[39mNone\u001b[39;00m, whis\u001b[39m=\u001b[39m\u001b[39mNone\u001b[39;00m,\n\u001b[1;32m   (...)\u001b[0m\n\u001b[0;32m   2426\u001b[0m         whiskerprops\u001b[39m=\u001b[39m\u001b[39mNone\u001b[39;00m, manage_ticks\u001b[39m=\u001b[39m\u001b[39mTrue\u001b[39;00m, autorange\u001b[39m=\u001b[39m\u001b[39mFalse\u001b[39;00m,\n\u001b[0;32m   2427\u001b[0m         zorder\u001b[39m=\u001b[39m\u001b[39mNone\u001b[39;00m, \u001b[39m*\u001b[39m, data\u001b[39m=\u001b[39m\u001b[39mNone\u001b[39;00m):\n\u001b[1;32m-> 2428\u001b[0m     \u001b[39mreturn\u001b[39;00m gca()\u001b[39m.\u001b[39mboxplot(\n\u001b[0;32m   2429\u001b[0m         x, notch\u001b[39m=\u001b[39mnotch, sym\u001b[39m=\u001b[39msym, vert\u001b[39m=\u001b[39mvert, whis\u001b[39m=\u001b[39mwhis,\n\u001b[0;32m   2430\u001b[0m         positions\u001b[39m=\u001b[39mpositions, widths\u001b[39m=\u001b[39mwidths, patch_artist\u001b[39m=\u001b[39mpatch_artist,\n\u001b[0;32m   2431\u001b[0m         bootstrap\u001b[39m=\u001b[39mbootstrap, usermedians\u001b[39m=\u001b[39musermedians,\n\u001b[0;32m   2432\u001b[0m         conf_intervals\u001b[39m=\u001b[39mconf_intervals, meanline\u001b[39m=\u001b[39mmeanline,\n\u001b[0;32m   2433\u001b[0m         showmeans\u001b[39m=\u001b[39mshowmeans, showcaps\u001b[39m=\u001b[39mshowcaps, showbox\u001b[39m=\u001b[39mshowbox,\n\u001b[0;32m   2434\u001b[0m         showfliers\u001b[39m=\u001b[39mshowfliers, boxprops\u001b[39m=\u001b[39mboxprops, labels\u001b[39m=\u001b[39mlabels,\n\u001b[0;32m   2435\u001b[0m         flierprops\u001b[39m=\u001b[39mflierprops, medianprops\u001b[39m=\u001b[39mmedianprops,\n\u001b[0;32m   2436\u001b[0m         meanprops\u001b[39m=\u001b[39mmeanprops, capprops\u001b[39m=\u001b[39mcapprops,\n\u001b[0;32m   2437\u001b[0m         whiskerprops\u001b[39m=\u001b[39mwhiskerprops, manage_ticks\u001b[39m=\u001b[39mmanage_ticks,\n\u001b[0;32m   2438\u001b[0m         autorange\u001b[39m=\u001b[39mautorange, zorder\u001b[39m=\u001b[39mzorder,\n\u001b[0;32m   2439\u001b[0m         \u001b[39m*\u001b[39m\u001b[39m*\u001b[39m({\u001b[39m\"\u001b[39m\u001b[39mdata\u001b[39m\u001b[39m\"\u001b[39m: data} \u001b[39mif\u001b[39;00m data \u001b[39mis\u001b[39;00m \u001b[39mnot\u001b[39;00m \u001b[39mNone\u001b[39;00m \u001b[39melse\u001b[39;00m {}))\n",
      "File \u001b[1;32mc:\\Users\\matth\\anaconda3\\lib\\site-packages\\matplotlib\\__init__.py:1412\u001b[0m, in \u001b[0;36m_preprocess_data.<locals>.inner\u001b[1;34m(ax, data, *args, **kwargs)\u001b[0m\n\u001b[0;32m   1409\u001b[0m \u001b[39m@functools\u001b[39m\u001b[39m.\u001b[39mwraps(func)\n\u001b[0;32m   1410\u001b[0m \u001b[39mdef\u001b[39;00m \u001b[39minner\u001b[39m(ax, \u001b[39m*\u001b[39margs, data\u001b[39m=\u001b[39m\u001b[39mNone\u001b[39;00m, \u001b[39m*\u001b[39m\u001b[39m*\u001b[39mkwargs):\n\u001b[0;32m   1411\u001b[0m     \u001b[39mif\u001b[39;00m data \u001b[39mis\u001b[39;00m \u001b[39mNone\u001b[39;00m:\n\u001b[1;32m-> 1412\u001b[0m         \u001b[39mreturn\u001b[39;00m func(ax, \u001b[39m*\u001b[39m\u001b[39mmap\u001b[39m(sanitize_sequence, args), \u001b[39m*\u001b[39m\u001b[39m*\u001b[39mkwargs)\n\u001b[0;32m   1414\u001b[0m     bound \u001b[39m=\u001b[39m new_sig\u001b[39m.\u001b[39mbind(ax, \u001b[39m*\u001b[39margs, \u001b[39m*\u001b[39m\u001b[39m*\u001b[39mkwargs)\n\u001b[0;32m   1415\u001b[0m     auto_label \u001b[39m=\u001b[39m (bound\u001b[39m.\u001b[39marguments\u001b[39m.\u001b[39mget(label_namer)\n\u001b[0;32m   1416\u001b[0m                   \u001b[39mor\u001b[39;00m bound\u001b[39m.\u001b[39mkwargs\u001b[39m.\u001b[39mget(label_namer))\n",
      "File \u001b[1;32mc:\\Users\\matth\\anaconda3\\lib\\site-packages\\matplotlib\\axes\\_axes.py:3711\u001b[0m, in \u001b[0;36mAxes.boxplot\u001b[1;34m(self, x, notch, sym, vert, whis, positions, widths, patch_artist, bootstrap, usermedians, conf_intervals, meanline, showmeans, showcaps, showbox, showfliers, boxprops, labels, flierprops, medianprops, meanprops, capprops, whiskerprops, manage_ticks, autorange, zorder)\u001b[0m\n\u001b[0;32m   3708\u001b[0m \u001b[39mif\u001b[39;00m bootstrap \u001b[39mis\u001b[39;00m \u001b[39mNone\u001b[39;00m:\n\u001b[0;32m   3709\u001b[0m     bootstrap \u001b[39m=\u001b[39m rcParams[\u001b[39m'\u001b[39m\u001b[39mboxplot.bootstrap\u001b[39m\u001b[39m'\u001b[39m]\n\u001b[1;32m-> 3711\u001b[0m bxpstats \u001b[39m=\u001b[39m cbook\u001b[39m.\u001b[39;49mboxplot_stats(x, whis\u001b[39m=\u001b[39;49mwhis, bootstrap\u001b[39m=\u001b[39;49mbootstrap,\n\u001b[0;32m   3712\u001b[0m                                labels\u001b[39m=\u001b[39;49mlabels, autorange\u001b[39m=\u001b[39;49mautorange)\n\u001b[0;32m   3713\u001b[0m \u001b[39mif\u001b[39;00m notch \u001b[39mis\u001b[39;00m \u001b[39mNone\u001b[39;00m:\n\u001b[0;32m   3714\u001b[0m     notch \u001b[39m=\u001b[39m rcParams[\u001b[39m'\u001b[39m\u001b[39mboxplot.notch\u001b[39m\u001b[39m'\u001b[39m]\n",
      "File \u001b[1;32mc:\\Users\\matth\\anaconda3\\lib\\site-packages\\matplotlib\\cbook\\__init__.py:1195\u001b[0m, in \u001b[0;36mboxplot_stats\u001b[1;34m(X, whis, bootstrap, labels, autorange)\u001b[0m\n\u001b[0;32m   1192\u001b[0m x \u001b[39m=\u001b[39m np\u001b[39m.\u001b[39masarray(x)\n\u001b[0;32m   1194\u001b[0m \u001b[39m# arithmetic mean\u001b[39;00m\n\u001b[1;32m-> 1195\u001b[0m stats[\u001b[39m'\u001b[39m\u001b[39mmean\u001b[39m\u001b[39m'\u001b[39m] \u001b[39m=\u001b[39m np\u001b[39m.\u001b[39;49mmean(x)\n\u001b[0;32m   1197\u001b[0m \u001b[39m# medians and quartiles\u001b[39;00m\n\u001b[0;32m   1198\u001b[0m q1, med, q3 \u001b[39m=\u001b[39m np\u001b[39m.\u001b[39mpercentile(x, [\u001b[39m25\u001b[39m, \u001b[39m50\u001b[39m, \u001b[39m75\u001b[39m])\n",
      "File \u001b[1;32m<__array_function__ internals>:5\u001b[0m, in \u001b[0;36mmean\u001b[1;34m(*args, **kwargs)\u001b[0m\n",
      "File \u001b[1;32mc:\\Users\\matth\\anaconda3\\lib\\site-packages\\numpy\\core\\fromnumeric.py:3440\u001b[0m, in \u001b[0;36mmean\u001b[1;34m(a, axis, dtype, out, keepdims, where)\u001b[0m\n\u001b[0;32m   3437\u001b[0m     \u001b[39melse\u001b[39;00m:\n\u001b[0;32m   3438\u001b[0m         \u001b[39mreturn\u001b[39;00m mean(axis\u001b[39m=\u001b[39maxis, dtype\u001b[39m=\u001b[39mdtype, out\u001b[39m=\u001b[39mout, \u001b[39m*\u001b[39m\u001b[39m*\u001b[39mkwargs)\n\u001b[1;32m-> 3440\u001b[0m \u001b[39mreturn\u001b[39;00m _methods\u001b[39m.\u001b[39m_mean(a, axis\u001b[39m=\u001b[39maxis, dtype\u001b[39m=\u001b[39mdtype,\n\u001b[0;32m   3441\u001b[0m                       out\u001b[39m=\u001b[39mout, \u001b[39m*\u001b[39m\u001b[39m*\u001b[39mkwargs)\n",
      "File \u001b[1;32mc:\\Users\\matth\\anaconda3\\lib\\site-packages\\numpy\\core\\_methods.py:179\u001b[0m, in \u001b[0;36m_mean\u001b[1;34m(a, axis, dtype, out, keepdims, where)\u001b[0m\n\u001b[0;32m    176\u001b[0m         dtype \u001b[39m=\u001b[39m mu\u001b[39m.\u001b[39mdtype(\u001b[39m'\u001b[39m\u001b[39mf4\u001b[39m\u001b[39m'\u001b[39m)\n\u001b[0;32m    177\u001b[0m         is_float16_result \u001b[39m=\u001b[39m \u001b[39mTrue\u001b[39;00m\n\u001b[1;32m--> 179\u001b[0m ret \u001b[39m=\u001b[39m umr_sum(arr, axis, dtype, out, keepdims, where\u001b[39m=\u001b[39;49mwhere)\n\u001b[0;32m    180\u001b[0m \u001b[39mif\u001b[39;00m \u001b[39misinstance\u001b[39m(ret, mu\u001b[39m.\u001b[39mndarray):\n\u001b[0;32m    181\u001b[0m     ret \u001b[39m=\u001b[39m um\u001b[39m.\u001b[39mtrue_divide(\n\u001b[0;32m    182\u001b[0m             ret, rcount, out\u001b[39m=\u001b[39mret, casting\u001b[39m=\u001b[39m\u001b[39m'\u001b[39m\u001b[39munsafe\u001b[39m\u001b[39m'\u001b[39m, subok\u001b[39m=\u001b[39m\u001b[39mFalse\u001b[39;00m)\n",
      "\u001b[1;31mTypeError\u001b[0m: can only concatenate str (not \"float\") to str"
     ]
    },
    {
     "data": {
      "image/png": "[encoded data removed]",
      "text/plain": [
       "<Figure size 1008x792 with 6 Axes>"
      ]
     },
     "metadata": {},
     "output_type": "display_data"
    }
   ],
   "source": [
    "continuas = list(df.columns)\n",
    "sns.set(rc={'figure.figsize':(14,11)})\n",
    "i = 0\n",
    "fig, axes = plt.subplots(3, 2)    \n",
    "plt.boxplot(df['GRUPO'], showmeans=True, vert=False)   \n",
    "plt.show()"
   ]
  }
 ],
 "metadata": {
  "kernelspec": {
   "display_name": "Python 3.9.12 ('base')",
   "language": "python",
   "name": "python3"
  },
  "language_info": {
   "codemirror_mode": {
    "name": "ipython",
    "version": 3
   },
   "file_extension": ".py",
   "mimetype": "text/x-python",
   "name": "python",
   "nbconvert_exporter": "python",
   "pygments_lexer": "ipython3",
   "version": "3.9.12"
  },
  "orig_nbformat": 4,
  "vscode": {
   "interpreter": {
    "hash": "8607d81fc6318cb05ed35a8010608a8fe3010a47ba3e0e927835a55241641039"
   }
  }
 },
 "nbformat": 4,
 "nbformat_minor": 2
}
