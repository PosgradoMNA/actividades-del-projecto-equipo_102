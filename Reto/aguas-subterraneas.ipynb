{
 "cells": [
  {
   "cell_type": "markdown",
   "metadata": {},
   "source": [
    "### **Reto Final - Parte 1**\n",
    "\n",
    "* Integrantes: \n",
    "  \n",
    "  * Rafael J. Mateo C -  A01793054\n",
    "  * Matthias Sibrian - A01794249\n",
    "  \n",
    "* Materia: Ciencia y Analítica de Datos\n",
    "  \n",
    "* Profesor: María de la Paz\n",
    "  \n",
    "* Fecha: 16 Nov 2022"
   ]
  },
  {
   "cell_type": "code",
   "execution_count": 1,
   "metadata": {},
   "outputs": [],
   "source": [
    "import pandas as pd\n",
    "import numpy as np\n",
    "import seaborn as sns\n",
    "import matplotlib.pyplot as plt\n",
    "from matplotlib.colors import LinearSegmentedColormap\n",
    "from sklearn.base import BaseEstimator, TransformerMixin\n",
    "from sklearn.model_selection import train_test_split\n",
    "import geopandas as gpd\n",
    "from pandas.core.internals.concat import concat_arrays\n",
    "from shapely.geometry import Point\n",
    "from geopy.geocoders.yandex import Location\n",
    "from geopy.geocoders import Nominatim \n",
    "from geopy.distance import geodesic\n",
    "#todos los imports\n",
    "from sklearn import metrics\n",
    "from sklearn.metrics import r2_score\n",
    "from sklearn.linear_model import LinearRegression, Lasso, Ridge, ElasticNet\n",
    "from sklearn.preprocessing import PolynomialFeatures\n",
    "import seaborn as sns\n",
    "from sklearn.cluster import KMeans\n",
    "from sklearn.datasets import make_blobs\n",
    "from sklearn.pipeline import Pipeline\n",
    "from sklearn.impute import SimpleImputer\n",
    "from sklearn.preprocessing import MinMaxScaler, OneHotEncoder, StandardScaler, RobustScaler, Normalizer, PowerTransformer, QuantileTransformer\n",
    "from sklearn.compose import ColumnTransformer\n"
   ]
  },
  {
   "cell_type": "markdown",
   "metadata": {},
   "source": [
    "### **I. Análisis Exploratorio de los Datos**\n",
    "\n",
    "Comencemos importando los datos que estaremos usando. Para fines de este ejercio, nos apoyaremos de la base de datos de aguas subterráneas."
   ]
  },
  {
   "cell_type": "code",
   "execution_count": 2,
   "metadata": {},
   "outputs": [
    {
     "data": {
      "text/html": [
       "<div>\n",
       "<style scoped>\n",
       "    .dataframe tbody tr th:only-of-type {\n",
       "        vertical-align: middle;\n",
       "    }\n",
       "\n",
       "    .dataframe tbody tr th {\n",
       "        vertical-align: top;\n",
       "    }\n",
       "\n",
       "    .dataframe thead th {\n",
       "        text-align: right;\n",
       "    }\n",
       "</style>\n",
       "<table border=\"1\" class=\"dataframe\">\n",
       "  <thead>\n",
       "    <tr style=\"text-align: right;\">\n",
       "      <th></th>\n",
       "      <th>CLAVE</th>\n",
       "      <th>SITIO</th>\n",
       "      <th>ORGANISMO_DE_CUENCA</th>\n",
       "      <th>ESTADO</th>\n",
       "      <th>MUNICIPIO</th>\n",
       "      <th>ACUIFERO</th>\n",
       "      <th>SUBTIPO</th>\n",
       "      <th>LONGITUD</th>\n",
       "      <th>LATITUD</th>\n",
       "      <th>PERIODO</th>\n",
       "      <th>...</th>\n",
       "      <th>CUMPLE_CON_DUR</th>\n",
       "      <th>CUMPLE_CON_CF</th>\n",
       "      <th>CUMPLE_CON_NO3</th>\n",
       "      <th>CUMPLE_CON_AS</th>\n",
       "      <th>CUMPLE_CON_CD</th>\n",
       "      <th>CUMPLE_CON_CR</th>\n",
       "      <th>CUMPLE_CON_HG</th>\n",
       "      <th>CUMPLE_CON_PB</th>\n",
       "      <th>CUMPLE_CON_MN</th>\n",
       "      <th>CUMPLE_CON_FE</th>\n",
       "    </tr>\n",
       "  </thead>\n",
       "  <tbody>\n",
       "    <tr>\n",
       "      <th>0</th>\n",
       "      <td>DLAGU6</td>\n",
       "      <td>POZO SAN GIL</td>\n",
       "      <td>LERMA SANTIAGO PACIFICO</td>\n",
       "      <td>AGUASCALIENTES</td>\n",
       "      <td>ASIENTOS</td>\n",
       "      <td>VALLE DE CHICALOTE</td>\n",
       "      <td>POZO</td>\n",
       "      <td>-102.02210</td>\n",
       "      <td>22.20887</td>\n",
       "      <td>2020</td>\n",
       "      <td>...</td>\n",
       "      <td>SI</td>\n",
       "      <td>SI</td>\n",
       "      <td>SI</td>\n",
       "      <td>SI</td>\n",
       "      <td>SI</td>\n",
       "      <td>SI</td>\n",
       "      <td>SI</td>\n",
       "      <td>SI</td>\n",
       "      <td>SI</td>\n",
       "      <td>SI</td>\n",
       "    </tr>\n",
       "    <tr>\n",
       "      <th>1</th>\n",
       "      <td>DLAGU6516</td>\n",
       "      <td>POZO R013 CA�ADA HONDA</td>\n",
       "      <td>LERMA SANTIAGO PACIFICO</td>\n",
       "      <td>AGUASCALIENTES</td>\n",
       "      <td>AGUASCALIENTES</td>\n",
       "      <td>VALLE DE CHICALOTE</td>\n",
       "      <td>POZO</td>\n",
       "      <td>-102.20075</td>\n",
       "      <td>21.99958</td>\n",
       "      <td>2020</td>\n",
       "      <td>...</td>\n",
       "      <td>SI</td>\n",
       "      <td>SI</td>\n",
       "      <td>SI</td>\n",
       "      <td>SI</td>\n",
       "      <td>SI</td>\n",
       "      <td>SI</td>\n",
       "      <td>SI</td>\n",
       "      <td>SI</td>\n",
       "      <td>SI</td>\n",
       "      <td>SI</td>\n",
       "    </tr>\n",
       "    <tr>\n",
       "      <th>2</th>\n",
       "      <td>DLAGU7</td>\n",
       "      <td>POZO COSIO</td>\n",
       "      <td>LERMA SANTIAGO PACIFICO</td>\n",
       "      <td>AGUASCALIENTES</td>\n",
       "      <td>COSIO</td>\n",
       "      <td>VALLE DE AGUASCALIENTES</td>\n",
       "      <td>POZO</td>\n",
       "      <td>-102.28801</td>\n",
       "      <td>22.36685</td>\n",
       "      <td>2020</td>\n",
       "      <td>...</td>\n",
       "      <td>SI</td>\n",
       "      <td>SI</td>\n",
       "      <td>SI</td>\n",
       "      <td>NO</td>\n",
       "      <td>SI</td>\n",
       "      <td>SI</td>\n",
       "      <td>SI</td>\n",
       "      <td>SI</td>\n",
       "      <td>SI</td>\n",
       "      <td>SI</td>\n",
       "    </tr>\n",
       "    <tr>\n",
       "      <th>3</th>\n",
       "      <td>DLAGU9</td>\n",
       "      <td>POZO EL SALITRILLO</td>\n",
       "      <td>LERMA SANTIAGO PACIFICO</td>\n",
       "      <td>AGUASCALIENTES</td>\n",
       "      <td>RINCON DE ROMOS</td>\n",
       "      <td>VALLE DE AGUASCALIENTES</td>\n",
       "      <td>POZO</td>\n",
       "      <td>-102.29449</td>\n",
       "      <td>22.18435</td>\n",
       "      <td>2020</td>\n",
       "      <td>...</td>\n",
       "      <td>SI</td>\n",
       "      <td>SI</td>\n",
       "      <td>SI</td>\n",
       "      <td>SI</td>\n",
       "      <td>SI</td>\n",
       "      <td>SI</td>\n",
       "      <td>SI</td>\n",
       "      <td>SI</td>\n",
       "      <td>SI</td>\n",
       "      <td>SI</td>\n",
       "    </tr>\n",
       "    <tr>\n",
       "      <th>4</th>\n",
       "      <td>DLBAJ107</td>\n",
       "      <td>RANCHO EL TECOLOTE</td>\n",
       "      <td>PENINSULA DE BAJA CALIFORNIA</td>\n",
       "      <td>BAJA CALIFORNIA SUR</td>\n",
       "      <td>LA PAZ</td>\n",
       "      <td>TODOS SANTOS</td>\n",
       "      <td>POZO</td>\n",
       "      <td>-110.24480</td>\n",
       "      <td>23.45138</td>\n",
       "      <td>2020</td>\n",
       "      <td>...</td>\n",
       "      <td>SI</td>\n",
       "      <td>SI</td>\n",
       "      <td>NO</td>\n",
       "      <td>SI</td>\n",
       "      <td>SI</td>\n",
       "      <td>SI</td>\n",
       "      <td>SI</td>\n",
       "      <td>SI</td>\n",
       "      <td>SI</td>\n",
       "      <td>SI</td>\n",
       "    </tr>\n",
       "  </tbody>\n",
       "</table>\n",
       "<p>5 rows × 57 columns</p>\n",
       "</div>"
      ],
      "text/plain": [
       "       CLAVE                   SITIO           ORGANISMO_DE_CUENCA  \\\n",
       "0     DLAGU6            POZO SAN GIL       LERMA SANTIAGO PACIFICO   \n",
       "1  DLAGU6516  POZO R013 CA�ADA HONDA       LERMA SANTIAGO PACIFICO   \n",
       "2     DLAGU7              POZO COSIO       LERMA SANTIAGO PACIFICO   \n",
       "3     DLAGU9      POZO EL SALITRILLO       LERMA SANTIAGO PACIFICO   \n",
       "4   DLBAJ107      RANCHO EL TECOLOTE  PENINSULA DE BAJA CALIFORNIA   \n",
       "\n",
       "                ESTADO        MUNICIPIO                 ACUIFERO SUBTIPO  \\\n",
       "0       AGUASCALIENTES         ASIENTOS       VALLE DE CHICALOTE    POZO   \n",
       "1       AGUASCALIENTES   AGUASCALIENTES       VALLE DE CHICALOTE    POZO   \n",
       "2       AGUASCALIENTES            COSIO  VALLE DE AGUASCALIENTES    POZO   \n",
       "3       AGUASCALIENTES  RINCON DE ROMOS  VALLE DE AGUASCALIENTES    POZO   \n",
       "4  BAJA CALIFORNIA SUR           LA PAZ             TODOS SANTOS    POZO   \n",
       "\n",
       "    LONGITUD   LATITUD  PERIODO  ...  CUMPLE_CON_DUR CUMPLE_CON_CF  \\\n",
       "0 -102.02210  22.20887     2020  ...              SI            SI   \n",
       "1 -102.20075  21.99958     2020  ...              SI            SI   \n",
       "2 -102.28801  22.36685     2020  ...              SI            SI   \n",
       "3 -102.29449  22.18435     2020  ...              SI            SI   \n",
       "4 -110.24480  23.45138     2020  ...              SI            SI   \n",
       "\n",
       "   CUMPLE_CON_NO3 CUMPLE_CON_AS  CUMPLE_CON_CD CUMPLE_CON_CR CUMPLE_CON_HG  \\\n",
       "0              SI            SI             SI            SI            SI   \n",
       "1              SI            SI             SI            SI            SI   \n",
       "2              SI            NO             SI            SI            SI   \n",
       "3              SI            SI             SI            SI            SI   \n",
       "4              NO            SI             SI            SI            SI   \n",
       "\n",
       "  CUMPLE_CON_PB CUMPLE_CON_MN CUMPLE_CON_FE  \n",
       "0            SI            SI            SI  \n",
       "1            SI            SI            SI  \n",
       "2            SI            SI            SI  \n",
       "3            SI            SI            SI  \n",
       "4            SI            SI            SI  \n",
       "\n",
       "[5 rows x 57 columns]"
      ]
     },
     "execution_count": 2,
     "metadata": {},
     "output_type": "execute_result"
    }
   ],
   "source": [
    "df = pd.read_csv('datos/aguas_subterraneas_2020.csv')\n",
    "df.head()"
   ]
  },
  {
   "cell_type": "code",
   "execution_count": 3,
   "metadata": {},
   "outputs": [
    {
     "name": "stdout",
     "output_type": "stream",
     "text": [
      "<class 'pandas.core.frame.DataFrame'>\n",
      "RangeIndex: 1068 entries, 0 to 1067\n",
      "Data columns (total 57 columns):\n",
      " #   Column                Non-Null Count  Dtype  \n",
      "---  ------                --------------  -----  \n",
      " 0   CLAVE                 1068 non-null   object \n",
      " 1   SITIO                 1068 non-null   object \n",
      " 2   ORGANISMO_DE_CUENCA   1068 non-null   object \n",
      " 3   ESTADO                1068 non-null   object \n",
      " 4   MUNICIPIO             1068 non-null   object \n",
      " 5   ACUIFERO              1068 non-null   object \n",
      " 6   SUBTIPO               1068 non-null   object \n",
      " 7   LONGITUD              1068 non-null   float64\n",
      " 8   LATITUD               1068 non-null   float64\n",
      " 9   PERIODO               1068 non-null   int64  \n",
      " 10  ALC_mg/L              1064 non-null   float64\n",
      " 11  CALIDAD_ALC           1064 non-null   object \n",
      " 12  CONDUCT_mS/cm         1062 non-null   float64\n",
      " 13  CALIDAD_CONDUC        1062 non-null   object \n",
      " 14  SDT_mg/L              0 non-null      float64\n",
      " 15  SDT_M_mg/L            1066 non-null   object \n",
      " 16  CALIDAD_SDT_ra        1066 non-null   object \n",
      " 17  CALIDAD_SDT_salin     1066 non-null   object \n",
      " 18  FLUORUROS_mg/L        1068 non-null   object \n",
      " 19  CALIDAD_FLUO          1068 non-null   object \n",
      " 20  DUR_mg/L              1067 non-null   object \n",
      " 21  CALIDAD_DUR           1067 non-null   object \n",
      " 22  COLI_FEC_NMP/100_mL   1068 non-null   object \n",
      " 23  CALIDAD_COLI_FEC      1068 non-null   object \n",
      " 24  N_NO3_mg/L            1067 non-null   object \n",
      " 25  CALIDAD_N_NO3         1067 non-null   object \n",
      " 26  AS_TOT_mg/L           1068 non-null   object \n",
      " 27  CALIDAD_AS            1068 non-null   object \n",
      " 28  CD_TOT_mg/L           1068 non-null   object \n",
      " 29  CALIDAD_CD            1068 non-null   object \n",
      " 30  CR_TOT_mg/L           1068 non-null   object \n",
      " 31  CALIDAD_CR            1068 non-null   object \n",
      " 32  HG_TOT_mg/L           1068 non-null   object \n",
      " 33  CALIDAD_HG            1068 non-null   object \n",
      " 34  PB_TOT_mg/L           1068 non-null   object \n",
      " 35  CALIDAD_PB            1068 non-null   object \n",
      " 36  MN_TOT_mg/L           1068 non-null   object \n",
      " 37  CALIDAD_MN            1068 non-null   object \n",
      " 38  FE_TOT_mg/L           1068 non-null   object \n",
      " 39  CALIDAD_FE            1068 non-null   object \n",
      " 40  SEMAFORO              1068 non-null   object \n",
      " 41  CONTAMINANTES         634 non-null    object \n",
      " 42  CUMPLE_CON_ALC        1068 non-null   object \n",
      " 43  CUMPLE_CON_COND       1068 non-null   object \n",
      " 44  CUMPLE_CON_SDT_ra     1068 non-null   object \n",
      " 45  CUMPLE_CON_SDT_salin  1068 non-null   object \n",
      " 46  CUMPLE_CON_FLUO       1068 non-null   object \n",
      " 47  CUMPLE_CON_DUR        1068 non-null   object \n",
      " 48  CUMPLE_CON_CF         1068 non-null   object \n",
      " 49  CUMPLE_CON_NO3        1068 non-null   object \n",
      " 50  CUMPLE_CON_AS         1068 non-null   object \n",
      " 51  CUMPLE_CON_CD         1068 non-null   object \n",
      " 52  CUMPLE_CON_CR         1068 non-null   object \n",
      " 53  CUMPLE_CON_HG         1068 non-null   object \n",
      " 54  CUMPLE_CON_PB         1068 non-null   object \n",
      " 55  CUMPLE_CON_MN         1068 non-null   object \n",
      " 56  CUMPLE_CON_FE         1068 non-null   object \n",
      "dtypes: float64(5), int64(1), object(51)\n",
      "memory usage: 475.7+ KB\n"
     ]
    }
   ],
   "source": [
    "df.info()"
   ]
  },
  {
   "cell_type": "markdown",
   "metadata": {},
   "source": [
    "Obtengamos las columnas que tienen valores vacíos y la cantidad de nulos por cada columna"
   ]
  },
  {
   "cell_type": "code",
   "execution_count": 4,
   "metadata": {},
   "outputs": [
    {
     "data": {
      "text/html": [
       "<div>\n",
       "<style scoped>\n",
       "    .dataframe tbody tr th:only-of-type {\n",
       "        vertical-align: middle;\n",
       "    }\n",
       "\n",
       "    .dataframe tbody tr th {\n",
       "        vertical-align: top;\n",
       "    }\n",
       "\n",
       "    .dataframe thead th {\n",
       "        text-align: right;\n",
       "    }\n",
       "</style>\n",
       "<table border=\"1\" class=\"dataframe\">\n",
       "  <thead>\n",
       "    <tr style=\"text-align: right;\">\n",
       "      <th></th>\n",
       "      <th>columns</th>\n",
       "      <th>total</th>\n",
       "    </tr>\n",
       "  </thead>\n",
       "  <tbody>\n",
       "    <tr>\n",
       "      <th>0</th>\n",
       "      <td>ALC_mg/L</td>\n",
       "      <td>4</td>\n",
       "    </tr>\n",
       "    <tr>\n",
       "      <th>1</th>\n",
       "      <td>CALIDAD_ALC</td>\n",
       "      <td>4</td>\n",
       "    </tr>\n",
       "    <tr>\n",
       "      <th>2</th>\n",
       "      <td>CONDUCT_mS/cm</td>\n",
       "      <td>6</td>\n",
       "    </tr>\n",
       "    <tr>\n",
       "      <th>3</th>\n",
       "      <td>CALIDAD_CONDUC</td>\n",
       "      <td>6</td>\n",
       "    </tr>\n",
       "    <tr>\n",
       "      <th>4</th>\n",
       "      <td>SDT_mg/L</td>\n",
       "      <td>1068</td>\n",
       "    </tr>\n",
       "    <tr>\n",
       "      <th>5</th>\n",
       "      <td>SDT_M_mg/L</td>\n",
       "      <td>2</td>\n",
       "    </tr>\n",
       "    <tr>\n",
       "      <th>6</th>\n",
       "      <td>CALIDAD_SDT_ra</td>\n",
       "      <td>2</td>\n",
       "    </tr>\n",
       "    <tr>\n",
       "      <th>7</th>\n",
       "      <td>CALIDAD_SDT_salin</td>\n",
       "      <td>2</td>\n",
       "    </tr>\n",
       "    <tr>\n",
       "      <th>8</th>\n",
       "      <td>DUR_mg/L</td>\n",
       "      <td>1</td>\n",
       "    </tr>\n",
       "    <tr>\n",
       "      <th>9</th>\n",
       "      <td>CALIDAD_DUR</td>\n",
       "      <td>1</td>\n",
       "    </tr>\n",
       "    <tr>\n",
       "      <th>10</th>\n",
       "      <td>N_NO3_mg/L</td>\n",
       "      <td>1</td>\n",
       "    </tr>\n",
       "    <tr>\n",
       "      <th>11</th>\n",
       "      <td>CALIDAD_N_NO3</td>\n",
       "      <td>1</td>\n",
       "    </tr>\n",
       "    <tr>\n",
       "      <th>12</th>\n",
       "      <td>CONTAMINANTES</td>\n",
       "      <td>434</td>\n",
       "    </tr>\n",
       "  </tbody>\n",
       "</table>\n",
       "</div>"
      ],
      "text/plain": [
       "              columns  total\n",
       "0            ALC_mg/L      4\n",
       "1         CALIDAD_ALC      4\n",
       "2       CONDUCT_mS/cm      6\n",
       "3      CALIDAD_CONDUC      6\n",
       "4            SDT_mg/L   1068\n",
       "5          SDT_M_mg/L      2\n",
       "6      CALIDAD_SDT_ra      2\n",
       "7   CALIDAD_SDT_salin      2\n",
       "8            DUR_mg/L      1\n",
       "9         CALIDAD_DUR      1\n",
       "10         N_NO3_mg/L      1\n",
       "11      CALIDAD_N_NO3      1\n",
       "12      CONTAMINANTES    434"
      ]
     },
     "execution_count": 4,
     "metadata": {},
     "output_type": "execute_result"
    }
   ],
   "source": [
    "na_columns = df.columns[df.isna().any()].tolist()\n",
    "na_total = df[na_columns].isna().sum()\n",
    "\n",
    "pd.DataFrame({'columns': na_columns, 'total': na_total.to_list() })"
   ]
  },
  {
   "cell_type": "markdown",
   "metadata": {},
   "source": [
    "De la tabla anterior se puede apreciar que la columna de Solidos Totales Disueltos (SDT_mg/L) está completamente vacía. La segunda columna con mayor cantidad de nulos es Contaminantes, sin embargo, esta es de esperarse puesto que hay mediciones de agua que no arrojan contaminantes. En otras palabras, un valor nulo en esta columna equivale a ausencia de contaminantes en el agua.\n",
    "\n",
    "Las demás columnas presentan pocas observaciones nulas. Más adelante definiremos una estrategia para de imputación para estas columnas con valores faltantes."
   ]
  },
  {
   "cell_type": "markdown",
   "metadata": {},
   "source": [
    "Del resultado anterior se observa columnas que contienen la misma información pero en tipo de datos diferentes. También hay columnas numéricas detectadas como tipo \"object\". Vamos a extraer primero todas las columnas categóricas y binarias, ya que son candidatas a ser eliminadas."
   ]
  },
  {
   "cell_type": "markdown",
   "metadata": {},
   "source": [
    "Ahora revisemos una de las columnas numéricas que fueron detectadas como object. Tomaremos un ejemplo con Cadmio (CD_TOT_mg/L)"
   ]
  },
  {
   "cell_type": "code",
   "execution_count": 5,
   "metadata": {},
   "outputs": [
    {
     "data": {
      "text/plain": [
       "<0.003     1066\n",
       "0.0056        1\n",
       "0.03211       1\n",
       "Name: CD_TOT_mg/L, dtype: int64"
      ]
     },
     "execution_count": 5,
     "metadata": {},
     "output_type": "execute_result"
    }
   ],
   "source": [
    "df['CD_TOT_mg/L'].value_counts()"
   ]
  },
  {
   "cell_type": "markdown",
   "metadata": {},
   "source": [
    "De lo anterior se observa que valores muy pequeños son colocados como \"<\". Para ello, vamos a reemplazar este string por un valor arbitrario por debajo del umbral, de manera que podamos crear una cota inferior y así analizarlo por medio de un histograma o boxplot."
   ]
  },
  {
   "cell_type": "code",
   "execution_count": 6,
   "metadata": {},
   "outputs": [
    {
     "data": {
      "text/html": [
       "<style type=\"text/css\">\n",
       "</style>\n",
       "<table id=\"T_99e57\">\n",
       "  <thead>\n",
       "    <tr>\n",
       "      <th id=\"T_99e57_level0_col0\" class=\"col_heading level0 col0\" >AS_TOT_mg/L</th>\n",
       "      <th id=\"T_99e57_level0_col1\" class=\"col_heading level0 col1\" >CD_TOT_mg/L</th>\n",
       "      <th id=\"T_99e57_level0_col2\" class=\"col_heading level0 col2\" >FE_TOT_mg/L</th>\n",
       "      <th id=\"T_99e57_level0_col3\" class=\"col_heading level0 col3\" >SDT_M_mg/L</th>\n",
       "      <th id=\"T_99e57_level0_col4\" class=\"col_heading level0 col4\" >FLUORUROS_mg/L</th>\n",
       "      <th id=\"T_99e57_level0_col5\" class=\"col_heading level0 col5\" >COLI_FEC_NMP/100_mL</th>\n",
       "      <th id=\"T_99e57_level0_col6\" class=\"col_heading level0 col6\" >CR_TOT_mg/L</th>\n",
       "      <th id=\"T_99e57_level0_col7\" class=\"col_heading level0 col7\" >DUR_mg/L</th>\n",
       "      <th id=\"T_99e57_level0_col8\" class=\"col_heading level0 col8\" >HG_TOT_mg/L</th>\n",
       "      <th id=\"T_99e57_level0_col9\" class=\"col_heading level0 col9\" >MN_TOT_mg/L</th>\n",
       "      <th id=\"T_99e57_level0_col10\" class=\"col_heading level0 col10\" >N_NO3_mg/L</th>\n",
       "      <th id=\"T_99e57_level0_col11\" class=\"col_heading level0 col11\" >PB_TOT_mg/L</th>\n",
       "    </tr>\n",
       "  </thead>\n",
       "  <tbody>\n",
       "    <tr>\n",
       "      <td id=\"T_99e57_row0_col0\" class=\"data row0 col0\" ><0.01</td>\n",
       "      <td id=\"T_99e57_row0_col1\" class=\"data row0 col1\" ><0.003</td>\n",
       "      <td id=\"T_99e57_row0_col2\" class=\"data row0 col2\" ><0.025</td>\n",
       "      <td id=\"T_99e57_row0_col3\" class=\"data row0 col3\" ><25</td>\n",
       "      <td id=\"T_99e57_row0_col4\" class=\"data row0 col4\" ><0.2</td>\n",
       "      <td id=\"T_99e57_row0_col5\" class=\"data row0 col5\" ><1.1</td>\n",
       "      <td id=\"T_99e57_row0_col6\" class=\"data row0 col6\" ><0.005</td>\n",
       "      <td id=\"T_99e57_row0_col7\" class=\"data row0 col7\" ><20</td>\n",
       "      <td id=\"T_99e57_row0_col8\" class=\"data row0 col8\" ><0.0005</td>\n",
       "      <td id=\"T_99e57_row0_col9\" class=\"data row0 col9\" ><0.0015</td>\n",
       "      <td id=\"T_99e57_row0_col10\" class=\"data row0 col10\" ><0.02</td>\n",
       "      <td id=\"T_99e57_row0_col11\" class=\"data row0 col11\" ><0.005</td>\n",
       "    </tr>\n",
       "  </tbody>\n",
       "</table>\n"
      ],
      "text/plain": [
       "<pandas.io.formats.style.Styler at 0x20d65957ca0>"
      ]
     },
     "metadata": {},
     "output_type": "display_data"
    }
   ],
   "source": [
    "#Definimos las variables numéricas a analizar\n",
    "vars = [\n",
    "        'ALC_mg/L','AS_TOT_mg/L', 'CD_TOT_mg/L', 'FE_TOT_mg/L', 'SDT_M_mg/L',\n",
    "        'SDT_mg/L', 'FLUORUROS_mg/L', 'COLI_FEC_NMP/100_mL', 'CONDUCT_mS/cm', \n",
    "        'CR_TOT_mg/L', 'DUR_mg/L', 'HG_TOT_mg/L', 'MN_TOT_mg/L', 'N_NO3_mg/L', 'PB_TOT_mg/L' ]\n",
    "\n",
    "limits = {}\n",
    "for  var in vars:\n",
    "        if  (df[var].dtypes == 'object'):\n",
    "                #Obtenemos las observaciones que solo tengan < > o =\n",
    "                limits[var] = df[df[var].str.contains('<|>|=', na='na') == True][var].value_counts().index\n",
    "#Lo convertimos en DF para mejor visualización\n",
    "limits_df = pd.DataFrame(limits, index = [0])\n",
    "display(limits_df.style.hide(axis = 'index'))"
   ]
  },
  {
   "cell_type": "markdown",
   "metadata": {},
   "source": [
    "Se observan que 12 variables tienen valores string. Vamos a proceder sustituir estos strings por valores numéricos."
   ]
  },
  {
   "cell_type": "code",
   "execution_count": 7,
   "metadata": {},
   "outputs": [
    {
     "data": {
      "text/html": [
       "<div>\n",
       "<style scoped>\n",
       "    .dataframe tbody tr th:only-of-type {\n",
       "        vertical-align: middle;\n",
       "    }\n",
       "\n",
       "    .dataframe tbody tr th {\n",
       "        vertical-align: top;\n",
       "    }\n",
       "\n",
       "    .dataframe thead th {\n",
       "        text-align: right;\n",
       "    }\n",
       "</style>\n",
       "<table border=\"1\" class=\"dataframe\">\n",
       "  <thead>\n",
       "    <tr style=\"text-align: right;\">\n",
       "      <th></th>\n",
       "      <th>attributes</th>\n",
       "      <th>attr_values</th>\n",
       "    </tr>\n",
       "  </thead>\n",
       "  <tbody>\n",
       "    <tr>\n",
       "      <th>0</th>\n",
       "      <td>AS_TOT_mg/L</td>\n",
       "      <td>0.01</td>\n",
       "    </tr>\n",
       "    <tr>\n",
       "      <th>1</th>\n",
       "      <td>CD_TOT_mg/L</td>\n",
       "      <td>0.003</td>\n",
       "    </tr>\n",
       "    <tr>\n",
       "      <th>2</th>\n",
       "      <td>FE_TOT_mg/L</td>\n",
       "      <td>0.025</td>\n",
       "    </tr>\n",
       "    <tr>\n",
       "      <th>3</th>\n",
       "      <td>SDT_M_mg/L</td>\n",
       "      <td>25</td>\n",
       "    </tr>\n",
       "    <tr>\n",
       "      <th>4</th>\n",
       "      <td>FLUORUROS_mg/L</td>\n",
       "      <td>0.2</td>\n",
       "    </tr>\n",
       "    <tr>\n",
       "      <th>5</th>\n",
       "      <td>COLI_FEC_NMP/100_mL</td>\n",
       "      <td>1.1</td>\n",
       "    </tr>\n",
       "    <tr>\n",
       "      <th>6</th>\n",
       "      <td>CR_TOT_mg/L</td>\n",
       "      <td>0.005</td>\n",
       "    </tr>\n",
       "    <tr>\n",
       "      <th>7</th>\n",
       "      <td>DUR_mg/L</td>\n",
       "      <td>20</td>\n",
       "    </tr>\n",
       "    <tr>\n",
       "      <th>8</th>\n",
       "      <td>HG_TOT_mg/L</td>\n",
       "      <td>0.0005</td>\n",
       "    </tr>\n",
       "    <tr>\n",
       "      <th>9</th>\n",
       "      <td>MN_TOT_mg/L</td>\n",
       "      <td>0.0015</td>\n",
       "    </tr>\n",
       "    <tr>\n",
       "      <th>10</th>\n",
       "      <td>N_NO3_mg/L</td>\n",
       "      <td>0.02</td>\n",
       "    </tr>\n",
       "    <tr>\n",
       "      <th>11</th>\n",
       "      <td>PB_TOT_mg/L</td>\n",
       "      <td>0.005</td>\n",
       "    </tr>\n",
       "  </tbody>\n",
       "</table>\n",
       "</div>"
      ],
      "text/plain": [
       "             attributes attr_values\n",
       "0           AS_TOT_mg/L        0.01\n",
       "1           CD_TOT_mg/L       0.003\n",
       "2           FE_TOT_mg/L       0.025\n",
       "3            SDT_M_mg/L          25\n",
       "4        FLUORUROS_mg/L         0.2\n",
       "5   COLI_FEC_NMP/100_mL         1.1\n",
       "6           CR_TOT_mg/L       0.005\n",
       "7              DUR_mg/L          20\n",
       "8           HG_TOT_mg/L      0.0005\n",
       "9           MN_TOT_mg/L      0.0015\n",
       "10           N_NO3_mg/L        0.02\n",
       "11          PB_TOT_mg/L       0.005"
      ]
     },
     "metadata": {},
     "output_type": "display_data"
    }
   ],
   "source": [
    "#Extraemos las columnas que deben ser convertidas de object a float\n",
    "columns = limits_df.columns\n",
    "\n",
    "#Hacemos un transpose para que la tabla tenga dos columnas, una con los atributos químicos y otra con sus valores\n",
    "limits_df = limits_df.transpose()\n",
    "limits_df = limits_df.reset_index(level = 0)\n",
    "limits_df.rename(columns={'index': 'attributes', 0:'attr_values'}, inplace= True)\n",
    "\n",
    "#Extraemos los valores numéricos, eliminando cualquier string (por ej. '<')\n",
    "limits_df.attr_values = limits_df.attr_values.str.extract('(\\d+\\.\\d+|\\d+)')\n",
    "\n",
    "display(limits_df)\n",
    "   \n",
    "   "
   ]
  },
  {
   "cell_type": "code",
   "execution_count": 8,
   "metadata": {},
   "outputs": [],
   "source": [
    "#Sustituimos los valores string por un valor float arbitrario, que se encuentre por debajo de lo indicado por la columna\n",
    "for col in columns:\n",
    "   val =  (limits_df.loc[limits_df.attributes == col].attr_values.values[0])\n",
    "   str_match = '<'+ val\n",
    "   val = float(val)\n",
    "\n",
    "   df.loc[df[col] == str_match, col] = val -(val/10)\n",
    "   \n",
    "   #Convertimos la columna a tipo float\n",
    "   df[col] = df[col].astype(float)"
   ]
  },
  {
   "cell_type": "code",
   "execution_count": 9,
   "metadata": {},
   "outputs": [
    {
     "data": {
      "text/html": [
       "<div>\n",
       "<style scoped>\n",
       "    .dataframe tbody tr th:only-of-type {\n",
       "        vertical-align: middle;\n",
       "    }\n",
       "\n",
       "    .dataframe tbody tr th {\n",
       "        vertical-align: top;\n",
       "    }\n",
       "\n",
       "    .dataframe thead th {\n",
       "        text-align: right;\n",
       "    }\n",
       "</style>\n",
       "<table border=\"1\" class=\"dataframe\">\n",
       "  <thead>\n",
       "    <tr style=\"text-align: right;\">\n",
       "      <th></th>\n",
       "      <th>FE_TOT_mg/L</th>\n",
       "    </tr>\n",
       "  </thead>\n",
       "  <tbody>\n",
       "    <tr>\n",
       "      <th>425</th>\n",
       "      <td>178.6150</td>\n",
       "    </tr>\n",
       "    <tr>\n",
       "      <th>331</th>\n",
       "      <td>16.4371</td>\n",
       "    </tr>\n",
       "    <tr>\n",
       "      <th>9</th>\n",
       "      <td>14.0600</td>\n",
       "    </tr>\n",
       "    <tr>\n",
       "      <th>799</th>\n",
       "      <td>13.4400</td>\n",
       "    </tr>\n",
       "    <tr>\n",
       "      <th>561</th>\n",
       "      <td>7.3820</td>\n",
       "    </tr>\n",
       "    <tr>\n",
       "      <th>...</th>\n",
       "      <td>...</td>\n",
       "    </tr>\n",
       "    <tr>\n",
       "      <th>675</th>\n",
       "      <td>0.0225</td>\n",
       "    </tr>\n",
       "    <tr>\n",
       "      <th>672</th>\n",
       "      <td>0.0225</td>\n",
       "    </tr>\n",
       "    <tr>\n",
       "      <th>671</th>\n",
       "      <td>0.0225</td>\n",
       "    </tr>\n",
       "    <tr>\n",
       "      <th>670</th>\n",
       "      <td>0.0225</td>\n",
       "    </tr>\n",
       "    <tr>\n",
       "      <th>1067</th>\n",
       "      <td>0.0225</td>\n",
       "    </tr>\n",
       "  </tbody>\n",
       "</table>\n",
       "<p>1068 rows × 1 columns</p>\n",
       "</div>"
      ],
      "text/plain": [
       "      FE_TOT_mg/L\n",
       "425      178.6150\n",
       "331       16.4371\n",
       "9         14.0600\n",
       "799       13.4400\n",
       "561        7.3820\n",
       "...           ...\n",
       "675        0.0225\n",
       "672        0.0225\n",
       "671        0.0225\n",
       "670        0.0225\n",
       "1067       0.0225\n",
       "\n",
       "[1068 rows x 1 columns]"
      ]
     },
     "execution_count": 9,
     "metadata": {},
     "output_type": "execute_result"
    }
   ],
   "source": [
    "#Probamos la conversión con una de las columnas\n",
    "df[['FE_TOT_mg/L']].sort_values(by = 'FE_TOT_mg/L', ascending = False)"
   ]
  },
  {
   "cell_type": "markdown",
   "metadata": {},
   "source": [
    "Ahora procedamos a revisar los valores únicos para cada variable numérica. Esto nos ayudará a decidir si valdría la pena usar la versión binaria o categórica en vez de alguna variable numérica."
   ]
  },
  {
   "cell_type": "code",
   "execution_count": 10,
   "metadata": {},
   "outputs": [
    {
     "data": {
      "text/html": [
       "<div>\n",
       "<style scoped>\n",
       "    .dataframe tbody tr th:only-of-type {\n",
       "        vertical-align: middle;\n",
       "    }\n",
       "\n",
       "    .dataframe tbody tr th {\n",
       "        vertical-align: top;\n",
       "    }\n",
       "\n",
       "    .dataframe thead th {\n",
       "        text-align: right;\n",
       "    }\n",
       "</style>\n",
       "<table border=\"1\" class=\"dataframe\">\n",
       "  <thead>\n",
       "    <tr style=\"text-align: right;\">\n",
       "      <th></th>\n",
       "      <th>attributes</th>\n",
       "      <th>unique_vals</th>\n",
       "    </tr>\n",
       "  </thead>\n",
       "  <tbody>\n",
       "    <tr>\n",
       "      <th>0</th>\n",
       "      <td>ALC_mg/L</td>\n",
       "      <td>817</td>\n",
       "    </tr>\n",
       "    <tr>\n",
       "      <th>1</th>\n",
       "      <td>AS_TOT_mg/L</td>\n",
       "      <td>209</td>\n",
       "    </tr>\n",
       "    <tr>\n",
       "      <th>2</th>\n",
       "      <td>CD_TOT_mg/L</td>\n",
       "      <td>3</td>\n",
       "    </tr>\n",
       "    <tr>\n",
       "      <th>3</th>\n",
       "      <td>FE_TOT_mg/L</td>\n",
       "      <td>615</td>\n",
       "    </tr>\n",
       "    <tr>\n",
       "      <th>4</th>\n",
       "      <td>SDT_M_mg/L</td>\n",
       "      <td>926</td>\n",
       "    </tr>\n",
       "    <tr>\n",
       "      <th>5</th>\n",
       "      <td>SDT_mg/L</td>\n",
       "      <td>1</td>\n",
       "    </tr>\n",
       "    <tr>\n",
       "      <th>6</th>\n",
       "      <td>FLUORUROS_mg/L</td>\n",
       "      <td>862</td>\n",
       "    </tr>\n",
       "    <tr>\n",
       "      <th>7</th>\n",
       "      <td>COLI_FEC_NMP/100_mL</td>\n",
       "      <td>125</td>\n",
       "    </tr>\n",
       "    <tr>\n",
       "      <th>8</th>\n",
       "      <td>CONDUCT_mS/cm</td>\n",
       "      <td>802</td>\n",
       "    </tr>\n",
       "    <tr>\n",
       "      <th>9</th>\n",
       "      <td>CR_TOT_mg/L</td>\n",
       "      <td>168</td>\n",
       "    </tr>\n",
       "    <tr>\n",
       "      <th>10</th>\n",
       "      <td>DUR_mg/L</td>\n",
       "      <td>890</td>\n",
       "    </tr>\n",
       "    <tr>\n",
       "      <th>11</th>\n",
       "      <td>HG_TOT_mg/L</td>\n",
       "      <td>61</td>\n",
       "    </tr>\n",
       "    <tr>\n",
       "      <th>12</th>\n",
       "      <td>MN_TOT_mg/L</td>\n",
       "      <td>362</td>\n",
       "    </tr>\n",
       "    <tr>\n",
       "      <th>13</th>\n",
       "      <td>N_NO3_mg/L</td>\n",
       "      <td>996</td>\n",
       "    </tr>\n",
       "    <tr>\n",
       "      <th>14</th>\n",
       "      <td>PB_TOT_mg/L</td>\n",
       "      <td>31</td>\n",
       "    </tr>\n",
       "  </tbody>\n",
       "</table>\n",
       "</div>"
      ],
      "text/plain": [
       "             attributes  unique_vals\n",
       "0              ALC_mg/L          817\n",
       "1           AS_TOT_mg/L          209\n",
       "2           CD_TOT_mg/L            3\n",
       "3           FE_TOT_mg/L          615\n",
       "4            SDT_M_mg/L          926\n",
       "5              SDT_mg/L            1\n",
       "6        FLUORUROS_mg/L          862\n",
       "7   COLI_FEC_NMP/100_mL          125\n",
       "8         CONDUCT_mS/cm          802\n",
       "9           CR_TOT_mg/L          168\n",
       "10             DUR_mg/L          890\n",
       "11          HG_TOT_mg/L           61\n",
       "12          MN_TOT_mg/L          362\n",
       "13           N_NO3_mg/L          996\n",
       "14          PB_TOT_mg/L           31"
      ]
     },
     "execution_count": 10,
     "metadata": {},
     "output_type": "execute_result"
    }
   ],
   "source": [
    "uniques = {'attributes': [], 'unique_vals': []}\n",
    "for col in vars:\n",
    "    uniques['attributes'].append(col) \n",
    "    uniques['unique_vals'].append(df[col].unique().size)\n",
    "    \n",
    "pd.DataFrame(uniques)"
   ]
  },
  {
   "cell_type": "markdown",
   "metadata": {},
   "source": [
    "De la tabla anterior, el atributo Solidos Disueltos Totales (SDT_mg/L) está completamente vacío y por eso aparece que tiene solo un valor único, como veremos más adelante. En el caso de Cadmio (CD_TOT), este tiene apenas 3 valores únicos. Revisemos cuáles son estos valores."
   ]
  },
  {
   "cell_type": "code",
   "execution_count": 11,
   "metadata": {},
   "outputs": [
    {
     "data": {
      "text/plain": [
       "0.00270    1066\n",
       "0.00560       1\n",
       "0.03211       1\n",
       "Name: CD_TOT_mg/L, dtype: int64"
      ]
     },
     "execution_count": 11,
     "metadata": {},
     "output_type": "execute_result"
    }
   ],
   "source": [
    "df['CD_TOT_mg/L'].value_counts()"
   ]
  },
  {
   "cell_type": "markdown",
   "metadata": {},
   "source": [
    "De lo anterior se puede apreciar que casi el 100% de las observaciones caen dentro del rango aceptable (<0.003), mientras que los otros dos valores no cumplen con el parámetro requerido (>0.005). Esto significa que podríamos perfectamente usar la variable binaria correspondiente a este atributo, ya que la información proporcionada es exactamente la misma."
   ]
  },
  {
   "cell_type": "markdown",
   "metadata": {},
   "source": [
    "Ahora revisemos la correlación entre cada una de las variables del conjunto de datos."
   ]
  },
  {
   "cell_type": "code",
   "execution_count": 12,
   "metadata": {},
   "outputs": [
    {
     "data": {
      "text/plain": [
       "<AxesSubplot:>"
      ]
     },
     "execution_count": 12,
     "metadata": {},
     "output_type": "execute_result"
    },
    {
     "data": {
      "image/png": "[encoded data removed]",
      "text/plain": [
       "<Figure size 720x720 with 2 Axes>"
      ]
     },
     "metadata": {
      "needs_background": "light"
     },
     "output_type": "display_data"
    }
   ],
   "source": [
    "cmap = LinearSegmentedColormap.from_list(\n",
    "    name='test', \n",
    "    colors=['red','white','red'])\n",
    "plt.figure(figsize=(10,10))\n",
    "sns.heatmap(np.round(df[vars].corr(), 2), annot=True, cmap = cmap, vmin = -1.0, vmax = 1.0)"
   ]
  },
  {
   "cell_type": "markdown",
   "metadata": {},
   "source": [
    "Para realizar el análisis de correlación, usaremos como umbral para definir correlación fuerte aquellas variables que tengan un coeficiente >= 0.75. Basado en este criterio, podemos observar que tres variables están altamente correlacionadas:\n",
    "\n",
    "* Mercurio (HG)\n",
    "* Manganeso (MN)\n",
    "* Hierro (FE)"
   ]
  },
  {
   "cell_type": "code",
   "execution_count": 13,
   "metadata": {},
   "outputs": [
    {
     "data": {
      "text/plain": [
       "HG_TOT_mg/L    False\n",
       "MN_TOT_mg/L    False\n",
       "FE_TOT_mg/L    False\n",
       "dtype: bool"
      ]
     },
     "execution_count": 13,
     "metadata": {},
     "output_type": "execute_result"
    }
   ],
   "source": [
    "df[['HG_TOT_mg/L', 'MN_TOT_mg/L', 'FE_TOT_mg/L']].isna().any()"
   ]
  },
  {
   "cell_type": "markdown",
   "metadata": {},
   "source": [
    "Ahora revisemos los campos vacíos de las demás variables que no tienen una correlación alta, basada en el criterio definido arriba"
   ]
  },
  {
   "cell_type": "code",
   "execution_count": 14,
   "metadata": {},
   "outputs": [
    {
     "data": {
      "text/html": [
       "<div>\n",
       "<style scoped>\n",
       "    .dataframe tbody tr th:only-of-type {\n",
       "        vertical-align: middle;\n",
       "    }\n",
       "\n",
       "    .dataframe tbody tr th {\n",
       "        vertical-align: top;\n",
       "    }\n",
       "\n",
       "    .dataframe thead th {\n",
       "        text-align: right;\n",
       "    }\n",
       "</style>\n",
       "<table border=\"1\" class=\"dataframe\">\n",
       "  <thead>\n",
       "    <tr style=\"text-align: right;\">\n",
       "      <th></th>\n",
       "      <th>columns</th>\n",
       "      <th>total</th>\n",
       "    </tr>\n",
       "  </thead>\n",
       "  <tbody>\n",
       "    <tr>\n",
       "      <th>0</th>\n",
       "      <td>ALC_mg/L</td>\n",
       "      <td>4</td>\n",
       "    </tr>\n",
       "    <tr>\n",
       "      <th>1</th>\n",
       "      <td>CALIDAD_ALC</td>\n",
       "      <td>4</td>\n",
       "    </tr>\n",
       "    <tr>\n",
       "      <th>2</th>\n",
       "      <td>CONDUCT_mS/cm</td>\n",
       "      <td>6</td>\n",
       "    </tr>\n",
       "    <tr>\n",
       "      <th>3</th>\n",
       "      <td>CALIDAD_CONDUC</td>\n",
       "      <td>6</td>\n",
       "    </tr>\n",
       "    <tr>\n",
       "      <th>4</th>\n",
       "      <td>SDT_mg/L</td>\n",
       "      <td>1068</td>\n",
       "    </tr>\n",
       "    <tr>\n",
       "      <th>5</th>\n",
       "      <td>SDT_M_mg/L</td>\n",
       "      <td>2</td>\n",
       "    </tr>\n",
       "    <tr>\n",
       "      <th>6</th>\n",
       "      <td>CALIDAD_SDT_ra</td>\n",
       "      <td>2</td>\n",
       "    </tr>\n",
       "    <tr>\n",
       "      <th>7</th>\n",
       "      <td>CALIDAD_SDT_salin</td>\n",
       "      <td>2</td>\n",
       "    </tr>\n",
       "    <tr>\n",
       "      <th>8</th>\n",
       "      <td>DUR_mg/L</td>\n",
       "      <td>1</td>\n",
       "    </tr>\n",
       "    <tr>\n",
       "      <th>9</th>\n",
       "      <td>CALIDAD_DUR</td>\n",
       "      <td>1</td>\n",
       "    </tr>\n",
       "    <tr>\n",
       "      <th>10</th>\n",
       "      <td>N_NO3_mg/L</td>\n",
       "      <td>1</td>\n",
       "    </tr>\n",
       "    <tr>\n",
       "      <th>11</th>\n",
       "      <td>CALIDAD_N_NO3</td>\n",
       "      <td>1</td>\n",
       "    </tr>\n",
       "    <tr>\n",
       "      <th>12</th>\n",
       "      <td>CONTAMINANTES</td>\n",
       "      <td>434</td>\n",
       "    </tr>\n",
       "  </tbody>\n",
       "</table>\n",
       "</div>"
      ],
      "text/plain": [
       "              columns  total\n",
       "0            ALC_mg/L      4\n",
       "1         CALIDAD_ALC      4\n",
       "2       CONDUCT_mS/cm      6\n",
       "3      CALIDAD_CONDUC      6\n",
       "4            SDT_mg/L   1068\n",
       "5          SDT_M_mg/L      2\n",
       "6      CALIDAD_SDT_ra      2\n",
       "7   CALIDAD_SDT_salin      2\n",
       "8            DUR_mg/L      1\n",
       "9         CALIDAD_DUR      1\n",
       "10         N_NO3_mg/L      1\n",
       "11      CALIDAD_N_NO3      1\n",
       "12      CONTAMINANTES    434"
      ]
     },
     "execution_count": 14,
     "metadata": {},
     "output_type": "execute_result"
    }
   ],
   "source": [
    "na_columns = df.columns[df.isna().any()].tolist()\n",
    "na_total = df[na_columns].isna().sum()\n",
    "\n",
    "pd.DataFrame({'columns': na_columns, 'total': na_total.to_list() })"
   ]
  },
  {
   "cell_type": "markdown",
   "metadata": {},
   "source": [
    "De la tabla anterior se aprecia que ninguna de las variables altamente correlacionadas cuentan con campos vacíos. También se puede observar que variables con una correlación relativamente alta, como Conductividad y Dureza (coef = 0.69), cuentan con campos vacíos. Para estas dos variables podríamos apoyarnos de la información de la correlación para definir una estrategia de imputación.\n",
    "\n",
    "En el caso de la variable \"SDT_mg/L\", esta se encuentra completamente vacía, sin embargo, esta tiene una relación directa con la conductividad del agua, donde puede ser calculada con la siguiente fórmula: (https://iwaponline.com/wst/article/77/8/1998/38602/Relationship-between-total-dissolved-solids-and):\n",
    "\n",
    "TDS (mg/L) = Ke x EC(uS/cm)\n",
    "\n",
    "donde Ke es un factor que normalmente varía entre 0.55 a 0.85 y EC es la conductividad del agua.\n",
    "\n",
    "Como la relación de los sólidos totales disueltos es directamente proporcional a la conductividad del agua, esta variable puede ser eliminada para fines de entrenar el modelo, ya que estaría altamente correlacionada con la conductividad, y por ende proporcionar la misma información para el modelo.\n",
    "\n",
    "Por otro lado, la segunda columna con mayor cantidad de nulos es Contaminantes, sin embargo, esta es de esperarse puesto que hay mediciones de agua que no arrojan contaminantes. En otras palabras, un valor nulo en esta columna equivale a ausencia de contaminantes en el agua.\n",
    "\n",
    "Las demás columnas presentan pocas observaciones nulas."
   ]
  },
  {
   "cell_type": "markdown",
   "metadata": {},
   "source": [
    "**Conclusiones de esta sección**\n",
    "\n",
    "De esta sección concluimos lo siguiente:\n",
    "\n",
    "1. Las columnas de Mercurio, Manganeso están altamente correlacionadas con Hierro, por lo que podemos eliminar dos de ellas. Para este caso, nos quedaremos solamente con la columna de Hierro.\n",
    "2. La variable \"SDT_mg/L\" tiene todos los campos vacíos, sin embargo, este valor es directamente proporcional a la conductividad. En este sentido, podemos eliminar esta columna ya que estaría altamente correlacionada con la conductividad.\n",
    "3. La variable \"Contaminantes\" puede ser eliminada, ya que esto solo indica los contaminantes cuando el agua no es apta para su uso. Esta información no agregaría valor al modelo.\n",
    "4. La variable \"CD_TOT\" solo tiene dos valores únicos, por lo que puede eliminarse y reemplazarse en su lugar por su variable binaria correspondiente (CUMPLE_CON_CD).\n",
    "5. Las demás variables binarias y categóricas pueden ser eliminadas ya que se estarán utilizando las variables numéricas en su lugar.\n",
    "\n",
    "\n",
    "En la próxima sesión definiremos la estrategia de imputación."
   ]
  },
  {
   "cell_type": "markdown",
   "metadata": {},
   "source": [
    "### **II. Estrategia de Imputación**\n",
    "\n",
    "En esta sección definiremos la mejor manera de imputar los datos vacíos y nulos. Para ello comencemos primero con las variables \"Conductividad\" y \"Dureza\", las cuales mostraron una correlación relativamente alta en la sección anterior.\n",
    "\n",
    "Comencemos primero revisando que porcentaje de las variables \"CUMPLE_CON_COND\" y \"CUMPLE_CON_DUR\" coincide en sus valores. Debido a la correlación de 0.69 obtenida en la sección anterior, es de esperarse que un alto porcentaje coincida."
   ]
  },
  {
   "cell_type": "markdown",
   "metadata": {},
   "source": [
    "Ahora procederemos a definir las columnas que estaremos eliminado, como concluímos en la sección #1."
   ]
  },
  {
   "cell_type": "code",
   "execution_count": 15,
   "metadata": {},
   "outputs": [],
   "source": [
    "cols_to_drop= ['CLAVE', 'SITIO', 'CONTAMINANTES', 'ORGANISMO_DE_CUENCA', 'PERIODO', \n",
    "                     'CD_TOT_mg/L', 'ACUIFERO', 'MUNICIPIO', 'SDT_mg/L', 'ESTADO']\n",
    "\n",
    "df_final_cols = df.drop(cols_to_drop, axis = 1)"
   ]
  },
  {
   "cell_type": "code",
   "execution_count": 16,
   "metadata": {},
   "outputs": [
    {
     "name": "stdout",
     "output_type": "stream",
     "text": [
      "Numeric variables: ['ALC_mg/L', 'CONDUCT_mS/cm', 'SDT_M_mg/L', 'FLUORUROS_mg/L', 'DUR_mg/L', 'COLI_FEC_NMP/100_mL', 'N_NO3_mg/L', 'AS_TOT_mg/L', 'CR_TOT_mg/L', 'HG_TOT_mg/L', 'PB_TOT_mg/L', 'MN_TOT_mg/L', 'FE_TOT_mg/L']\n",
      "\n",
      "Categorical variables: ['CALIDAD_ALC', 'CALIDAD_CONDUC', 'CALIDAD_SDT_ra', 'CALIDAD_SDT_salin', 'CALIDAD_FLUO', 'CALIDAD_DUR', 'CALIDAD_COLI_FEC', 'CALIDAD_N_NO3', 'CALIDAD_AS', 'CALIDAD_CD', 'CALIDAD_CR', 'CALIDAD_HG', 'CALIDAD_PB', 'CALIDAD_MN', 'CALIDAD_FE', 'LONGITUD', 'LATITUD', 'SUBTIPO', 'SEMAFORO']\n",
      "\n",
      "Binary variables: ['CUMPLE_CON_ALC', 'CUMPLE_CON_COND', 'CUMPLE_CON_SDT_ra', 'CUMPLE_CON_SDT_salin', 'CUMPLE_CON_FLUO', 'CUMPLE_CON_DUR', 'CUMPLE_CON_CF', 'CUMPLE_CON_NO3', 'CUMPLE_CON_AS', 'CUMPLE_CON_CD', 'CUMPLE_CON_CR', 'CUMPLE_CON_HG', 'CUMPLE_CON_PB', 'CUMPLE_CON_MN', 'CUMPLE_CON_FE']\n"
     ]
    }
   ],
   "source": [
    "bin_vars =  df.columns[df.columns.str.contains('CUMPLE')].to_list()\n",
    "cat_vars = df.columns[df.columns.str.contains('CALIDAD')].to_list() + ['LONGITUD', 'LATITUD', 'SUBTIPO', 'SEMAFORO']\n",
    "num_vars = df_final_cols.drop(cat_vars + bin_vars, axis = 1).columns.to_list()\n",
    "\n",
    "print(f'Numeric variables: {num_vars}\\n')\n",
    "print(f'Categorical variables: {cat_vars}\\n')\n",
    "print(f'Binary variables: {bin_vars}')"
   ]
  },
  {
   "cell_type": "code",
   "execution_count": 17,
   "metadata": {},
   "outputs": [
    {
     "data": {
      "text/plain": [
       "0.849250936329588"
      ]
     },
     "execution_count": 17,
     "metadata": {},
     "output_type": "execute_result"
    }
   ],
   "source": [
    "#Al existir una alta correlación entre conductividad y dureza, las columnas de cumplimiento coinciden en casi el 85% de las veces. Se podría imputar una de estas columna con el valor correspondiente de la otra\n",
    "len(df[df['CUMPLE_CON_COND'] == df['CUMPLE_CON_DUR']])/len(df)"
   ]
  },
  {
   "cell_type": "markdown",
   "metadata": {},
   "source": [
    "Cerca de 85% de las observaciones tienen valores iguales entre las columnas de \"CUMPLE_CON_COND\" y \"CUMPLE_CON_DUR\", como era de esperarse. Esta información podemos usarla para definir una estrategia de imputación personalizada, tanto para dureza como conductividad."
   ]
  },
  {
   "cell_type": "code",
   "execution_count": 18,
   "metadata": {},
   "outputs": [],
   "source": [
    "class WaterFeaturesImputer (TransformerMixin, BaseEstimator):\n",
    "    \n",
    "    def __transformHardness(self, X):\n",
    "               \n",
    "        X.loc[(X['DUR_mg/L'].isna()) & (X['CUMPLE_CON_COND'] == 'SI'),'DUR_mg/L'] = \\\n",
    "            X[X['CUMPLE_CON_COND'] == 'SI']['DUR_mg/L'].median()\n",
    "            \n",
    "        X.loc[(X['DUR_mg/L'].isna()) & (X['CUMPLE_CON_COND'] == 'NO'),'DUR_mg/L'] = \\\n",
    "            X[X['CUMPLE_CON_COND'] == 'NO']['DUR_mg/L'].median()\n",
    "        \n",
    "        return X\n",
    "        \n",
    "    def __transformConductivity(self, X):\n",
    "                \n",
    "        X.loc[(X['CONDUCT_mS/cm'].isna()) & (X['CUMPLE_CON_DUR'] == 'SI'),'CONDUCT_mS/cm'] = \\\n",
    "            X[X['CUMPLE_CON_DUR'] == 'SI']['CONDUCT_mS/cm'].median()\n",
    "            \n",
    "        X.loc[(X['CONDUCT_mS/cm'].isna()) & (X['CUMPLE_CON_DUR'] == 'NO'),'CONDUCT_mS/cm'] = \\\n",
    "            X[X['CUMPLE_CON_DUR'] == 'NO']['CONDUCT_mS/cm'].median()\n",
    "        \n",
    "        return X\n",
    "    \n",
    "    def fit(self, X, y = None):\n",
    "        return self\n",
    "    \n",
    "    def transform(self, X, y = None):\n",
    "        \n",
    "        X_copy = X.copy()\n",
    "        \n",
    "        X_copy = self.__transformHardness(X_copy)\n",
    "        X_copy = self.__transformConductivity(X_copy)\n",
    "        \n",
    "        X_copy = X_copy.drop(['CUMPLE_CON_DUR', 'CUMPLE_CON_COND'], axis = 1)\n",
    "        \n",
    "        X_copy = X_copy[num_vars].fillna(X_copy[num_vars].median())\n",
    "        \n",
    "        return X_copy"
   ]
  },
  {
   "cell_type": "markdown",
   "metadata": {},
   "source": [
    "Probemos que el imputador funciona"
   ]
  },
  {
   "cell_type": "code",
   "execution_count": 19,
   "metadata": {},
   "outputs": [
    {
     "data": {
      "text/plain": [
       "0"
      ]
     },
     "execution_count": 19,
     "metadata": {},
     "output_type": "execute_result"
    }
   ],
   "source": [
    "impt = WaterFeaturesImputer()\n",
    "df.dtypes\n",
    "res = impt.transform(df)\n",
    "\n",
    "res['CONDUCT_mS/cm'].isna().sum()"
   ]
  },
  {
   "cell_type": "code",
   "execution_count": 20,
   "metadata": {},
   "outputs": [
    {
     "data": {
      "text/plain": [
       "0"
      ]
     },
     "execution_count": 20,
     "metadata": {},
     "output_type": "execute_result"
    }
   ],
   "source": [
    "res['DUR_mg/L'].isna().sum()"
   ]
  },
  {
   "cell_type": "code",
   "execution_count": 21,
   "metadata": {},
   "outputs": [
    {
     "data": {
      "text/html": [
       "<div>\n",
       "<style scoped>\n",
       "    .dataframe tbody tr th:only-of-type {\n",
       "        vertical-align: middle;\n",
       "    }\n",
       "\n",
       "    .dataframe tbody tr th {\n",
       "        vertical-align: top;\n",
       "    }\n",
       "\n",
       "    .dataframe thead th {\n",
       "        text-align: right;\n",
       "    }\n",
       "</style>\n",
       "<table border=\"1\" class=\"dataframe\">\n",
       "  <thead>\n",
       "    <tr style=\"text-align: right;\">\n",
       "      <th></th>\n",
       "      <th>ALC_mg/L</th>\n",
       "      <th>CONDUCT_mS/cm</th>\n",
       "      <th>SDT_M_mg/L</th>\n",
       "      <th>FLUORUROS_mg/L</th>\n",
       "      <th>DUR_mg/L</th>\n",
       "      <th>COLI_FEC_NMP/100_mL</th>\n",
       "      <th>N_NO3_mg/L</th>\n",
       "      <th>AS_TOT_mg/L</th>\n",
       "      <th>CR_TOT_mg/L</th>\n",
       "      <th>HG_TOT_mg/L</th>\n",
       "      <th>PB_TOT_mg/L</th>\n",
       "      <th>MN_TOT_mg/L</th>\n",
       "      <th>FE_TOT_mg/L</th>\n",
       "    </tr>\n",
       "  </thead>\n",
       "  <tbody>\n",
       "    <tr>\n",
       "      <th>count</th>\n",
       "      <td>1064.000000</td>\n",
       "      <td>1062.000000</td>\n",
       "      <td>1066.000000</td>\n",
       "      <td>1068.000000</td>\n",
       "      <td>1067.000000</td>\n",
       "      <td>1068.000000</td>\n",
       "      <td>1067.000000</td>\n",
       "      <td>1068.000000</td>\n",
       "      <td>1068.000000</td>\n",
       "      <td>1068.000000</td>\n",
       "      <td>1068.000000</td>\n",
       "      <td>1068.000000</td>\n",
       "      <td>1068.000000</td>\n",
       "    </tr>\n",
       "    <tr>\n",
       "      <th>mean</th>\n",
       "      <td>235.633759</td>\n",
       "      <td>1138.953013</td>\n",
       "      <td>896.099221</td>\n",
       "      <td>1.072566</td>\n",
       "      <td>347.889338</td>\n",
       "      <td>355.414448</td>\n",
       "      <td>4.319637</td>\n",
       "      <td>0.018855</td>\n",
       "      <td>0.012876</td>\n",
       "      <td>0.000512</td>\n",
       "      <td>0.004796</td>\n",
       "      <td>0.072401</td>\n",
       "      <td>0.409449</td>\n",
       "    </tr>\n",
       "    <tr>\n",
       "      <th>std</th>\n",
       "      <td>116.874291</td>\n",
       "      <td>1245.563674</td>\n",
       "      <td>2751.531334</td>\n",
       "      <td>1.925673</td>\n",
       "      <td>359.714059</td>\n",
       "      <td>2052.470134</td>\n",
       "      <td>8.345197</td>\n",
       "      <td>0.035420</td>\n",
       "      <td>0.154413</td>\n",
       "      <td>0.000473</td>\n",
       "      <td>0.003297</td>\n",
       "      <td>0.376527</td>\n",
       "      <td>5.538039</td>\n",
       "    </tr>\n",
       "    <tr>\n",
       "      <th>min</th>\n",
       "      <td>26.640000</td>\n",
       "      <td>50.400000</td>\n",
       "      <td>22.500000</td>\n",
       "      <td>0.180000</td>\n",
       "      <td>18.000000</td>\n",
       "      <td>0.990000</td>\n",
       "      <td>0.018000</td>\n",
       "      <td>0.009000</td>\n",
       "      <td>0.004500</td>\n",
       "      <td>0.000450</td>\n",
       "      <td>0.004500</td>\n",
       "      <td>0.001350</td>\n",
       "      <td>0.022500</td>\n",
       "    </tr>\n",
       "    <tr>\n",
       "      <th>25%</th>\n",
       "      <td>164.000000</td>\n",
       "      <td>501.750000</td>\n",
       "      <td>337.500000</td>\n",
       "      <td>0.267175</td>\n",
       "      <td>121.194800</td>\n",
       "      <td>0.990000</td>\n",
       "      <td>0.650294</td>\n",
       "      <td>0.009000</td>\n",
       "      <td>0.004500</td>\n",
       "      <td>0.000450</td>\n",
       "      <td>0.004500</td>\n",
       "      <td>0.001350</td>\n",
       "      <td>0.022500</td>\n",
       "    </tr>\n",
       "    <tr>\n",
       "      <th>50%</th>\n",
       "      <td>215.527500</td>\n",
       "      <td>815.000000</td>\n",
       "      <td>550.400000</td>\n",
       "      <td>0.503500</td>\n",
       "      <td>245.335800</td>\n",
       "      <td>0.990000</td>\n",
       "      <td>2.080932</td>\n",
       "      <td>0.009000</td>\n",
       "      <td>0.004500</td>\n",
       "      <td>0.000450</td>\n",
       "      <td>0.004500</td>\n",
       "      <td>0.001350</td>\n",
       "      <td>0.046960</td>\n",
       "    </tr>\n",
       "    <tr>\n",
       "      <th>75%</th>\n",
       "      <td>292.710000</td>\n",
       "      <td>1322.750000</td>\n",
       "      <td>916.100000</td>\n",
       "      <td>1.139850</td>\n",
       "      <td>453.930000</td>\n",
       "      <td>13.250000</td>\n",
       "      <td>5.201698</td>\n",
       "      <td>0.009000</td>\n",
       "      <td>0.004500</td>\n",
       "      <td>0.000450</td>\n",
       "      <td>0.004500</td>\n",
       "      <td>0.009947</td>\n",
       "      <td>0.173380</td>\n",
       "    </tr>\n",
       "    <tr>\n",
       "      <th>max</th>\n",
       "      <td>1650.000000</td>\n",
       "      <td>18577.000000</td>\n",
       "      <td>82170.000000</td>\n",
       "      <td>34.803300</td>\n",
       "      <td>3810.692200</td>\n",
       "      <td>24196.000000</td>\n",
       "      <td>121.007813</td>\n",
       "      <td>0.452200</td>\n",
       "      <td>5.003200</td>\n",
       "      <td>0.014150</td>\n",
       "      <td>0.080900</td>\n",
       "      <td>8.982000</td>\n",
       "      <td>178.615000</td>\n",
       "    </tr>\n",
       "  </tbody>\n",
       "</table>\n",
       "</div>"
      ],
      "text/plain": [
       "          ALC_mg/L  CONDUCT_mS/cm    SDT_M_mg/L  FLUORUROS_mg/L     DUR_mg/L  \\\n",
       "count  1064.000000    1062.000000   1066.000000     1068.000000  1067.000000   \n",
       "mean    235.633759    1138.953013    896.099221        1.072566   347.889338   \n",
       "std     116.874291    1245.563674   2751.531334        1.925673   359.714059   \n",
       "min      26.640000      50.400000     22.500000        0.180000    18.000000   \n",
       "25%     164.000000     501.750000    337.500000        0.267175   121.194800   \n",
       "50%     215.527500     815.000000    550.400000        0.503500   245.335800   \n",
       "75%     292.710000    1322.750000    916.100000        1.139850   453.930000   \n",
       "max    1650.000000   18577.000000  82170.000000       34.803300  3810.692200   \n",
       "\n",
       "       COLI_FEC_NMP/100_mL   N_NO3_mg/L  AS_TOT_mg/L  CR_TOT_mg/L  \\\n",
       "count          1068.000000  1067.000000  1068.000000  1068.000000   \n",
       "mean            355.414448     4.319637     0.018855     0.012876   \n",
       "std            2052.470134     8.345197     0.035420     0.154413   \n",
       "min               0.990000     0.018000     0.009000     0.004500   \n",
       "25%               0.990000     0.650294     0.009000     0.004500   \n",
       "50%               0.990000     2.080932     0.009000     0.004500   \n",
       "75%              13.250000     5.201698     0.009000     0.004500   \n",
       "max           24196.000000   121.007813     0.452200     5.003200   \n",
       "\n",
       "       HG_TOT_mg/L  PB_TOT_mg/L  MN_TOT_mg/L  FE_TOT_mg/L  \n",
       "count  1068.000000  1068.000000  1068.000000  1068.000000  \n",
       "mean      0.000512     0.004796     0.072401     0.409449  \n",
       "std       0.000473     0.003297     0.376527     5.538039  \n",
       "min       0.000450     0.004500     0.001350     0.022500  \n",
       "25%       0.000450     0.004500     0.001350     0.022500  \n",
       "50%       0.000450     0.004500     0.001350     0.046960  \n",
       "75%       0.000450     0.004500     0.009947     0.173380  \n",
       "max       0.014150     0.080900     8.982000   178.615000  "
      ]
     },
     "execution_count": 21,
     "metadata": {},
     "output_type": "execute_result"
    }
   ],
   "source": [
    "#Para fines del análisis descriptivo, sacamos Longitud y Latitud, ya que estas variables son identificadores\n",
    "df_final_cols.drop(['LONGITUD', 'LATITUD'], axis = 1).describe()"
   ]
  },
  {
   "cell_type": "markdown",
   "metadata": {},
   "source": [
    "Si bien la mayoría de las variables tienen la misma unidad de medida, sus valores umbrales para definir la calidad del agua son diferentes. Por ejemplo, dureza debe ser menor < 60 mg/L, mientras que los nitratos deben estar por debajo de 5 mg/L y el mercurio por debajo de 0.006 mg/L. Esto significa que sería importante aplicar un escalamiento, para evitar que el modelo a entrenar de más peso a una variable que otra.\n",
    "\n",
    "Otro aspecto a destacar del análisis descriptivo es la presencia de valores atípicos. Por ejemplo, la dureza tiene un valir máximo de 3,810, cuando su media es de 346 y su mediana de 241.\n",
    "\n",
    "Hagamos un análisis gráfico de las variables para revisar su distribución y comportamiento."
   ]
  },
  {
   "cell_type": "code",
   "execution_count": 22,
   "metadata": {},
   "outputs": [],
   "source": [
    "cols_to_plot = df_final_cols.drop(cat_vars, axis = 1).columns"
   ]
  },
  {
   "cell_type": "code",
   "execution_count": 23,
   "metadata": {},
   "outputs": [
    {
     "data": {
      "image/png": "[encoded data removed]",
      "text/plain": [
       "<Figure size 504x3600 with 13 Axes>"
      ]
     },
     "metadata": {
      "needs_background": "light"
     },
     "output_type": "display_data"
    }
   ],
   "source": [
    "fig, axes = plt.subplots(13)\n",
    "fig.set_size_inches(7,50)\n",
    "plt.tight_layout(h_pad = 4)\n",
    "\n",
    "count = 0\n",
    "\n",
    "for i in range(13):\n",
    "        axes[i].boxplot(df_final_cols[num_vars[i]].dropna())\n",
    "        axes[i].set_title(num_vars[i])\n",
    "     "
   ]
  },
  {
   "cell_type": "markdown",
   "metadata": {},
   "source": [
    "De los diagramas de cajas presentados arriba se confirma la presencia de valores atípicos para todas las variables numéricas. Esto representa un problema para el algoritmo K-means, puesto a que es sensible a valores atípicos. Sin embargo, para modelos de clasificación como Árboles de Decisión o Random Forest, la presencia de los atípicos no suponen un problema para estos modelos. Como veremos más adelante, para minimizar el efecto de los atípicos estaremos usando la función \"Normalizer\" de la librería.\n",
    "\n",
    "Ahora veamos la composición de la variable de salida 'SEMAFORO'\n",
    "\n"
   ]
  },
  {
   "cell_type": "code",
   "execution_count": 24,
   "metadata": {},
   "outputs": [
    {
     "data": {
      "text/plain": [
       "Verde       40.636704\n",
       "Rojo        36.235955\n",
       "Amarillo    23.127341\n",
       "Name: SEMAFORO, dtype: float64"
      ]
     },
     "execution_count": 24,
     "metadata": {},
     "output_type": "execute_result"
    }
   ],
   "source": [
    "(df_final_cols.SEMAFORO.value_counts()/len(df_final_cols)) * 100"
   ]
  },
  {
   "cell_type": "markdown",
   "metadata": {},
   "source": [
    "Del análisis anterior se evidencia que la clase 'Amarillo' se encuentra ligeramente subrepresentada. Sin embargo, una representación equitativa de cada clase equivaldría a un 33%, por lo que tampoco se encuentra muy lejos de este valor.\n",
    "\n",
    "Para fines de este ejercicio no tomaríamos en cuenta estrategias para balanceo de clases por lo explicado arriba."
   ]
  },
  {
   "cell_type": "markdown",
   "metadata": {},
   "source": [
    "#### **III. Generación de Clústers por Kmeans**\n",
    "\n",
    "En esta sección estaremos agrupando las observaciones por clústers, a través del algortimo de KMeans. La agrupación de las observaciones la haremos de la siguiente manera:\n",
    "\n",
    "1. Por variables numéricas. Por medio de esta estrategia veremos si el algoritmo kmeans encuentra algún patrón de agrupamiento de las observaciones. Para esto debemos tomar en cuenta que los datos deben escalarse, ya que existen atípicos que pueden afectar el desempeño de este algoritmo, como vimos en la sección anterior.\n",
    "   \n",
    "2. Por coordenadas. Esto nos permitirá obtener obtener los centros de cada clúster y visaulizarlos en el mapa, y a partir de ahí obtener la moda del semáforo de cada centro para conocer cuál de estos valores es el que predomina para cada clúster."
   ]
  },
  {
   "cell_type": "markdown",
   "metadata": {},
   "source": [
    "**3.1. Kmeans por variables numéricas**\n",
    "\n",
    "Comencemos primero creando los pipelines para imputar y transformar los datos que estaremos usando para el kmeans. Debido a la presencia de atípicos, estaremos usando \"Normalizer\" para buscar que los atípicos se encuentren en una misma escala, así como buscar una distribución más uniforme.\n",
    "\n",
    "Existen otros métodos de escalamiento de datos, como el MinMaxScaler y StandardScaler, sin embargo, estos son sensibles a valores atípicos extremos."
   ]
  },
  {
   "cell_type": "code",
   "execution_count": 25,
   "metadata": {},
   "outputs": [
    {
     "data": {
      "text/plain": [
       "array([['Alta', 'Permisible para riego', 'Cultivos sensibles',\n",
       "        'Potable - Dulce', 'Potable - Optima', 'Potable - Dura',\n",
       "        'Potable - Excelente', 'Potable - Excelente', 'Apta como FAAP',\n",
       "        'Potable - Excelente', 'Potable - Excelente',\n",
       "        'Potable - Excelente', 'Potable - Excelente',\n",
       "        'Potable - Excelente', 'Potable - Excelente', -102.0221,\n",
       "        22.20887, 'POZO', 'Verde', 'SI', 'SI', 'SI', 'SI', 'SI', 'SI',\n",
       "        'SI', 'SI', 'SI', 'SI', 'SI', 'SI', 'SI', 'SI', 'SI',\n",
       "        0.19819882176400136, 0.8100651874349375, 0.5201652629103493,\n",
       "        0.0008416060234563403, 0.1841881411072809, 0.0008531537612346682,\n",
       "        0.0036062171776497193, 1.387452076351329e-05,\n",
       "        3.877971641975765e-06, 3.877971641975764e-07,\n",
       "        3.877971641975765e-06, 1.1633914925927293e-06,\n",
       "        7.678383851112013e-05],\n",
       "       ['Alta', 'Buena para riego', 'Excelente para riego',\n",
       "        'Potable - Dulce', 'Potable - Optima', 'Potable - Dura',\n",
       "        'Potable - Excelente', 'Potable - Buena calidad',\n",
       "        'Apta como FAAP', 'Potable - Excelente', 'Potable - Excelente',\n",
       "        'Potable - Excelente', 'Potable - Excelente',\n",
       "        'Potable - Excelente', 'Potable - Excelente', -102.20075,\n",
       "        21.99958, 'POZO', 'Verde', 'SI', 'SI', 'SI', 'SI', 'SI', 'SI',\n",
       "        'SI', 'SI', 'SI', 'SI', 'SI', 'SI', 'SI', 'SI', 'SI',\n",
       "        0.2863979242915282, 0.7505924305756677, 0.5498583364776355,\n",
       "        0.0011478632268902232, 0.2284509541240627, 0.0012221817537334063,\n",
       "        0.0070986661858181786, 1.6542662121240043e-05,\n",
       "        5.55537160787912e-06, 5.555371607879119e-07,\n",
       "        5.55537160787912e-06, 1.6666114823637358e-06,\n",
       "        2.77768580393956e-05],\n",
       "       ['Alta', 'Buena para riego', 'Excelente para riego',\n",
       "        'Potable - Dulce', 'Alta', 'Potable - Dura',\n",
       "        'Potable - Excelente', 'Potable - Excelente',\n",
       "        'No apta como FAAP', 'Potable - Excelente',\n",
       "        'Potable - Excelente', 'Potable - Excelente',\n",
       "        'Potable - Excelente', 'Potable - Excelente',\n",
       "        'Potable - Excelente', -102.28801, 22.36685, 'POZO', 'Rojo',\n",
       "        'SI', 'SI', 'SI', 'SI', 'NO', 'SI', 'SI', 'SI', 'NO', 'SI', 'SI',\n",
       "        'SI', 'SI', 'SI', 'SI', 0.3032742912723891, 0.7873410255558804,\n",
       "        0.5061478021430659, 0.002670595640254861, 0.178659814406166,\n",
       "        0.0014651646904141383, 0.00214565673096615,\n",
       "        5.4758680348811224e-05, 6.659839501882447e-06,\n",
       "        6.659839501882446e-07, 6.659839501882447e-06,\n",
       "        1.997951850564734e-06, 3.3299197509412235e-05]], dtype=object)"
      ]
     },
     "execution_count": 25,
     "metadata": {},
     "output_type": "execute_result"
    }
   ],
   "source": [
    "catImp_pipeline = Pipeline(steps = [('impModa', SimpleImputer(strategy='most_frequent'))])\n",
    "custom_pipeline = Pipeline(steps=[\n",
    "    ('hardness-imputer', WaterFeaturesImputer()),\n",
    "    ('scaler', Normalizer())    \n",
    "])  \n",
    "\n",
    "columnasTransformer = ColumnTransformer(transformers = [\n",
    "    ('catimp', catImp_pipeline, cat_vars + bin_vars),\n",
    "    ('custom-imp', custom_pipeline, (num_vars + ['CUMPLE_CON_COND', 'CUMPLE_CON_DUR'])),\n",
    "   ],\n",
    "    remainder='drop')\n",
    "\n",
    "\t\t\t\t\t\t\t\t\t\t\t\t\n",
    "\t\t\t\t\t\t\t\t\t\n",
    "pipeline = Pipeline(\n",
    "    steps=[\n",
    "        ('ct', columnasTransformer),        \n",
    "        ])\n",
    "\n",
    "scaled_f = pipeline.fit_transform(df)\n",
    "\n",
    "#Imprimimos una muestra de los datos transformados\n",
    "scaled_f[:3,:]"
   ]
  },
  {
   "cell_type": "markdown",
   "metadata": {},
   "source": [
    "Veamos como quedaron los datos luego de ser escalados"
   ]
  },
  {
   "cell_type": "code",
   "execution_count": 26,
   "metadata": {},
   "outputs": [
    {
     "data": {
      "image/png": "[encoded data removed]",
      "text/plain": [
       "<Figure size 432x288 with 1 Axes>"
      ]
     },
     "metadata": {
      "needs_background": "light"
     },
     "output_type": "display_data"
    }
   ],
   "source": [
    "plt.boxplot(x = ((scaled_f[:,34:])))\n",
    "plt.show()"
   ]
  },
  {
   "cell_type": "markdown",
   "metadata": {},
   "source": [
    "Aún se observan la presencia de atípicos, sin embargo, estos se encuentran en la misma escala, el cual es el resultado que queremos. Ahora procedamos a generar el número óptimo de clústeres, tanto por el método del codo como por el método de siluetas."
   ]
  },
  {
   "cell_type": "code",
   "execution_count": 27,
   "metadata": {},
   "outputs": [
    {
     "name": "stderr",
     "output_type": "stream",
     "text": [
      "c:\\Users\\matth\\anaconda3\\lib\\site-packages\\sklearn\\cluster\\_kmeans.py:1334: UserWarning: KMeans is known to have a memory leak on Windows with MKL, when there are less chunks than available threads. You can avoid it by setting the environment variable OMP_NUM_THREADS=5.\n",
      "  warnings.warn(\n",
      "c:\\Users\\matth\\anaconda3\\lib\\site-packages\\sklearn\\cluster\\_kmeans.py:1334: UserWarning: KMeans is known to have a memory leak on Windows with MKL, when there are less chunks than available threads. You can avoid it by setting the environment variable OMP_NUM_THREADS=5.\n",
      "  warnings.warn(\n",
      "c:\\Users\\matth\\anaconda3\\lib\\site-packages\\sklearn\\cluster\\_kmeans.py:1334: UserWarning: KMeans is known to have a memory leak on Windows with MKL, when there are less chunks than available threads. You can avoid it by setting the environment variable OMP_NUM_THREADS=5.\n",
      "  warnings.warn(\n",
      "c:\\Users\\matth\\anaconda3\\lib\\site-packages\\sklearn\\cluster\\_kmeans.py:1334: UserWarning: KMeans is known to have a memory leak on Windows with MKL, when there are less chunks than available threads. You can avoid it by setting the environment variable OMP_NUM_THREADS=5.\n",
      "  warnings.warn(\n",
      "c:\\Users\\matth\\anaconda3\\lib\\site-packages\\sklearn\\cluster\\_kmeans.py:1334: UserWarning: KMeans is known to have a memory leak on Windows with MKL, when there are less chunks than available threads. You can avoid it by setting the environment variable OMP_NUM_THREADS=5.\n",
      "  warnings.warn(\n",
      "c:\\Users\\matth\\anaconda3\\lib\\site-packages\\sklearn\\cluster\\_kmeans.py:1334: UserWarning: KMeans is known to have a memory leak on Windows with MKL, when there are less chunks than available threads. You can avoid it by setting the environment variable OMP_NUM_THREADS=5.\n",
      "  warnings.warn(\n",
      "c:\\Users\\matth\\anaconda3\\lib\\site-packages\\sklearn\\cluster\\_kmeans.py:1334: UserWarning: KMeans is known to have a memory leak on Windows with MKL, when there are less chunks than available threads. You can avoid it by setting the environment variable OMP_NUM_THREADS=5.\n",
      "  warnings.warn(\n",
      "c:\\Users\\matth\\anaconda3\\lib\\site-packages\\sklearn\\cluster\\_kmeans.py:1334: UserWarning: KMeans is known to have a memory leak on Windows with MKL, when there are less chunks than available threads. You can avoid it by setting the environment variable OMP_NUM_THREADS=5.\n",
      "  warnings.warn(\n",
      "c:\\Users\\matth\\anaconda3\\lib\\site-packages\\sklearn\\cluster\\_kmeans.py:1334: UserWarning: KMeans is known to have a memory leak on Windows with MKL, when there are less chunks than available threads. You can avoid it by setting the environment variable OMP_NUM_THREADS=5.\n",
      "  warnings.warn(\n",
      "c:\\Users\\matth\\anaconda3\\lib\\site-packages\\sklearn\\cluster\\_kmeans.py:1334: UserWarning: KMeans is known to have a memory leak on Windows with MKL, when there are less chunks than available threads. You can avoid it by setting the environment variable OMP_NUM_THREADS=5.\n",
      "  warnings.warn(\n",
      "c:\\Users\\matth\\anaconda3\\lib\\site-packages\\sklearn\\cluster\\_kmeans.py:1334: UserWarning: KMeans is known to have a memory leak on Windows with MKL, when there are less chunks than available threads. You can avoid it by setting the environment variable OMP_NUM_THREADS=5.\n",
      "  warnings.warn(\n",
      "c:\\Users\\matth\\anaconda3\\lib\\site-packages\\sklearn\\cluster\\_kmeans.py:1334: UserWarning: KMeans is known to have a memory leak on Windows with MKL, when there are less chunks than available threads. You can avoid it by setting the environment variable OMP_NUM_THREADS=5.\n",
      "  warnings.warn(\n",
      "c:\\Users\\matth\\anaconda3\\lib\\site-packages\\sklearn\\cluster\\_kmeans.py:1334: UserWarning: KMeans is known to have a memory leak on Windows with MKL, when there are less chunks than available threads. You can avoid it by setting the environment variable OMP_NUM_THREADS=5.\n",
      "  warnings.warn(\n",
      "c:\\Users\\matth\\anaconda3\\lib\\site-packages\\sklearn\\cluster\\_kmeans.py:1334: UserWarning: KMeans is known to have a memory leak on Windows with MKL, when there are less chunks than available threads. You can avoid it by setting the environment variable OMP_NUM_THREADS=5.\n",
      "  warnings.warn(\n"
     ]
    },
    {
     "data": {
      "text/plain": [
       "Text(0.5, 1.0, 'K-Means: Gráfica de codo')"
      ]
     },
     "execution_count": 27,
     "metadata": {},
     "output_type": "execute_result"
    },
    {
     "data": {
      "image/png": "[encoded data removed]",
      "text/plain": [
       "<Figure size 432x288 with 1 Axes>"
      ]
     },
     "metadata": {
      "needs_background": "light"
     },
     "output_type": "display_data"
    }
   ],
   "source": [
    "from sklearn.cluster import KMeans\n",
    "K = range(1,15)\n",
    "\n",
    "wss = []\n",
    "\n",
    "for k in K:\n",
    "    kmeans = KMeans(n_clusters=k, init='k-means++')\n",
    "    \n",
    "    kmeans = kmeans.fit(scaled_f[:,34:])\n",
    "    wss_iter = kmeans.inertia_\n",
    "    wss.append(wss_iter)\n",
    "\n",
    "centers = pd.DataFrame({'Clusters': K, 'WSS': wss})\n",
    "\n",
    "import seaborn as sns\n",
    "plt.plot(centers.Clusters, centers.WSS, 'ro-', markersize = 5)\n",
    "plt.xlabel('Número de clústeres')\n",
    "plt.ylabel('Error cuadrático')\n",
    "plt.title('K-Means: Gráfica de codo')"
   ]
  },
  {
   "cell_type": "code",
   "execution_count": 28,
   "metadata": {},
   "outputs": [
    {
     "name": "stderr",
     "output_type": "stream",
     "text": [
      "c:\\Users\\matth\\anaconda3\\lib\\site-packages\\sklearn\\cluster\\_kmeans.py:1334: UserWarning: KMeans is known to have a memory leak on Windows with MKL, when there are less chunks than available threads. You can avoid it by setting the environment variable OMP_NUM_THREADS=5.\n",
      "  warnings.warn(\n"
     ]
    },
    {
     "name": "stdout",
     "output_type": "stream",
     "text": [
      "Silhouette score for k(clusters) = 2 is 0.7285495977148867\n"
     ]
    },
    {
     "name": "stderr",
     "output_type": "stream",
     "text": [
      "c:\\Users\\matth\\anaconda3\\lib\\site-packages\\sklearn\\cluster\\_kmeans.py:1334: UserWarning: KMeans is known to have a memory leak on Windows with MKL, when there are less chunks than available threads. You can avoid it by setting the environment variable OMP_NUM_THREADS=5.\n",
      "  warnings.warn(\n"
     ]
    },
    {
     "name": "stdout",
     "output_type": "stream",
     "text": [
      "Silhouette score for k(clusters) = 3 is 0.3277586102705237\n"
     ]
    },
    {
     "name": "stderr",
     "output_type": "stream",
     "text": [
      "c:\\Users\\matth\\anaconda3\\lib\\site-packages\\sklearn\\cluster\\_kmeans.py:1334: UserWarning: KMeans is known to have a memory leak on Windows with MKL, when there are less chunks than available threads. You can avoid it by setting the environment variable OMP_NUM_THREADS=5.\n",
      "  warnings.warn(\n"
     ]
    },
    {
     "name": "stdout",
     "output_type": "stream",
     "text": [
      "Silhouette score for k(clusters) = 4 is 0.2463930649898348\n"
     ]
    },
    {
     "name": "stderr",
     "output_type": "stream",
     "text": [
      "c:\\Users\\matth\\anaconda3\\lib\\site-packages\\sklearn\\cluster\\_kmeans.py:1334: UserWarning: KMeans is known to have a memory leak on Windows with MKL, when there are less chunks than available threads. You can avoid it by setting the environment variable OMP_NUM_THREADS=5.\n",
      "  warnings.warn(\n"
     ]
    },
    {
     "name": "stdout",
     "output_type": "stream",
     "text": [
      "Silhouette score for k(clusters) = 5 is 0.25541264461005164\n"
     ]
    },
    {
     "name": "stderr",
     "output_type": "stream",
     "text": [
      "c:\\Users\\matth\\anaconda3\\lib\\site-packages\\sklearn\\cluster\\_kmeans.py:1334: UserWarning: KMeans is known to have a memory leak on Windows with MKL, when there are less chunks than available threads. You can avoid it by setting the environment variable OMP_NUM_THREADS=5.\n",
      "  warnings.warn(\n"
     ]
    },
    {
     "name": "stdout",
     "output_type": "stream",
     "text": [
      "Silhouette score for k(clusters) = 6 is 0.2617335482584944\n"
     ]
    },
    {
     "name": "stderr",
     "output_type": "stream",
     "text": [
      "c:\\Users\\matth\\anaconda3\\lib\\site-packages\\sklearn\\cluster\\_kmeans.py:1334: UserWarning: KMeans is known to have a memory leak on Windows with MKL, when there are less chunks than available threads. You can avoid it by setting the environment variable OMP_NUM_THREADS=5.\n",
      "  warnings.warn(\n"
     ]
    },
    {
     "name": "stdout",
     "output_type": "stream",
     "text": [
      "Silhouette score for k(clusters) = 7 is 0.26267633228091436\n"
     ]
    },
    {
     "name": "stderr",
     "output_type": "stream",
     "text": [
      "c:\\Users\\matth\\anaconda3\\lib\\site-packages\\sklearn\\cluster\\_kmeans.py:1334: UserWarning: KMeans is known to have a memory leak on Windows with MKL, when there are less chunks than available threads. You can avoid it by setting the environment variable OMP_NUM_THREADS=5.\n",
      "  warnings.warn(\n"
     ]
    },
    {
     "name": "stdout",
     "output_type": "stream",
     "text": [
      "Silhouette score for k(clusters) = 8 is 0.26535285060555036\n"
     ]
    },
    {
     "name": "stderr",
     "output_type": "stream",
     "text": [
      "c:\\Users\\matth\\anaconda3\\lib\\site-packages\\sklearn\\cluster\\_kmeans.py:1334: UserWarning: KMeans is known to have a memory leak on Windows with MKL, when there are less chunks than available threads. You can avoid it by setting the environment variable OMP_NUM_THREADS=5.\n",
      "  warnings.warn(\n"
     ]
    },
    {
     "name": "stdout",
     "output_type": "stream",
     "text": [
      "Silhouette score for k(clusters) = 9 is 0.2565633266250199\n"
     ]
    }
   ],
   "source": [
    "#Empezamos a partir del segundo clúster\n",
    "for i in range(2,10):\n",
    "    #Entrenamos nuevamente el modelo para obtener el score de cada uno de ellos\n",
    "    labels=KMeans(n_clusters=i,init=\"k-means++\",random_state=200).fit(scaled_f[:,34:]).labels_\n",
    "    #Imprimimos las métricas\n",
    "    print (\"Silhouette score for k(clusters) = \"+str(i)+\" is \"\n",
    "           +str(\n",
    "               metrics.silhouette_score(\n",
    "                   scaled_f[:,34:],labels,\n",
    "                   metric=\"euclidean\",\n",
    "                   sample_size=1000,random_state=200))) "
   ]
  },
  {
   "cell_type": "markdown",
   "metadata": {},
   "source": [
    "Tanto el método del codo como el método de siluetas coinciden en que el número óptimo de clústers es de 2. Tomemos esta información para el modelo final."
   ]
  },
  {
   "cell_type": "code",
   "execution_count": 29,
   "metadata": {},
   "outputs": [
    {
     "name": "stderr",
     "output_type": "stream",
     "text": [
      "c:\\Users\\matth\\anaconda3\\lib\\site-packages\\sklearn\\cluster\\_kmeans.py:1334: UserWarning: KMeans is known to have a memory leak on Windows with MKL, when there are less chunks than available threads. You can avoid it by setting the environment variable OMP_NUM_THREADS=5.\n",
      "  warnings.warn(\n"
     ]
    },
    {
     "data": {
      "text/plain": [
       "0    0\n",
       "1    0\n",
       "2    0\n",
       "3    0\n",
       "4    0\n",
       "Name: labels, dtype: int32"
      ]
     },
     "execution_count": 29,
     "metadata": {},
     "output_type": "execute_result"
    }
   ],
   "source": [
    "\n",
    "k = 2 #Número óptimo de clústers\n",
    "kmeans = KMeans(n_clusters = k, init ='k-means++')\n",
    "\n",
    "kmeans.fit(scaled_f[:,34:])\n",
    "\n",
    "#Asignamos cada clúster a nuestros datos\n",
    "df_final_cols['labels'] = kmeans.labels_\n",
    "df_final_cols['labels'].head()\n"
   ]
  },
  {
   "cell_type": "code",
   "execution_count": 30,
   "metadata": {},
   "outputs": [],
   "source": [
    "#Obtengamos los mapas\n",
    "world = gpd.read_file(gpd.datasets.get_path(\"naturalearth_lowres\"))\n",
    "world = world.set_index(\"iso_a3\")\n",
    "\n",
    "#Generemos las coordenadas\n",
    "df_final_cols[\"Coordinates\"] = list(zip(df_final_cols.LONGITUD, df_final_cols.LATITUD))\n",
    "df_final_cols[\"Coordinates\"] = df_final_cols[\"Coordinates\"].apply(Point)\n",
    "\n",
    "#Construimos el dataframe\n",
    "gdf = gpd.GeoDataFrame(df_final_cols, geometry=\"Coordinates\")"
   ]
  },
  {
   "cell_type": "code",
   "execution_count": 31,
   "metadata": {},
   "outputs": [
    {
     "data": {
      "image/png": "[encoded data removed]",
      "text/plain": [
       "<Figure size 720x720 with 2 Axes>"
      ]
     },
     "metadata": {
      "needs_background": "light"
     },
     "output_type": "display_data"
    }
   ],
   "source": [
    "#Generamos un mapeo de los colores\n",
    "color_map = {\n",
    "    'Verde': 'tab:green',\n",
    "    'Rojo': 'tab:red',\n",
    "    'Amarillo': 'tab:olive'\n",
    "}\n",
    "\n",
    "fig, gax = plt.subplots(k, figsize=(10,10))\n",
    "plt.tight_layout()\n",
    "\n",
    "#Generamos un mapa por clúster para mejor visibilidad de los puntos\n",
    "for i in range(k):\n",
    "  \n",
    "    #Graficamos el mapa de México\n",
    "    world.query(\"name == 'Mexico'\").plot(ax = gax[i], edgecolor='black', color='white')\n",
    "    #Graficamos los puntos\n",
    "    gdf[gdf.labels == i].plot(ax=gax[i], color=df[gdf.labels == i].SEMAFORO.map(color_map), \n",
    "                              markersize=100, marker='o', alpha = 0.5, aspect = 'equal')\n",
    "\n",
    "plt.show()"
   ]
  },
  {
   "cell_type": "markdown",
   "metadata": {},
   "source": [
    "En el gráfico anterior llama la atención que el clúster #2 se compone mayormente de pozos donde la calidad del agua está contaminada. En el caso del clúster 1 se observa que este contiene pozos con una calidad de agua mixta, tanto potable como contaminada.\n",
    "\n",
    "Veamos los datos más de cerca para entender mejor las diferencias entre estos dos clústers. Para esto generaremos estadísticas descriptiva por atributo y por clúster."
   ]
  },
  {
   "cell_type": "code",
   "execution_count": 32,
   "metadata": {},
   "outputs": [
    {
     "name": "stdout",
     "output_type": "stream",
     "text": [
      "ALC_mg/L\n"
     ]
    },
    {
     "data": {
      "text/html": [
       "<div>\n",
       "<style scoped>\n",
       "    .dataframe tbody tr th:only-of-type {\n",
       "        vertical-align: middle;\n",
       "    }\n",
       "\n",
       "    .dataframe tbody tr th {\n",
       "        vertical-align: top;\n",
       "    }\n",
       "\n",
       "    .dataframe thead th {\n",
       "        text-align: right;\n",
       "    }\n",
       "</style>\n",
       "<table border=\"1\" class=\"dataframe\">\n",
       "  <thead>\n",
       "    <tr style=\"text-align: right;\">\n",
       "      <th></th>\n",
       "      <th>mean</th>\n",
       "      <th>median</th>\n",
       "      <th>std</th>\n",
       "      <th>min</th>\n",
       "      <th>max</th>\n",
       "      <th>mode</th>\n",
       "    </tr>\n",
       "  </thead>\n",
       "  <tbody>\n",
       "    <tr>\n",
       "      <th>Cluster 1</th>\n",
       "      <td>236.433225</td>\n",
       "      <td>215.715</td>\n",
       "      <td>118.889253</td>\n",
       "      <td>26.64</td>\n",
       "      <td>1650.00</td>\n",
       "      <td>157.62</td>\n",
       "    </tr>\n",
       "    <tr>\n",
       "      <th>Cluster 2</th>\n",
       "      <td>223.737239</td>\n",
       "      <td>211.335</td>\n",
       "      <td>80.896427</td>\n",
       "      <td>89.38</td>\n",
       "      <td>455.52</td>\n",
       "      <td>168.72</td>\n",
       "    </tr>\n",
       "  </tbody>\n",
       "</table>\n",
       "</div>"
      ],
      "text/plain": [
       "                 mean   median         std    min      max    mode\n",
       "Cluster 1  236.433225  215.715  118.889253  26.64  1650.00  157.62\n",
       "Cluster 2  223.737239  211.335   80.896427  89.38   455.52  168.72"
      ]
     },
     "metadata": {},
     "output_type": "display_data"
    },
    {
     "name": "stdout",
     "output_type": "stream",
     "text": [
      "CONDUCT_mS/cm\n"
     ]
    },
    {
     "data": {
      "text/html": [
       "<div>\n",
       "<style scoped>\n",
       "    .dataframe tbody tr th:only-of-type {\n",
       "        vertical-align: middle;\n",
       "    }\n",
       "\n",
       "    .dataframe tbody tr th {\n",
       "        vertical-align: top;\n",
       "    }\n",
       "\n",
       "    .dataframe thead th {\n",
       "        text-align: right;\n",
       "    }\n",
       "</style>\n",
       "<table border=\"1\" class=\"dataframe\">\n",
       "  <thead>\n",
       "    <tr style=\"text-align: right;\">\n",
       "      <th></th>\n",
       "      <th>mean</th>\n",
       "      <th>median</th>\n",
       "      <th>std</th>\n",
       "      <th>min</th>\n",
       "      <th>max</th>\n",
       "      <th>mode</th>\n",
       "    </tr>\n",
       "  </thead>\n",
       "  <tbody>\n",
       "    <tr>\n",
       "      <th>Cluster 1</th>\n",
       "      <td>1151.089246</td>\n",
       "      <td>830.0</td>\n",
       "      <td>1269.357431</td>\n",
       "      <td>50.4</td>\n",
       "      <td>18577.0</td>\n",
       "      <td>777.0</td>\n",
       "    </tr>\n",
       "    <tr>\n",
       "      <th>Cluster 2</th>\n",
       "      <td>958.720896</td>\n",
       "      <td>731.0</td>\n",
       "      <td>799.075171</td>\n",
       "      <td>226.0</td>\n",
       "      <td>4960.0</td>\n",
       "      <td>495.0</td>\n",
       "    </tr>\n",
       "  </tbody>\n",
       "</table>\n",
       "</div>"
      ],
      "text/plain": [
       "                  mean  median          std    min      max   mode\n",
       "Cluster 1  1151.089246   830.0  1269.357431   50.4  18577.0  777.0\n",
       "Cluster 2   958.720896   731.0   799.075171  226.0   4960.0  495.0"
      ]
     },
     "metadata": {},
     "output_type": "display_data"
    },
    {
     "name": "stdout",
     "output_type": "stream",
     "text": [
      "SDT_M_mg/L\n"
     ]
    },
    {
     "data": {
      "text/html": [
       "<div>\n",
       "<style scoped>\n",
       "    .dataframe tbody tr th:only-of-type {\n",
       "        vertical-align: middle;\n",
       "    }\n",
       "\n",
       "    .dataframe tbody tr th {\n",
       "        vertical-align: top;\n",
       "    }\n",
       "\n",
       "    .dataframe thead th {\n",
       "        text-align: right;\n",
       "    }\n",
       "</style>\n",
       "<table border=\"1\" class=\"dataframe\">\n",
       "  <thead>\n",
       "    <tr style=\"text-align: right;\">\n",
       "      <th></th>\n",
       "      <th>mean</th>\n",
       "      <th>median</th>\n",
       "      <th>std</th>\n",
       "      <th>min</th>\n",
       "      <th>max</th>\n",
       "      <th>mode</th>\n",
       "    </tr>\n",
       "  </thead>\n",
       "  <tbody>\n",
       "    <tr>\n",
       "      <th>Cluster 1</th>\n",
       "      <td>910.802506</td>\n",
       "      <td>556.0</td>\n",
       "      <td>2837.892147</td>\n",
       "      <td>22.5</td>\n",
       "      <td>82170.0</td>\n",
       "      <td>292.0</td>\n",
       "    </tr>\n",
       "    <tr>\n",
       "      <th>Cluster 2</th>\n",
       "      <td>676.866667</td>\n",
       "      <td>491.6</td>\n",
       "      <td>578.320845</td>\n",
       "      <td>151.6</td>\n",
       "      <td>3299.0</td>\n",
       "      <td>188.0</td>\n",
       "    </tr>\n",
       "  </tbody>\n",
       "</table>\n",
       "</div>"
      ],
      "text/plain": [
       "                 mean  median          std    min      max   mode\n",
       "Cluster 1  910.802506   556.0  2837.892147   22.5  82170.0  292.0\n",
       "Cluster 2  676.866667   491.6   578.320845  151.6   3299.0  188.0"
      ]
     },
     "metadata": {},
     "output_type": "display_data"
    },
    {
     "name": "stdout",
     "output_type": "stream",
     "text": [
      "FLUORUROS_mg/L\n"
     ]
    },
    {
     "data": {
      "text/html": [
       "<div>\n",
       "<style scoped>\n",
       "    .dataframe tbody tr th:only-of-type {\n",
       "        vertical-align: middle;\n",
       "    }\n",
       "\n",
       "    .dataframe tbody tr th {\n",
       "        vertical-align: top;\n",
       "    }\n",
       "\n",
       "    .dataframe thead th {\n",
       "        text-align: right;\n",
       "    }\n",
       "</style>\n",
       "<table border=\"1\" class=\"dataframe\">\n",
       "  <thead>\n",
       "    <tr style=\"text-align: right;\">\n",
       "      <th></th>\n",
       "      <th>mean</th>\n",
       "      <th>median</th>\n",
       "      <th>std</th>\n",
       "      <th>min</th>\n",
       "      <th>max</th>\n",
       "      <th>mode</th>\n",
       "    </tr>\n",
       "  </thead>\n",
       "  <tbody>\n",
       "    <tr>\n",
       "      <th>Cluster 1</th>\n",
       "      <td>1.078019</td>\n",
       "      <td>0.5163</td>\n",
       "      <td>1.935708</td>\n",
       "      <td>0.18</td>\n",
       "      <td>34.8033</td>\n",
       "      <td>0.18</td>\n",
       "    </tr>\n",
       "    <tr>\n",
       "      <th>Cluster 2</th>\n",
       "      <td>0.991093</td>\n",
       "      <td>0.3326</td>\n",
       "      <td>1.780481</td>\n",
       "      <td>0.18</td>\n",
       "      <td>12.5010</td>\n",
       "      <td>0.18</td>\n",
       "    </tr>\n",
       "  </tbody>\n",
       "</table>\n",
       "</div>"
      ],
      "text/plain": [
       "               mean  median       std   min      max  mode\n",
       "Cluster 1  1.078019  0.5163  1.935708  0.18  34.8033  0.18\n",
       "Cluster 2  0.991093  0.3326  1.780481  0.18  12.5010  0.18"
      ]
     },
     "metadata": {},
     "output_type": "display_data"
    },
    {
     "name": "stdout",
     "output_type": "stream",
     "text": [
      "DUR_mg/L\n"
     ]
    },
    {
     "data": {
      "text/html": [
       "<div>\n",
       "<style scoped>\n",
       "    .dataframe tbody tr th:only-of-type {\n",
       "        vertical-align: middle;\n",
       "    }\n",
       "\n",
       "    .dataframe tbody tr th {\n",
       "        vertical-align: top;\n",
       "    }\n",
       "\n",
       "    .dataframe thead th {\n",
       "        text-align: right;\n",
       "    }\n",
       "</style>\n",
       "<table border=\"1\" class=\"dataframe\">\n",
       "  <thead>\n",
       "    <tr style=\"text-align: right;\">\n",
       "      <th></th>\n",
       "      <th>mean</th>\n",
       "      <th>median</th>\n",
       "      <th>std</th>\n",
       "      <th>min</th>\n",
       "      <th>max</th>\n",
       "      <th>mode</th>\n",
       "    </tr>\n",
       "  </thead>\n",
       "  <tbody>\n",
       "    <tr>\n",
       "      <th>Cluster 1</th>\n",
       "      <td>349.086884</td>\n",
       "      <td>245.66235</td>\n",
       "      <td>361.451718</td>\n",
       "      <td>18.0</td>\n",
       "      <td>3810.6922</td>\n",
       "      <td>18.0</td>\n",
       "    </tr>\n",
       "    <tr>\n",
       "      <th>Cluster 2</th>\n",
       "      <td>330.015522</td>\n",
       "      <td>233.06400</td>\n",
       "      <td>334.724789</td>\n",
       "      <td>18.0</td>\n",
       "      <td>1649.9300</td>\n",
       "      <td>18.0</td>\n",
       "    </tr>\n",
       "  </tbody>\n",
       "</table>\n",
       "</div>"
      ],
      "text/plain": [
       "                 mean     median         std   min        max  mode\n",
       "Cluster 1  349.086884  245.66235  361.451718  18.0  3810.6922  18.0\n",
       "Cluster 2  330.015522  233.06400  334.724789  18.0  1649.9300  18.0"
      ]
     },
     "metadata": {},
     "output_type": "display_data"
    },
    {
     "name": "stdout",
     "output_type": "stream",
     "text": [
      "COLI_FEC_NMP/100_mL\n"
     ]
    },
    {
     "data": {
      "text/html": [
       "<div>\n",
       "<style scoped>\n",
       "    .dataframe tbody tr th:only-of-type {\n",
       "        vertical-align: middle;\n",
       "    }\n",
       "\n",
       "    .dataframe tbody tr th {\n",
       "        vertical-align: top;\n",
       "    }\n",
       "\n",
       "    .dataframe thead th {\n",
       "        text-align: right;\n",
       "    }\n",
       "</style>\n",
       "<table border=\"1\" class=\"dataframe\">\n",
       "  <thead>\n",
       "    <tr style=\"text-align: right;\">\n",
       "      <th></th>\n",
       "      <th>mean</th>\n",
       "      <th>median</th>\n",
       "      <th>std</th>\n",
       "      <th>min</th>\n",
       "      <th>max</th>\n",
       "      <th>mode</th>\n",
       "    </tr>\n",
       "  </thead>\n",
       "  <tbody>\n",
       "    <tr>\n",
       "      <th>Cluster 1</th>\n",
       "      <td>36.649980</td>\n",
       "      <td>0.99</td>\n",
       "      <td>147.205160</td>\n",
       "      <td>0.99</td>\n",
       "      <td>2247.0</td>\n",
       "      <td>0.99</td>\n",
       "    </tr>\n",
       "    <tr>\n",
       "      <th>Cluster 2</th>\n",
       "      <td>5117.850746</td>\n",
       "      <td>2400.00</td>\n",
       "      <td>6573.459933</td>\n",
       "      <td>430.00</td>\n",
       "      <td>24196.0</td>\n",
       "      <td>2400.00</td>\n",
       "    </tr>\n",
       "  </tbody>\n",
       "</table>\n",
       "</div>"
      ],
      "text/plain": [
       "                  mean   median          std     min      max     mode\n",
       "Cluster 1    36.649980     0.99   147.205160    0.99   2247.0     0.99\n",
       "Cluster 2  5117.850746  2400.00  6573.459933  430.00  24196.0  2400.00"
      ]
     },
     "metadata": {},
     "output_type": "display_data"
    },
    {
     "name": "stdout",
     "output_type": "stream",
     "text": [
      "N_NO3_mg/L\n"
     ]
    },
    {
     "data": {
      "text/html": [
       "<div>\n",
       "<style scoped>\n",
       "    .dataframe tbody tr th:only-of-type {\n",
       "        vertical-align: middle;\n",
       "    }\n",
       "\n",
       "    .dataframe tbody tr th {\n",
       "        vertical-align: top;\n",
       "    }\n",
       "\n",
       "    .dataframe thead th {\n",
       "        text-align: right;\n",
       "    }\n",
       "</style>\n",
       "<table border=\"1\" class=\"dataframe\">\n",
       "  <thead>\n",
       "    <tr style=\"text-align: right;\">\n",
       "      <th></th>\n",
       "      <th>mean</th>\n",
       "      <th>median</th>\n",
       "      <th>std</th>\n",
       "      <th>min</th>\n",
       "      <th>max</th>\n",
       "      <th>mode</th>\n",
       "    </tr>\n",
       "  </thead>\n",
       "  <tbody>\n",
       "    <tr>\n",
       "      <th>Cluster 1</th>\n",
       "      <td>4.366361</td>\n",
       "      <td>2.063471</td>\n",
       "      <td>8.564357</td>\n",
       "      <td>0.018</td>\n",
       "      <td>121.007813</td>\n",
       "      <td>0.018</td>\n",
       "    </tr>\n",
       "    <tr>\n",
       "      <th>Cluster 2</th>\n",
       "      <td>3.622269</td>\n",
       "      <td>2.241700</td>\n",
       "      <td>3.751902</td>\n",
       "      <td>0.018</td>\n",
       "      <td>18.525663</td>\n",
       "      <td>0.018</td>\n",
       "    </tr>\n",
       "  </tbody>\n",
       "</table>\n",
       "</div>"
      ],
      "text/plain": [
       "               mean    median       std    min         max   mode\n",
       "Cluster 1  4.366361  2.063471  8.564357  0.018  121.007813  0.018\n",
       "Cluster 2  3.622269  2.241700  3.751902  0.018   18.525663  0.018"
      ]
     },
     "metadata": {},
     "output_type": "display_data"
    },
    {
     "name": "stdout",
     "output_type": "stream",
     "text": [
      "AS_TOT_mg/L\n"
     ]
    },
    {
     "data": {
      "text/html": [
       "<div>\n",
       "<style scoped>\n",
       "    .dataframe tbody tr th:only-of-type {\n",
       "        vertical-align: middle;\n",
       "    }\n",
       "\n",
       "    .dataframe tbody tr th {\n",
       "        vertical-align: top;\n",
       "    }\n",
       "\n",
       "    .dataframe thead th {\n",
       "        text-align: right;\n",
       "    }\n",
       "</style>\n",
       "<table border=\"1\" class=\"dataframe\">\n",
       "  <thead>\n",
       "    <tr style=\"text-align: right;\">\n",
       "      <th></th>\n",
       "      <th>mean</th>\n",
       "      <th>median</th>\n",
       "      <th>std</th>\n",
       "      <th>min</th>\n",
       "      <th>max</th>\n",
       "      <th>mode</th>\n",
       "    </tr>\n",
       "  </thead>\n",
       "  <tbody>\n",
       "    <tr>\n",
       "      <th>Cluster 1</th>\n",
       "      <td>0.018827</td>\n",
       "      <td>0.009</td>\n",
       "      <td>0.034536</td>\n",
       "      <td>0.009</td>\n",
       "      <td>0.4522</td>\n",
       "      <td>0.009</td>\n",
       "    </tr>\n",
       "    <tr>\n",
       "      <th>Cluster 2</th>\n",
       "      <td>0.019270</td>\n",
       "      <td>0.009</td>\n",
       "      <td>0.047013</td>\n",
       "      <td>0.009</td>\n",
       "      <td>0.3558</td>\n",
       "      <td>0.009</td>\n",
       "    </tr>\n",
       "  </tbody>\n",
       "</table>\n",
       "</div>"
      ],
      "text/plain": [
       "               mean  median       std    min     max   mode\n",
       "Cluster 1  0.018827   0.009  0.034536  0.009  0.4522  0.009\n",
       "Cluster 2  0.019270   0.009  0.047013  0.009  0.3558  0.009"
      ]
     },
     "metadata": {},
     "output_type": "display_data"
    },
    {
     "name": "stdout",
     "output_type": "stream",
     "text": [
      "CR_TOT_mg/L\n"
     ]
    },
    {
     "data": {
      "text/html": [
       "<div>\n",
       "<style scoped>\n",
       "    .dataframe tbody tr th:only-of-type {\n",
       "        vertical-align: middle;\n",
       "    }\n",
       "\n",
       "    .dataframe tbody tr th {\n",
       "        vertical-align: top;\n",
       "    }\n",
       "\n",
       "    .dataframe thead th {\n",
       "        text-align: right;\n",
       "    }\n",
       "</style>\n",
       "<table border=\"1\" class=\"dataframe\">\n",
       "  <thead>\n",
       "    <tr style=\"text-align: right;\">\n",
       "      <th></th>\n",
       "      <th>mean</th>\n",
       "      <th>median</th>\n",
       "      <th>std</th>\n",
       "      <th>min</th>\n",
       "      <th>max</th>\n",
       "      <th>mode</th>\n",
       "    </tr>\n",
       "  </thead>\n",
       "  <tbody>\n",
       "    <tr>\n",
       "      <th>Cluster 1</th>\n",
       "      <td>0.013374</td>\n",
       "      <td>0.0045</td>\n",
       "      <td>0.159487</td>\n",
       "      <td>0.0045</td>\n",
       "      <td>5.0032</td>\n",
       "      <td>0.0045</td>\n",
       "    </tr>\n",
       "    <tr>\n",
       "      <th>Cluster 2</th>\n",
       "      <td>0.005426</td>\n",
       "      <td>0.0045</td>\n",
       "      <td>0.003360</td>\n",
       "      <td>0.0045</td>\n",
       "      <td>0.0256</td>\n",
       "      <td>0.0045</td>\n",
       "    </tr>\n",
       "  </tbody>\n",
       "</table>\n",
       "</div>"
      ],
      "text/plain": [
       "               mean  median       std     min     max    mode\n",
       "Cluster 1  0.013374  0.0045  0.159487  0.0045  5.0032  0.0045\n",
       "Cluster 2  0.005426  0.0045  0.003360  0.0045  0.0256  0.0045"
      ]
     },
     "metadata": {},
     "output_type": "display_data"
    },
    {
     "name": "stdout",
     "output_type": "stream",
     "text": [
      "HG_TOT_mg/L\n"
     ]
    },
    {
     "data": {
      "text/html": [
       "<div>\n",
       "<style scoped>\n",
       "    .dataframe tbody tr th:only-of-type {\n",
       "        vertical-align: middle;\n",
       "    }\n",
       "\n",
       "    .dataframe tbody tr th {\n",
       "        vertical-align: top;\n",
       "    }\n",
       "\n",
       "    .dataframe thead th {\n",
       "        text-align: right;\n",
       "    }\n",
       "</style>\n",
       "<table border=\"1\" class=\"dataframe\">\n",
       "  <thead>\n",
       "    <tr style=\"text-align: right;\">\n",
       "      <th></th>\n",
       "      <th>mean</th>\n",
       "      <th>median</th>\n",
       "      <th>std</th>\n",
       "      <th>min</th>\n",
       "      <th>max</th>\n",
       "      <th>mode</th>\n",
       "    </tr>\n",
       "  </thead>\n",
       "  <tbody>\n",
       "    <tr>\n",
       "      <th>Cluster 1</th>\n",
       "      <td>0.000514</td>\n",
       "      <td>0.00045</td>\n",
       "      <td>0.000487</td>\n",
       "      <td>0.00045</td>\n",
       "      <td>0.01415</td>\n",
       "      <td>0.00045</td>\n",
       "    </tr>\n",
       "    <tr>\n",
       "      <th>Cluster 2</th>\n",
       "      <td>0.000479</td>\n",
       "      <td>0.00045</td>\n",
       "      <td>0.000157</td>\n",
       "      <td>0.00045</td>\n",
       "      <td>0.00149</td>\n",
       "      <td>0.00045</td>\n",
       "    </tr>\n",
       "  </tbody>\n",
       "</table>\n",
       "</div>"
      ],
      "text/plain": [
       "               mean   median       std      min      max     mode\n",
       "Cluster 1  0.000514  0.00045  0.000487  0.00045  0.01415  0.00045\n",
       "Cluster 2  0.000479  0.00045  0.000157  0.00045  0.00149  0.00045"
      ]
     },
     "metadata": {},
     "output_type": "display_data"
    },
    {
     "name": "stdout",
     "output_type": "stream",
     "text": [
      "PB_TOT_mg/L\n"
     ]
    },
    {
     "data": {
      "text/html": [
       "<div>\n",
       "<style scoped>\n",
       "    .dataframe tbody tr th:only-of-type {\n",
       "        vertical-align: middle;\n",
       "    }\n",
       "\n",
       "    .dataframe tbody tr th {\n",
       "        vertical-align: top;\n",
       "    }\n",
       "\n",
       "    .dataframe thead th {\n",
       "        text-align: right;\n",
       "    }\n",
       "</style>\n",
       "<table border=\"1\" class=\"dataframe\">\n",
       "  <thead>\n",
       "    <tr style=\"text-align: right;\">\n",
       "      <th></th>\n",
       "      <th>mean</th>\n",
       "      <th>median</th>\n",
       "      <th>std</th>\n",
       "      <th>min</th>\n",
       "      <th>max</th>\n",
       "      <th>mode</th>\n",
       "    </tr>\n",
       "  </thead>\n",
       "  <tbody>\n",
       "    <tr>\n",
       "      <th>Cluster 1</th>\n",
       "      <td>0.004694</td>\n",
       "      <td>0.0045</td>\n",
       "      <td>0.002588</td>\n",
       "      <td>0.0045</td>\n",
       "      <td>0.0809</td>\n",
       "      <td>0.0045</td>\n",
       "    </tr>\n",
       "    <tr>\n",
       "      <th>Cluster 2</th>\n",
       "      <td>0.006312</td>\n",
       "      <td>0.0045</td>\n",
       "      <td>0.008471</td>\n",
       "      <td>0.0045</td>\n",
       "      <td>0.0490</td>\n",
       "      <td>0.0045</td>\n",
       "    </tr>\n",
       "  </tbody>\n",
       "</table>\n",
       "</div>"
      ],
      "text/plain": [
       "               mean  median       std     min     max    mode\n",
       "Cluster 1  0.004694  0.0045  0.002588  0.0045  0.0809  0.0045\n",
       "Cluster 2  0.006312  0.0045  0.008471  0.0045  0.0490  0.0045"
      ]
     },
     "metadata": {},
     "output_type": "display_data"
    },
    {
     "name": "stdout",
     "output_type": "stream",
     "text": [
      "MN_TOT_mg/L\n"
     ]
    },
    {
     "data": {
      "text/html": [
       "<div>\n",
       "<style scoped>\n",
       "    .dataframe tbody tr th:only-of-type {\n",
       "        vertical-align: middle;\n",
       "    }\n",
       "\n",
       "    .dataframe tbody tr th {\n",
       "        vertical-align: top;\n",
       "    }\n",
       "\n",
       "    .dataframe thead th {\n",
       "        text-align: right;\n",
       "    }\n",
       "</style>\n",
       "<table border=\"1\" class=\"dataframe\">\n",
       "  <thead>\n",
       "    <tr style=\"text-align: right;\">\n",
       "      <th></th>\n",
       "      <th>mean</th>\n",
       "      <th>median</th>\n",
       "      <th>std</th>\n",
       "      <th>min</th>\n",
       "      <th>max</th>\n",
       "      <th>mode</th>\n",
       "    </tr>\n",
       "  </thead>\n",
       "  <tbody>\n",
       "    <tr>\n",
       "      <th>Cluster 1</th>\n",
       "      <td>0.072710</td>\n",
       "      <td>0.00135</td>\n",
       "      <td>0.384275</td>\n",
       "      <td>0.00135</td>\n",
       "      <td>8.982</td>\n",
       "      <td>0.00135</td>\n",
       "    </tr>\n",
       "    <tr>\n",
       "      <th>Cluster 2</th>\n",
       "      <td>0.067798</td>\n",
       "      <td>0.00530</td>\n",
       "      <td>0.233624</td>\n",
       "      <td>0.00135</td>\n",
       "      <td>1.477</td>\n",
       "      <td>0.00135</td>\n",
       "    </tr>\n",
       "  </tbody>\n",
       "</table>\n",
       "</div>"
      ],
      "text/plain": [
       "               mean   median       std      min    max     mode\n",
       "Cluster 1  0.072710  0.00135  0.384275  0.00135  8.982  0.00135\n",
       "Cluster 2  0.067798  0.00530  0.233624  0.00135  1.477  0.00135"
      ]
     },
     "metadata": {},
     "output_type": "display_data"
    },
    {
     "name": "stdout",
     "output_type": "stream",
     "text": [
      "FE_TOT_mg/L\n"
     ]
    },
    {
     "data": {
      "text/html": [
       "<div>\n",
       "<style scoped>\n",
       "    .dataframe tbody tr th:only-of-type {\n",
       "        vertical-align: middle;\n",
       "    }\n",
       "\n",
       "    .dataframe tbody tr th {\n",
       "        vertical-align: top;\n",
       "    }\n",
       "\n",
       "    .dataframe thead th {\n",
       "        text-align: right;\n",
       "    }\n",
       "</style>\n",
       "<table border=\"1\" class=\"dataframe\">\n",
       "  <thead>\n",
       "    <tr style=\"text-align: right;\">\n",
       "      <th></th>\n",
       "      <th>mean</th>\n",
       "      <th>median</th>\n",
       "      <th>std</th>\n",
       "      <th>min</th>\n",
       "      <th>max</th>\n",
       "      <th>mode</th>\n",
       "    </tr>\n",
       "  </thead>\n",
       "  <tbody>\n",
       "    <tr>\n",
       "      <th>Cluster 1</th>\n",
       "      <td>0.405031</td>\n",
       "      <td>0.0460</td>\n",
       "      <td>5.702692</td>\n",
       "      <td>0.0225</td>\n",
       "      <td>178.615</td>\n",
       "      <td>0.0225</td>\n",
       "    </tr>\n",
       "    <tr>\n",
       "      <th>Cluster 2</th>\n",
       "      <td>0.475451</td>\n",
       "      <td>0.0678</td>\n",
       "      <td>1.757041</td>\n",
       "      <td>0.0225</td>\n",
       "      <td>14.060</td>\n",
       "      <td>0.0225</td>\n",
       "    </tr>\n",
       "  </tbody>\n",
       "</table>\n",
       "</div>"
      ],
      "text/plain": [
       "               mean  median       std     min      max    mode\n",
       "Cluster 1  0.405031  0.0460  5.702692  0.0225  178.615  0.0225\n",
       "Cluster 2  0.475451  0.0678  1.757041  0.0225   14.060  0.0225"
      ]
     },
     "metadata": {},
     "output_type": "display_data"
    }
   ],
   "source": [
    "for var in num_vars:\n",
    "    #Estadísticos que nos interesa analizar\n",
    "    dicc  = {'mean':[], 'median': [], 'std': [], 'min': [], 'max':[], 'mode':[]}\n",
    "    for i in range(k):\n",
    "        #Obtenemos las observaciones correspndiente al clúster y variable\n",
    "        col = df_final_cols[df_final_cols['labels'] == i][var]\n",
    "        \n",
    "        #Generamos los estadísticos\n",
    "        dicc['mean'].append(col.mean())\n",
    "        dicc['median'].append(col.median())\n",
    "        dicc['std'].append(col.std())\n",
    "        dicc['min'].append(col.min())\n",
    "        dicc['max'].append(col.max())\n",
    "        dicc['mode'].append(col.mode()[0])\n",
    "        \n",
    "    print(var)\n",
    "    display(pd.DataFrame(dicc, index = ['Cluster 1', 'Cluster 2']))"
   ]
  },
  {
   "cell_type": "markdown",
   "metadata": {},
   "source": [
    "De lo anterior puede apreciarse lo siguiente:\n",
    "\n",
    "* Para la mayoría de los atributos, el clúster 2 posee una desviación estándar más pequeña. Es de esperarse, puesto que este clúster tiene menos cantidad de observaciones.\n",
    "* La variable Coliformes Fecales (COLI_FEC_NMP/100_mL) es la que presenta valores más alto para el clúster #2. También se observa que su moda es de 2,400 NMP/100ML, muy por encima de los valores aceptables, el cual es de 1000 NMP/100ML.\n",
    "* Los demás atributos se encuentran en un rango de excelente (potable) a aceptable. \n",
    " \n",
    "De lo anterior se podría sospechar que la variable que mayor impacto tuvo en la división de los clústeres fue los Coliformes Fecales. Revisemos esta hipótesis más de cerca, pero ahora analizando las variables binarias."
   ]
  },
  {
   "cell_type": "code",
   "execution_count": 33,
   "metadata": {},
   "outputs": [
    {
     "name": "stdout",
     "output_type": "stream",
     "text": [
      "CUMPLE_CON_ALC\n"
     ]
    },
    {
     "data": {
      "text/html": [
       "<div>\n",
       "<style scoped>\n",
       "    .dataframe tbody tr th:only-of-type {\n",
       "        vertical-align: middle;\n",
       "    }\n",
       "\n",
       "    .dataframe tbody tr th {\n",
       "        vertical-align: top;\n",
       "    }\n",
       "\n",
       "    .dataframe thead th {\n",
       "        text-align: right;\n",
       "    }\n",
       "</style>\n",
       "<table border=\"1\" class=\"dataframe\">\n",
       "  <thead>\n",
       "    <tr style=\"text-align: right;\">\n",
       "      <th></th>\n",
       "      <th>% Cumple</th>\n",
       "      <th>% Verde</th>\n",
       "      <th>% Amarillo</th>\n",
       "      <th>% Rojo</th>\n",
       "    </tr>\n",
       "  </thead>\n",
       "  <tbody>\n",
       "    <tr>\n",
       "      <th>Cluster 1</th>\n",
       "      <td>93.806194</td>\n",
       "      <td>42.757243</td>\n",
       "      <td>24.575425</td>\n",
       "      <td>32.667333</td>\n",
       "    </tr>\n",
       "    <tr>\n",
       "      <th>Cluster 2</th>\n",
       "      <td>98.507463</td>\n",
       "      <td>8.955224</td>\n",
       "      <td>1.492537</td>\n",
       "      <td>89.552239</td>\n",
       "    </tr>\n",
       "  </tbody>\n",
       "</table>\n",
       "</div>"
      ],
      "text/plain": [
       "            % Cumple    % Verde  % Amarillo     % Rojo\n",
       "Cluster 1  93.806194  42.757243   24.575425  32.667333\n",
       "Cluster 2  98.507463   8.955224    1.492537  89.552239"
      ]
     },
     "metadata": {},
     "output_type": "display_data"
    },
    {
     "name": "stdout",
     "output_type": "stream",
     "text": [
      "CUMPLE_CON_COND\n"
     ]
    },
    {
     "data": {
      "text/html": [
       "<div>\n",
       "<style scoped>\n",
       "    .dataframe tbody tr th:only-of-type {\n",
       "        vertical-align: middle;\n",
       "    }\n",
       "\n",
       "    .dataframe tbody tr th {\n",
       "        vertical-align: top;\n",
       "    }\n",
       "\n",
       "    .dataframe thead th {\n",
       "        text-align: right;\n",
       "    }\n",
       "</style>\n",
       "<table border=\"1\" class=\"dataframe\">\n",
       "  <thead>\n",
       "    <tr style=\"text-align: right;\">\n",
       "      <th></th>\n",
       "      <th>% Cumple</th>\n",
       "      <th>% Verde</th>\n",
       "      <th>% Amarillo</th>\n",
       "      <th>% Rojo</th>\n",
       "    </tr>\n",
       "  </thead>\n",
       "  <tbody>\n",
       "    <tr>\n",
       "      <th>Cluster 1</th>\n",
       "      <td>87.512488</td>\n",
       "      <td>42.757243</td>\n",
       "      <td>24.575425</td>\n",
       "      <td>32.667333</td>\n",
       "    </tr>\n",
       "    <tr>\n",
       "      <th>Cluster 2</th>\n",
       "      <td>94.029851</td>\n",
       "      <td>8.955224</td>\n",
       "      <td>1.492537</td>\n",
       "      <td>89.552239</td>\n",
       "    </tr>\n",
       "  </tbody>\n",
       "</table>\n",
       "</div>"
      ],
      "text/plain": [
       "            % Cumple    % Verde  % Amarillo     % Rojo\n",
       "Cluster 1  87.512488  42.757243   24.575425  32.667333\n",
       "Cluster 2  94.029851   8.955224    1.492537  89.552239"
      ]
     },
     "metadata": {},
     "output_type": "display_data"
    },
    {
     "name": "stdout",
     "output_type": "stream",
     "text": [
      "CUMPLE_CON_SDT_ra\n"
     ]
    },
    {
     "data": {
      "text/html": [
       "<div>\n",
       "<style scoped>\n",
       "    .dataframe tbody tr th:only-of-type {\n",
       "        vertical-align: middle;\n",
       "    }\n",
       "\n",
       "    .dataframe tbody tr th {\n",
       "        vertical-align: top;\n",
       "    }\n",
       "\n",
       "    .dataframe thead th {\n",
       "        text-align: right;\n",
       "    }\n",
       "</style>\n",
       "<table border=\"1\" class=\"dataframe\">\n",
       "  <thead>\n",
       "    <tr style=\"text-align: right;\">\n",
       "      <th></th>\n",
       "      <th>% Cumple</th>\n",
       "      <th>% Verde</th>\n",
       "      <th>% Amarillo</th>\n",
       "      <th>% Rojo</th>\n",
       "    </tr>\n",
       "  </thead>\n",
       "  <tbody>\n",
       "    <tr>\n",
       "      <th>Cluster 1</th>\n",
       "      <td>93.006993</td>\n",
       "      <td>42.757243</td>\n",
       "      <td>24.575425</td>\n",
       "      <td>32.667333</td>\n",
       "    </tr>\n",
       "    <tr>\n",
       "      <th>Cluster 2</th>\n",
       "      <td>95.522388</td>\n",
       "      <td>8.955224</td>\n",
       "      <td>1.492537</td>\n",
       "      <td>89.552239</td>\n",
       "    </tr>\n",
       "  </tbody>\n",
       "</table>\n",
       "</div>"
      ],
      "text/plain": [
       "            % Cumple    % Verde  % Amarillo     % Rojo\n",
       "Cluster 1  93.006993  42.757243   24.575425  32.667333\n",
       "Cluster 2  95.522388   8.955224    1.492537  89.552239"
      ]
     },
     "metadata": {},
     "output_type": "display_data"
    },
    {
     "name": "stdout",
     "output_type": "stream",
     "text": [
      "CUMPLE_CON_SDT_salin\n"
     ]
    },
    {
     "data": {
      "text/html": [
       "<div>\n",
       "<style scoped>\n",
       "    .dataframe tbody tr th:only-of-type {\n",
       "        vertical-align: middle;\n",
       "    }\n",
       "\n",
       "    .dataframe tbody tr th {\n",
       "        vertical-align: top;\n",
       "    }\n",
       "\n",
       "    .dataframe thead th {\n",
       "        text-align: right;\n",
       "    }\n",
       "</style>\n",
       "<table border=\"1\" class=\"dataframe\">\n",
       "  <thead>\n",
       "    <tr style=\"text-align: right;\">\n",
       "      <th></th>\n",
       "      <th>% Cumple</th>\n",
       "      <th>% Verde</th>\n",
       "      <th>% Amarillo</th>\n",
       "      <th>% Rojo</th>\n",
       "    </tr>\n",
       "  </thead>\n",
       "  <tbody>\n",
       "    <tr>\n",
       "      <th>Cluster 1</th>\n",
       "      <td>93.006993</td>\n",
       "      <td>42.757243</td>\n",
       "      <td>24.575425</td>\n",
       "      <td>32.667333</td>\n",
       "    </tr>\n",
       "    <tr>\n",
       "      <th>Cluster 2</th>\n",
       "      <td>95.522388</td>\n",
       "      <td>8.955224</td>\n",
       "      <td>1.492537</td>\n",
       "      <td>89.552239</td>\n",
       "    </tr>\n",
       "  </tbody>\n",
       "</table>\n",
       "</div>"
      ],
      "text/plain": [
       "            % Cumple    % Verde  % Amarillo     % Rojo\n",
       "Cluster 1  93.006993  42.757243   24.575425  32.667333\n",
       "Cluster 2  95.522388   8.955224    1.492537  89.552239"
      ]
     },
     "metadata": {},
     "output_type": "display_data"
    },
    {
     "name": "stdout",
     "output_type": "stream",
     "text": [
      "CUMPLE_CON_FLUO\n"
     ]
    },
    {
     "data": {
      "text/html": [
       "<div>\n",
       "<style scoped>\n",
       "    .dataframe tbody tr th:only-of-type {\n",
       "        vertical-align: middle;\n",
       "    }\n",
       "\n",
       "    .dataframe tbody tr th {\n",
       "        vertical-align: top;\n",
       "    }\n",
       "\n",
       "    .dataframe thead th {\n",
       "        text-align: right;\n",
       "    }\n",
       "</style>\n",
       "<table border=\"1\" class=\"dataframe\">\n",
       "  <thead>\n",
       "    <tr style=\"text-align: right;\">\n",
       "      <th></th>\n",
       "      <th>% Cumple</th>\n",
       "      <th>% Verde</th>\n",
       "      <th>% Amarillo</th>\n",
       "      <th>% Rojo</th>\n",
       "    </tr>\n",
       "  </thead>\n",
       "  <tbody>\n",
       "    <tr>\n",
       "      <th>Cluster 1</th>\n",
       "      <td>81.718282</td>\n",
       "      <td>42.757243</td>\n",
       "      <td>24.575425</td>\n",
       "      <td>32.667333</td>\n",
       "    </tr>\n",
       "    <tr>\n",
       "      <th>Cluster 2</th>\n",
       "      <td>86.567164</td>\n",
       "      <td>8.955224</td>\n",
       "      <td>1.492537</td>\n",
       "      <td>89.552239</td>\n",
       "    </tr>\n",
       "  </tbody>\n",
       "</table>\n",
       "</div>"
      ],
      "text/plain": [
       "            % Cumple    % Verde  % Amarillo     % Rojo\n",
       "Cluster 1  81.718282  42.757243   24.575425  32.667333\n",
       "Cluster 2  86.567164   8.955224    1.492537  89.552239"
      ]
     },
     "metadata": {},
     "output_type": "display_data"
    },
    {
     "name": "stdout",
     "output_type": "stream",
     "text": [
      "CUMPLE_CON_DUR\n"
     ]
    },
    {
     "data": {
      "text/html": [
       "<div>\n",
       "<style scoped>\n",
       "    .dataframe tbody tr th:only-of-type {\n",
       "        vertical-align: middle;\n",
       "    }\n",
       "\n",
       "    .dataframe tbody tr th {\n",
       "        vertical-align: top;\n",
       "    }\n",
       "\n",
       "    .dataframe thead th {\n",
       "        text-align: right;\n",
       "    }\n",
       "</style>\n",
       "<table border=\"1\" class=\"dataframe\">\n",
       "  <thead>\n",
       "    <tr style=\"text-align: right;\">\n",
       "      <th></th>\n",
       "      <th>% Cumple</th>\n",
       "      <th>% Verde</th>\n",
       "      <th>% Amarillo</th>\n",
       "      <th>% Rojo</th>\n",
       "    </tr>\n",
       "  </thead>\n",
       "  <tbody>\n",
       "    <tr>\n",
       "      <th>Cluster 1</th>\n",
       "      <td>78.221778</td>\n",
       "      <td>42.757243</td>\n",
       "      <td>24.575425</td>\n",
       "      <td>32.667333</td>\n",
       "    </tr>\n",
       "    <tr>\n",
       "      <th>Cluster 2</th>\n",
       "      <td>86.567164</td>\n",
       "      <td>8.955224</td>\n",
       "      <td>1.492537</td>\n",
       "      <td>89.552239</td>\n",
       "    </tr>\n",
       "  </tbody>\n",
       "</table>\n",
       "</div>"
      ],
      "text/plain": [
       "            % Cumple    % Verde  % Amarillo     % Rojo\n",
       "Cluster 1  78.221778  42.757243   24.575425  32.667333\n",
       "Cluster 2  86.567164   8.955224    1.492537  89.552239"
      ]
     },
     "metadata": {},
     "output_type": "display_data"
    },
    {
     "name": "stdout",
     "output_type": "stream",
     "text": [
      "CUMPLE_CON_CF\n"
     ]
    },
    {
     "data": {
      "text/html": [
       "<div>\n",
       "<style scoped>\n",
       "    .dataframe tbody tr th:only-of-type {\n",
       "        vertical-align: middle;\n",
       "    }\n",
       "\n",
       "    .dataframe tbody tr th {\n",
       "        vertical-align: top;\n",
       "    }\n",
       "\n",
       "    .dataframe thead th {\n",
       "        text-align: right;\n",
       "    }\n",
       "</style>\n",
       "<table border=\"1\" class=\"dataframe\">\n",
       "  <thead>\n",
       "    <tr style=\"text-align: right;\">\n",
       "      <th></th>\n",
       "      <th>% Cumple</th>\n",
       "      <th>% Verde</th>\n",
       "      <th>% Amarillo</th>\n",
       "      <th>% Rojo</th>\n",
       "    </tr>\n",
       "  </thead>\n",
       "  <tbody>\n",
       "    <tr>\n",
       "      <th>Cluster 1</th>\n",
       "      <td>99.400599</td>\n",
       "      <td>42.757243</td>\n",
       "      <td>24.575425</td>\n",
       "      <td>32.667333</td>\n",
       "    </tr>\n",
       "    <tr>\n",
       "      <th>Cluster 2</th>\n",
       "      <td>17.910448</td>\n",
       "      <td>8.955224</td>\n",
       "      <td>1.492537</td>\n",
       "      <td>89.552239</td>\n",
       "    </tr>\n",
       "  </tbody>\n",
       "</table>\n",
       "</div>"
      ],
      "text/plain": [
       "            % Cumple    % Verde  % Amarillo     % Rojo\n",
       "Cluster 1  99.400599  42.757243   24.575425  32.667333\n",
       "Cluster 2  17.910448   8.955224    1.492537  89.552239"
      ]
     },
     "metadata": {},
     "output_type": "display_data"
    },
    {
     "name": "stdout",
     "output_type": "stream",
     "text": [
      "CUMPLE_CON_NO3\n"
     ]
    },
    {
     "data": {
      "text/html": [
       "<div>\n",
       "<style scoped>\n",
       "    .dataframe tbody tr th:only-of-type {\n",
       "        vertical-align: middle;\n",
       "    }\n",
       "\n",
       "    .dataframe tbody tr th {\n",
       "        vertical-align: top;\n",
       "    }\n",
       "\n",
       "    .dataframe thead th {\n",
       "        text-align: right;\n",
       "    }\n",
       "</style>\n",
       "<table border=\"1\" class=\"dataframe\">\n",
       "  <thead>\n",
       "    <tr style=\"text-align: right;\">\n",
       "      <th></th>\n",
       "      <th>% Cumple</th>\n",
       "      <th>% Verde</th>\n",
       "      <th>% Amarillo</th>\n",
       "      <th>% Rojo</th>\n",
       "    </tr>\n",
       "  </thead>\n",
       "  <tbody>\n",
       "    <tr>\n",
       "      <th>Cluster 1</th>\n",
       "      <td>92.007992</td>\n",
       "      <td>42.757243</td>\n",
       "      <td>24.575425</td>\n",
       "      <td>32.667333</td>\n",
       "    </tr>\n",
       "    <tr>\n",
       "      <th>Cluster 2</th>\n",
       "      <td>95.522388</td>\n",
       "      <td>8.955224</td>\n",
       "      <td>1.492537</td>\n",
       "      <td>89.552239</td>\n",
       "    </tr>\n",
       "  </tbody>\n",
       "</table>\n",
       "</div>"
      ],
      "text/plain": [
       "            % Cumple    % Verde  % Amarillo     % Rojo\n",
       "Cluster 1  92.007992  42.757243   24.575425  32.667333\n",
       "Cluster 2  95.522388   8.955224    1.492537  89.552239"
      ]
     },
     "metadata": {},
     "output_type": "display_data"
    },
    {
     "name": "stdout",
     "output_type": "stream",
     "text": [
      "CUMPLE_CON_AS\n"
     ]
    },
    {
     "data": {
      "text/html": [
       "<div>\n",
       "<style scoped>\n",
       "    .dataframe tbody tr th:only-of-type {\n",
       "        vertical-align: middle;\n",
       "    }\n",
       "\n",
       "    .dataframe tbody tr th {\n",
       "        vertical-align: top;\n",
       "    }\n",
       "\n",
       "    .dataframe thead th {\n",
       "        text-align: right;\n",
       "    }\n",
       "</style>\n",
       "<table border=\"1\" class=\"dataframe\">\n",
       "  <thead>\n",
       "    <tr style=\"text-align: right;\">\n",
       "      <th></th>\n",
       "      <th>% Cumple</th>\n",
       "      <th>% Verde</th>\n",
       "      <th>% Amarillo</th>\n",
       "      <th>% Rojo</th>\n",
       "    </tr>\n",
       "  </thead>\n",
       "  <tbody>\n",
       "    <tr>\n",
       "      <th>Cluster 1</th>\n",
       "      <td>87.712288</td>\n",
       "      <td>42.757243</td>\n",
       "      <td>24.575425</td>\n",
       "      <td>32.667333</td>\n",
       "    </tr>\n",
       "    <tr>\n",
       "      <th>Cluster 2</th>\n",
       "      <td>94.029851</td>\n",
       "      <td>8.955224</td>\n",
       "      <td>1.492537</td>\n",
       "      <td>89.552239</td>\n",
       "    </tr>\n",
       "  </tbody>\n",
       "</table>\n",
       "</div>"
      ],
      "text/plain": [
       "            % Cumple    % Verde  % Amarillo     % Rojo\n",
       "Cluster 1  87.712288  42.757243   24.575425  32.667333\n",
       "Cluster 2  94.029851   8.955224    1.492537  89.552239"
      ]
     },
     "metadata": {},
     "output_type": "display_data"
    },
    {
     "name": "stdout",
     "output_type": "stream",
     "text": [
      "CUMPLE_CON_CD\n"
     ]
    },
    {
     "data": {
      "text/html": [
       "<div>\n",
       "<style scoped>\n",
       "    .dataframe tbody tr th:only-of-type {\n",
       "        vertical-align: middle;\n",
       "    }\n",
       "\n",
       "    .dataframe tbody tr th {\n",
       "        vertical-align: top;\n",
       "    }\n",
       "\n",
       "    .dataframe thead th {\n",
       "        text-align: right;\n",
       "    }\n",
       "</style>\n",
       "<table border=\"1\" class=\"dataframe\">\n",
       "  <thead>\n",
       "    <tr style=\"text-align: right;\">\n",
       "      <th></th>\n",
       "      <th>% Cumple</th>\n",
       "      <th>% Verde</th>\n",
       "      <th>% Amarillo</th>\n",
       "      <th>% Rojo</th>\n",
       "    </tr>\n",
       "  </thead>\n",
       "  <tbody>\n",
       "    <tr>\n",
       "      <th>Cluster 1</th>\n",
       "      <td>99.900100</td>\n",
       "      <td>42.757243</td>\n",
       "      <td>24.575425</td>\n",
       "      <td>32.667333</td>\n",
       "    </tr>\n",
       "    <tr>\n",
       "      <th>Cluster 2</th>\n",
       "      <td>98.507463</td>\n",
       "      <td>8.955224</td>\n",
       "      <td>1.492537</td>\n",
       "      <td>89.552239</td>\n",
       "    </tr>\n",
       "  </tbody>\n",
       "</table>\n",
       "</div>"
      ],
      "text/plain": [
       "            % Cumple    % Verde  % Amarillo     % Rojo\n",
       "Cluster 1  99.900100  42.757243   24.575425  32.667333\n",
       "Cluster 2  98.507463   8.955224    1.492537  89.552239"
      ]
     },
     "metadata": {},
     "output_type": "display_data"
    },
    {
     "name": "stdout",
     "output_type": "stream",
     "text": [
      "CUMPLE_CON_CR\n"
     ]
    },
    {
     "data": {
      "text/html": [
       "<div>\n",
       "<style scoped>\n",
       "    .dataframe tbody tr th:only-of-type {\n",
       "        vertical-align: middle;\n",
       "    }\n",
       "\n",
       "    .dataframe tbody tr th {\n",
       "        vertical-align: top;\n",
       "    }\n",
       "\n",
       "    .dataframe thead th {\n",
       "        text-align: right;\n",
       "    }\n",
       "</style>\n",
       "<table border=\"1\" class=\"dataframe\">\n",
       "  <thead>\n",
       "    <tr style=\"text-align: right;\">\n",
       "      <th></th>\n",
       "      <th>% Cumple</th>\n",
       "      <th>% Verde</th>\n",
       "      <th>% Amarillo</th>\n",
       "      <th>% Rojo</th>\n",
       "    </tr>\n",
       "  </thead>\n",
       "  <tbody>\n",
       "    <tr>\n",
       "      <th>Cluster 1</th>\n",
       "      <td>98.501499</td>\n",
       "      <td>42.757243</td>\n",
       "      <td>24.575425</td>\n",
       "      <td>32.667333</td>\n",
       "    </tr>\n",
       "    <tr>\n",
       "      <th>Cluster 2</th>\n",
       "      <td>100.000000</td>\n",
       "      <td>8.955224</td>\n",
       "      <td>1.492537</td>\n",
       "      <td>89.552239</td>\n",
       "    </tr>\n",
       "  </tbody>\n",
       "</table>\n",
       "</div>"
      ],
      "text/plain": [
       "             % Cumple    % Verde  % Amarillo     % Rojo\n",
       "Cluster 1   98.501499  42.757243   24.575425  32.667333\n",
       "Cluster 2  100.000000   8.955224    1.492537  89.552239"
      ]
     },
     "metadata": {},
     "output_type": "display_data"
    },
    {
     "name": "stdout",
     "output_type": "stream",
     "text": [
      "CUMPLE_CON_HG\n"
     ]
    },
    {
     "data": {
      "text/html": [
       "<div>\n",
       "<style scoped>\n",
       "    .dataframe tbody tr th:only-of-type {\n",
       "        vertical-align: middle;\n",
       "    }\n",
       "\n",
       "    .dataframe tbody tr th {\n",
       "        vertical-align: top;\n",
       "    }\n",
       "\n",
       "    .dataframe thead th {\n",
       "        text-align: right;\n",
       "    }\n",
       "</style>\n",
       "<table border=\"1\" class=\"dataframe\">\n",
       "  <thead>\n",
       "    <tr style=\"text-align: right;\">\n",
       "      <th></th>\n",
       "      <th>% Cumple</th>\n",
       "      <th>% Verde</th>\n",
       "      <th>% Amarillo</th>\n",
       "      <th>% Rojo</th>\n",
       "    </tr>\n",
       "  </thead>\n",
       "  <tbody>\n",
       "    <tr>\n",
       "      <th>Cluster 1</th>\n",
       "      <td>99.9001</td>\n",
       "      <td>42.757243</td>\n",
       "      <td>24.575425</td>\n",
       "      <td>32.667333</td>\n",
       "    </tr>\n",
       "    <tr>\n",
       "      <th>Cluster 2</th>\n",
       "      <td>100.0000</td>\n",
       "      <td>8.955224</td>\n",
       "      <td>1.492537</td>\n",
       "      <td>89.552239</td>\n",
       "    </tr>\n",
       "  </tbody>\n",
       "</table>\n",
       "</div>"
      ],
      "text/plain": [
       "           % Cumple    % Verde  % Amarillo     % Rojo\n",
       "Cluster 1   99.9001  42.757243   24.575425  32.667333\n",
       "Cluster 2  100.0000   8.955224    1.492537  89.552239"
      ]
     },
     "metadata": {},
     "output_type": "display_data"
    },
    {
     "name": "stdout",
     "output_type": "stream",
     "text": [
      "CUMPLE_CON_PB\n"
     ]
    },
    {
     "data": {
      "text/html": [
       "<div>\n",
       "<style scoped>\n",
       "    .dataframe tbody tr th:only-of-type {\n",
       "        vertical-align: middle;\n",
       "    }\n",
       "\n",
       "    .dataframe tbody tr th {\n",
       "        vertical-align: top;\n",
       "    }\n",
       "\n",
       "    .dataframe thead th {\n",
       "        text-align: right;\n",
       "    }\n",
       "</style>\n",
       "<table border=\"1\" class=\"dataframe\">\n",
       "  <thead>\n",
       "    <tr style=\"text-align: right;\">\n",
       "      <th></th>\n",
       "      <th>% Cumple</th>\n",
       "      <th>% Verde</th>\n",
       "      <th>% Amarillo</th>\n",
       "      <th>% Rojo</th>\n",
       "    </tr>\n",
       "  </thead>\n",
       "  <tbody>\n",
       "    <tr>\n",
       "      <th>Cluster 1</th>\n",
       "      <td>99.100899</td>\n",
       "      <td>42.757243</td>\n",
       "      <td>24.575425</td>\n",
       "      <td>32.667333</td>\n",
       "    </tr>\n",
       "    <tr>\n",
       "      <th>Cluster 2</th>\n",
       "      <td>95.522388</td>\n",
       "      <td>8.955224</td>\n",
       "      <td>1.492537</td>\n",
       "      <td>89.552239</td>\n",
       "    </tr>\n",
       "  </tbody>\n",
       "</table>\n",
       "</div>"
      ],
      "text/plain": [
       "            % Cumple    % Verde  % Amarillo     % Rojo\n",
       "Cluster 1  99.100899  42.757243   24.575425  32.667333\n",
       "Cluster 2  95.522388   8.955224    1.492537  89.552239"
      ]
     },
     "metadata": {},
     "output_type": "display_data"
    },
    {
     "name": "stdout",
     "output_type": "stream",
     "text": [
      "CUMPLE_CON_MN\n"
     ]
    },
    {
     "data": {
      "text/html": [
       "<div>\n",
       "<style scoped>\n",
       "    .dataframe tbody tr th:only-of-type {\n",
       "        vertical-align: middle;\n",
       "    }\n",
       "\n",
       "    .dataframe tbody tr th {\n",
       "        vertical-align: top;\n",
       "    }\n",
       "\n",
       "    .dataframe thead th {\n",
       "        text-align: right;\n",
       "    }\n",
       "</style>\n",
       "<table border=\"1\" class=\"dataframe\">\n",
       "  <thead>\n",
       "    <tr style=\"text-align: right;\">\n",
       "      <th></th>\n",
       "      <th>% Cumple</th>\n",
       "      <th>% Verde</th>\n",
       "      <th>% Amarillo</th>\n",
       "      <th>% Rojo</th>\n",
       "    </tr>\n",
       "  </thead>\n",
       "  <tbody>\n",
       "    <tr>\n",
       "      <th>Cluster 1</th>\n",
       "      <td>92.007992</td>\n",
       "      <td>42.757243</td>\n",
       "      <td>24.575425</td>\n",
       "      <td>32.667333</td>\n",
       "    </tr>\n",
       "    <tr>\n",
       "      <th>Cluster 2</th>\n",
       "      <td>91.044776</td>\n",
       "      <td>8.955224</td>\n",
       "      <td>1.492537</td>\n",
       "      <td>89.552239</td>\n",
       "    </tr>\n",
       "  </tbody>\n",
       "</table>\n",
       "</div>"
      ],
      "text/plain": [
       "            % Cumple    % Verde  % Amarillo     % Rojo\n",
       "Cluster 1  92.007992  42.757243   24.575425  32.667333\n",
       "Cluster 2  91.044776   8.955224    1.492537  89.552239"
      ]
     },
     "metadata": {},
     "output_type": "display_data"
    },
    {
     "name": "stdout",
     "output_type": "stream",
     "text": [
      "CUMPLE_CON_FE\n"
     ]
    },
    {
     "data": {
      "text/html": [
       "<div>\n",
       "<style scoped>\n",
       "    .dataframe tbody tr th:only-of-type {\n",
       "        vertical-align: middle;\n",
       "    }\n",
       "\n",
       "    .dataframe tbody tr th {\n",
       "        vertical-align: top;\n",
       "    }\n",
       "\n",
       "    .dataframe thead th {\n",
       "        text-align: right;\n",
       "    }\n",
       "</style>\n",
       "<table border=\"1\" class=\"dataframe\">\n",
       "  <thead>\n",
       "    <tr style=\"text-align: right;\">\n",
       "      <th></th>\n",
       "      <th>% Cumple</th>\n",
       "      <th>% Verde</th>\n",
       "      <th>% Amarillo</th>\n",
       "      <th>% Rojo</th>\n",
       "    </tr>\n",
       "  </thead>\n",
       "  <tbody>\n",
       "    <tr>\n",
       "      <th>Cluster 1</th>\n",
       "      <td>87.712288</td>\n",
       "      <td>42.757243</td>\n",
       "      <td>24.575425</td>\n",
       "      <td>32.667333</td>\n",
       "    </tr>\n",
       "    <tr>\n",
       "      <th>Cluster 2</th>\n",
       "      <td>80.597015</td>\n",
       "      <td>8.955224</td>\n",
       "      <td>1.492537</td>\n",
       "      <td>89.552239</td>\n",
       "    </tr>\n",
       "  </tbody>\n",
       "</table>\n",
       "</div>"
      ],
      "text/plain": [
       "            % Cumple    % Verde  % Amarillo     % Rojo\n",
       "Cluster 1  87.712288  42.757243   24.575425  32.667333\n",
       "Cluster 2  80.597015   8.955224    1.492537  89.552239"
      ]
     },
     "metadata": {},
     "output_type": "display_data"
    }
   ],
   "source": [
    "#Definimos las variables que nos interesa analizar\n",
    "vars = ['CUMPLE_CON_ALC', 'CUMPLE_CON_COND', 'CUMPLE_CON_SDT_ra',\n",
    "       'CUMPLE_CON_SDT_salin', 'CUMPLE_CON_FLUO', 'CUMPLE_CON_DUR',\n",
    "       'CUMPLE_CON_CF', 'CUMPLE_CON_NO3', 'CUMPLE_CON_AS', 'CUMPLE_CON_CD',\n",
    "       'CUMPLE_CON_CR', 'CUMPLE_CON_HG', 'CUMPLE_CON_PB', 'CUMPLE_CON_MN',\n",
    "       'CUMPLE_CON_FE']\n",
    "\n",
    "for var in vars:\n",
    "    dicc  = {'% Cumple':[], '% Verde': [], '% Amarillo': [], '% Rojo': []}\n",
    "    for i in range(k):\n",
    "        col = df_final_cols[df_final_cols['labels'] == i][var]\n",
    "        \n",
    "        #Calculamos los porcentajes de cumplimiento\n",
    "        dicc['% Verde'].append((col[df_final_cols['SEMAFORO'] == 'Verde'].count() / len(col))*100)\n",
    "        dicc['% Amarillo'].append((col[df_final_cols['SEMAFORO'] == 'Amarillo'].count() / len(col)) * 100)\n",
    "        dicc['% Rojo'].append((col[df_final_cols['SEMAFORO'] == 'Rojo'].count() / len(col)) * 100)\n",
    "        dicc['% Cumple'].append((col[df_final_cols[var] == 'SI'].count() / len(col))*100)\n",
    "        \n",
    "    #Imprimimos los resultados\n",
    "    print(var)\n",
    "    display(pd.DataFrame(dicc, index = ['Cluster 1', 'Cluster 2']))"
   ]
  },
  {
   "cell_type": "markdown",
   "metadata": {},
   "source": [
    "De la tabla mostrada arriba se puede observar que la variable Coliforme Fecales es la que tiene el % de cumplimiento más bajo (18%) para el clúster #2, lo cual coincide con el análisis descriptivo realizado anteriormente.\n",
    "\n",
    "Esto significa que el kmeans está agrupando en función de la contaminación debida a los Coliformes Fecales, por lo que los puntos graficados en el mapa serían aquellos pozos con mayor contaminación por coliformes.\n",
    "\n",
    "Generemos nuevamente el mapa del clúster dos para hacer un análisis más detallado."
   ]
  },
  {
   "cell_type": "code",
   "execution_count": 34,
   "metadata": {},
   "outputs": [
    {
     "data": {
      "text/plain": [
       "<AxesSubplot:>"
      ]
     },
     "execution_count": 34,
     "metadata": {},
     "output_type": "execute_result"
    },
    {
     "data": {
      "image/png": "[encoded data removed]",
      "text/plain": [
       "<Figure size 864x720 with 1 Axes>"
      ]
     },
     "metadata": {
      "needs_background": "light"
     },
     "output_type": "display_data"
    }
   ],
   "source": [
    "fig, gax = plt.subplots(figsize=(12,10))\n",
    "\n",
    "world.query(\"name == 'Mexico'\").plot(ax = gax, edgecolor='black', color='white')\n",
    "    #Graficamos los puntos\n",
    "gdf[gdf.labels == 1].plot(ax = gax,color=df_final_cols[gdf.labels == 1].SEMAFORO.map(color_map), \n",
    "                              markersize=100, marker='o', alpha = 0.5, aspect = 'equal')"
   ]
  },
  {
   "cell_type": "markdown",
   "metadata": {},
   "source": [
    "Ya sabemos que los puntos rojos se deben en su mayoría a valores altos de coliformes fecales, por lo que conlleva a que estas aguas estén contaminadas. Del mapa anterior se puede destacar lo siguiente:\n",
    "\n",
    "* Existen algunos cúmulos de puntos en los estados de Baja California Sur y Colima, lo cual significa que cuentan con varios números de pozos altamente contaminados por coliformes fecales. De hecho, si se compara con el mapa del clúster 1, se puede apreciar que de corregir esta situación estos dos estados tendrían la mayoría de sus pozos con una calidad entre excelente y aceptable.\n",
    "* También se destacan varios pozos contaminados entre el sur de Sonora y el norte de Sinaloa. En comparación con el mapa del clúster 1, también se observa que la mayoría de los puntos rojos se debe a contaminación por coliformes.\n",
    "* La parte sur de méxico prácticamente no tiene pozos contaminados, a excepción de aquellos que se encuentran por la zona de Chiapas.\n",
    "\n",
    "\n",
    "Para un ejercicio futuro, podría ser interesante correlacionar esta información con datos demográficos de los estados mencionados."
   ]
  },
  {
   "cell_type": "markdown",
   "metadata": {},
   "source": [
    "**3.2. Kmeans por coordenadas**"
   ]
  },
  {
   "cell_type": "code",
   "execution_count": 36,
   "metadata": {},
   "outputs": [
    {
     "name": "stderr",
     "output_type": "stream",
     "text": [
      "c:\\Users\\matth\\anaconda3\\lib\\site-packages\\sklearn\\cluster\\_kmeans.py:1334: UserWarning: KMeans is known to have a memory leak on Windows with MKL, when there are less chunks than available threads. You can avoid it by setting the environment variable OMP_NUM_THREADS=5.\n",
      "  warnings.warn(\n",
      "c:\\Users\\matth\\anaconda3\\lib\\site-packages\\sklearn\\cluster\\_kmeans.py:1334: UserWarning: KMeans is known to have a memory leak on Windows with MKL, when there are less chunks than available threads. You can avoid it by setting the environment variable OMP_NUM_THREADS=5.\n",
      "  warnings.warn(\n",
      "c:\\Users\\matth\\anaconda3\\lib\\site-packages\\sklearn\\cluster\\_kmeans.py:1334: UserWarning: KMeans is known to have a memory leak on Windows with MKL, when there are less chunks than available threads. You can avoid it by setting the environment variable OMP_NUM_THREADS=5.\n",
      "  warnings.warn(\n",
      "c:\\Users\\matth\\anaconda3\\lib\\site-packages\\sklearn\\cluster\\_kmeans.py:1334: UserWarning: KMeans is known to have a memory leak on Windows with MKL, when there are less chunks than available threads. You can avoid it by setting the environment variable OMP_NUM_THREADS=5.\n",
      "  warnings.warn(\n",
      "c:\\Users\\matth\\anaconda3\\lib\\site-packages\\sklearn\\cluster\\_kmeans.py:1334: UserWarning: KMeans is known to have a memory leak on Windows with MKL, when there are less chunks than available threads. You can avoid it by setting the environment variable OMP_NUM_THREADS=5.\n",
      "  warnings.warn(\n",
      "c:\\Users\\matth\\anaconda3\\lib\\site-packages\\sklearn\\cluster\\_kmeans.py:1334: UserWarning: KMeans is known to have a memory leak on Windows with MKL, when there are less chunks than available threads. You can avoid it by setting the environment variable OMP_NUM_THREADS=5.\n",
      "  warnings.warn(\n",
      "c:\\Users\\matth\\anaconda3\\lib\\site-packages\\sklearn\\cluster\\_kmeans.py:1334: UserWarning: KMeans is known to have a memory leak on Windows with MKL, when there are less chunks than available threads. You can avoid it by setting the environment variable OMP_NUM_THREADS=5.\n",
      "  warnings.warn(\n",
      "c:\\Users\\matth\\anaconda3\\lib\\site-packages\\sklearn\\cluster\\_kmeans.py:1334: UserWarning: KMeans is known to have a memory leak on Windows with MKL, when there are less chunks than available threads. You can avoid it by setting the environment variable OMP_NUM_THREADS=5.\n",
      "  warnings.warn(\n",
      "c:\\Users\\matth\\anaconda3\\lib\\site-packages\\sklearn\\cluster\\_kmeans.py:1334: UserWarning: KMeans is known to have a memory leak on Windows with MKL, when there are less chunks than available threads. You can avoid it by setting the environment variable OMP_NUM_THREADS=5.\n",
      "  warnings.warn(\n",
      "c:\\Users\\matth\\anaconda3\\lib\\site-packages\\sklearn\\cluster\\_kmeans.py:1334: UserWarning: KMeans is known to have a memory leak on Windows with MKL, when there are less chunks than available threads. You can avoid it by setting the environment variable OMP_NUM_THREADS=5.\n",
      "  warnings.warn(\n",
      "c:\\Users\\matth\\anaconda3\\lib\\site-packages\\sklearn\\cluster\\_kmeans.py:1334: UserWarning: KMeans is known to have a memory leak on Windows with MKL, when there are less chunks than available threads. You can avoid it by setting the environment variable OMP_NUM_THREADS=5.\n",
      "  warnings.warn(\n",
      "c:\\Users\\matth\\anaconda3\\lib\\site-packages\\sklearn\\cluster\\_kmeans.py:1334: UserWarning: KMeans is known to have a memory leak on Windows with MKL, when there are less chunks than available threads. You can avoid it by setting the environment variable OMP_NUM_THREADS=5.\n",
      "  warnings.warn(\n",
      "c:\\Users\\matth\\anaconda3\\lib\\site-packages\\sklearn\\cluster\\_kmeans.py:1334: UserWarning: KMeans is known to have a memory leak on Windows with MKL, when there are less chunks than available threads. You can avoid it by setting the environment variable OMP_NUM_THREADS=5.\n",
      "  warnings.warn(\n",
      "c:\\Users\\matth\\anaconda3\\lib\\site-packages\\sklearn\\cluster\\_kmeans.py:1334: UserWarning: KMeans is known to have a memory leak on Windows with MKL, when there are less chunks than available threads. You can avoid it by setting the environment variable OMP_NUM_THREADS=5.\n",
      "  warnings.warn(\n"
     ]
    },
    {
     "data": {
      "text/plain": [
       "Text(0.5, 1.0, 'K-Means: Gráfica de codo')"
      ]
     },
     "execution_count": 36,
     "metadata": {},
     "output_type": "execute_result"
    },
    {
     "data": {
      "image/png": "[encoded data removed]",
      "text/plain": [
       "<Figure size 432x288 with 1 Axes>"
      ]
     },
     "metadata": {
      "needs_background": "light"
     },
     "output_type": "display_data"
    }
   ],
   "source": [
    "from sklearn.cluster import KMeans\n",
    "K = range(1,15)\n",
    "\n",
    "wss = []\n",
    "\n",
    "for k in K:\n",
    "    kmeans = KMeans(n_clusters=k, init='k-means++')\n",
    "    \n",
    "    kmeans = kmeans.fit(df_final_cols[['LONGITUD', 'LATITUD']])\n",
    "    wss_iter = kmeans.inertia_\n",
    "    wss.append(wss_iter)\n",
    "\n",
    "centers = pd.DataFrame({'Clusters': K, 'WSS': wss})\n",
    "\n",
    "import seaborn as sns\n",
    "plt.plot(centers.Clusters, centers.WSS, 'ro-', markersize = 5)\n",
    "plt.xlabel('Número de clústeres')\n",
    "plt.ylabel('Error cuadrático')\n",
    "plt.title('K-Means: Gráfica de codo')"
   ]
  },
  {
   "cell_type": "code",
   "execution_count": 37,
   "metadata": {},
   "outputs": [],
   "source": [
    "#Definimos el k óptimo\n",
    "k = 4\n",
    "\n",
    "geo_localizacion = df_final_cols[['LONGITUD', 'LATITUD']]"
   ]
  },
  {
   "cell_type": "code",
   "execution_count": 38,
   "metadata": {},
   "outputs": [
    {
     "name": "stderr",
     "output_type": "stream",
     "text": [
      "c:\\Users\\matth\\anaconda3\\lib\\site-packages\\sklearn\\cluster\\_kmeans.py:1334: UserWarning: KMeans is known to have a memory leak on Windows with MKL, when there are less chunks than available threads. You can avoid it by setting the environment variable OMP_NUM_THREADS=5.\n",
      "  warnings.warn(\n"
     ]
    },
    {
     "data": {
      "text/plain": [
       "[[-100.2286466957672, 20.261144915343916],\n",
       " [-111.44537124271844, 28.73401659708738],\n",
       " [-90.09271577777778, 19.6502625],\n",
       " [-103.6658407795031, 24.774786307453418]]"
      ]
     },
     "execution_count": 38,
     "metadata": {},
     "output_type": "execute_result"
    }
   ],
   "source": [
    "#Entrenamos el modelo\n",
    "kmeans = KMeans(n_clusters=k).fit(geo_localizacion)\n",
    "\n",
    "#Buscamos las coordenadas de los centros\n",
    "centroids = kmeans.cluster_centers_\n",
    "\n",
    "#Asignamos los clústers a las observaciones\n",
    "df_final_cols['labels'] = kmeans.labels_\n",
    "\n",
    "C = kmeans.cluster_centers_.tolist()\n",
    "\n",
    "C\n"
   ]
  },
  {
   "cell_type": "markdown",
   "metadata": {},
   "source": [
    "Ahora generemos el dataframe que estaremos utilizando para graficar los centros. También definiremos una columna de \"Semaforo\", donde registraremos la moda de la calidad del agua para cada clúster."
   ]
  },
  {
   "cell_type": "code",
   "execution_count": 39,
   "metadata": {},
   "outputs": [
    {
     "data": {
      "text/html": [
       "<div>\n",
       "<style scoped>\n",
       "    .dataframe tbody tr th:only-of-type {\n",
       "        vertical-align: middle;\n",
       "    }\n",
       "\n",
       "    .dataframe tbody tr th {\n",
       "        vertical-align: top;\n",
       "    }\n",
       "\n",
       "    .dataframe thead th {\n",
       "        text-align: right;\n",
       "    }\n",
       "</style>\n",
       "<table border=\"1\" class=\"dataframe\">\n",
       "  <thead>\n",
       "    <tr style=\"text-align: right;\">\n",
       "      <th></th>\n",
       "      <th>Longitud</th>\n",
       "      <th>Latitud</th>\n",
       "      <th>Semaforo</th>\n",
       "      <th>Coordinates</th>\n",
       "    </tr>\n",
       "  </thead>\n",
       "  <tbody>\n",
       "    <tr>\n",
       "      <th>0</th>\n",
       "      <td>-100.228647</td>\n",
       "      <td>20.261145</td>\n",
       "      <td>Verde</td>\n",
       "      <td>POINT (-100.2286466957672 20.261144915343916)</td>\n",
       "    </tr>\n",
       "    <tr>\n",
       "      <th>1</th>\n",
       "      <td>-111.445371</td>\n",
       "      <td>28.734017</td>\n",
       "      <td>Verde</td>\n",
       "      <td>POINT (-111.44537124271844 28.73401659708738)</td>\n",
       "    </tr>\n",
       "    <tr>\n",
       "      <th>2</th>\n",
       "      <td>-90.092716</td>\n",
       "      <td>19.650263</td>\n",
       "      <td>Amarillo</td>\n",
       "      <td>POINT (-90.09271577777778 19.6502625)</td>\n",
       "    </tr>\n",
       "    <tr>\n",
       "      <th>3</th>\n",
       "      <td>-103.665841</td>\n",
       "      <td>24.774786</td>\n",
       "      <td>Rojo</td>\n",
       "      <td>POINT (-103.6658407795031 24.774786307453418)</td>\n",
       "    </tr>\n",
       "  </tbody>\n",
       "</table>\n",
       "</div>"
      ],
      "text/plain": [
       "     Longitud    Latitud  Semaforo  \\\n",
       "0 -100.228647  20.261145     Verde   \n",
       "1 -111.445371  28.734017     Verde   \n",
       "2  -90.092716  19.650263  Amarillo   \n",
       "3 -103.665841  24.774786      Rojo   \n",
       "\n",
       "                                     Coordinates  \n",
       "0  POINT (-100.2286466957672 20.261144915343916)  \n",
       "1  POINT (-111.44537124271844 28.73401659708738)  \n",
       "2          POINT (-90.09271577777778 19.6502625)  \n",
       "3  POINT (-103.6658407795031 24.774786307453418)  "
      ]
     },
     "execution_count": 39,
     "metadata": {},
     "output_type": "execute_result"
    }
   ],
   "source": [
    "for i in range(k):\n",
    "    #Buscamos la moda de cada clúster\n",
    "    C[i].append(df_final_cols[df_final_cols['labels'] == i][['SEMAFORO']].mode(axis = 0)['SEMAFORO'][0])\n",
    "\n",
    "df_centers = pd.DataFrame(C, columns = ['Longitud', 'Latitud', 'Semaforo'])\n",
    "df_centers[\"Coordinates\"] = list(zip(df_centers['Longitud'], df_centers['Latitud']))\n",
    "df_centers[\"Coordinates\"] = df_centers[\"Coordinates\"].apply(Point)\n",
    "\n",
    "df_centers"
   ]
  },
  {
   "cell_type": "code",
   "execution_count": 40,
   "metadata": {},
   "outputs": [],
   "source": [
    "geo_df = gpd.GeoDataFrame(df_centers, geometry=\"Coordinates\") "
   ]
  },
  {
   "cell_type": "markdown",
   "metadata": {},
   "source": [
    "Ahora procederemos a generar el gráfico"
   ]
  },
  {
   "cell_type": "code",
   "execution_count": 41,
   "metadata": {},
   "outputs": [
    {
     "data": {
      "image/png": "[encoded data removed]",
      "text/plain": [
       "<Figure size 1080x720 with 1 Axes>"
      ]
     },
     "metadata": {
      "needs_background": "light"
     },
     "output_type": "display_data"
    }
   ],
   "source": [
    "from pandas.core.internals.concat import concat_arrays\n",
    "\n",
    "fig, gax = plt.subplots(figsize=(15,10))\n",
    "world.query(\"name == 'Mexico'\").plot(ax = gax, edgecolor='black', color='white')\n",
    "gdf.plot(ax=gax, color='tab:blue', alpha = 0.5)\n",
    "geo_df.plot(ax=gax, color=df_centers.Semaforo.map(color_map), alpha = 1, markersize = 300)\n",
    "\n",
    "gax.set_xlabel('LONGITUD')\n",
    "gax.set_ylabel('LATITUD')\n",
    "gax.set_title('Agrupación de latitudes y longitudes')\n",
    "gax.spines['top'].set_visible(False)\n",
    "gax.spines['right'].set_visible(False)\n",
    "plt.show()"
   ]
  },
  {
   "cell_type": "markdown",
   "metadata": {},
   "source": [
    "Del gráfico anterior se puede observar que el centro de México es la zona con la mayor contaminación de agua, seguido de la zona sur, con una calidad aceptable. Las zonas con más pozos de agua potable se encuentran en la parte norte del país, y al sur del centro de México. Por último, veamos la cantidad de fuetnes de agua por cada clúster."
   ]
  },
  {
   "cell_type": "code",
   "execution_count": 42,
   "metadata": {},
   "outputs": [
    {
     "data": {
      "image/png": "[encoded data removed]",
      "text/plain": [
       "<Figure size 432x288 with 1 Axes>"
      ]
     },
     "metadata": {
      "needs_background": "light"
     },
     "output_type": "display_data"
    }
   ],
   "source": [
    "plt.bar(x = ['Cluster 1', 'Cluster 2', 'Cluster 3', 'Cluster 4'], \n",
    "        height =df_final_cols['labels'].value_counts().sort_index().to_list())  \n",
    "plt.title('Cantidad de fuentes de agua por cada clúster') \n",
    "plt.show()"
   ]
  }
 ],
 "metadata": {
  "kernelspec": {
   "display_name": "Python 3.9.12 ('base')",
   "language": "python",
   "name": "python3"
  },
  "language_info": {
   "codemirror_mode": {
    "name": "ipython",
    "version": 3
   },
   "file_extension": ".py",
   "mimetype": "text/x-python",
   "name": "python",
   "nbconvert_exporter": "python",
   "pygments_lexer": "ipython3",
   "version": "3.9.12"
  },
  "orig_nbformat": 4,
  "vscode": {
   "interpreter": {
    "hash": "8607d81fc6318cb05ed35a8010608a8fe3010a47ba3e0e927835a55241641039"
   }
  }
 },
 "nbformat": 4,
 "nbformat_minor": 2
}
