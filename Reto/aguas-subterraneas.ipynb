{
 "cells": [
  {
   "cell_type": "code",
   "execution_count": 946,
   "metadata": {},
   "outputs": [],
   "source": [
    "import pandas as pd\n",
    "import numpy as np\n",
    "import seaborn as sns\n",
    "import matplotlib.pyplot as plt\n",
    "from matplotlib.colors import LinearSegmentedColormap"
   ]
  },
  {
   "cell_type": "code",
   "execution_count": 947,
   "metadata": {},
   "outputs": [
    {
     "data": {
      "text/html": [
       "<div>\n",
       "<style scoped>\n",
       "    .dataframe tbody tr th:only-of-type {\n",
       "        vertical-align: middle;\n",
       "    }\n",
       "\n",
       "    .dataframe tbody tr th {\n",
       "        vertical-align: top;\n",
       "    }\n",
       "\n",
       "    .dataframe thead th {\n",
       "        text-align: right;\n",
       "    }\n",
       "</style>\n",
       "<table border=\"1\" class=\"dataframe\">\n",
       "  <thead>\n",
       "    <tr style=\"text-align: right;\">\n",
       "      <th></th>\n",
       "      <th>CLAVE</th>\n",
       "      <th>SITIO</th>\n",
       "      <th>ORGANISMO_DE_CUENCA</th>\n",
       "      <th>ESTADO</th>\n",
       "      <th>MUNICIPIO</th>\n",
       "      <th>ACUIFERO</th>\n",
       "      <th>SUBTIPO</th>\n",
       "      <th>LONGITUD</th>\n",
       "      <th>LATITUD</th>\n",
       "      <th>PERIODO</th>\n",
       "      <th>...</th>\n",
       "      <th>CUMPLE_CON_DUR</th>\n",
       "      <th>CUMPLE_CON_CF</th>\n",
       "      <th>CUMPLE_CON_NO3</th>\n",
       "      <th>CUMPLE_CON_AS</th>\n",
       "      <th>CUMPLE_CON_CD</th>\n",
       "      <th>CUMPLE_CON_CR</th>\n",
       "      <th>CUMPLE_CON_HG</th>\n",
       "      <th>CUMPLE_CON_PB</th>\n",
       "      <th>CUMPLE_CON_MN</th>\n",
       "      <th>CUMPLE_CON_FE</th>\n",
       "    </tr>\n",
       "  </thead>\n",
       "  <tbody>\n",
       "    <tr>\n",
       "      <th>0</th>\n",
       "      <td>DLAGU6</td>\n",
       "      <td>POZO SAN GIL</td>\n",
       "      <td>LERMA SANTIAGO PACIFICO</td>\n",
       "      <td>AGUASCALIENTES</td>\n",
       "      <td>ASIENTOS</td>\n",
       "      <td>VALLE DE CHICALOTE</td>\n",
       "      <td>POZO</td>\n",
       "      <td>-102.02210</td>\n",
       "      <td>22.20887</td>\n",
       "      <td>2020</td>\n",
       "      <td>...</td>\n",
       "      <td>SI</td>\n",
       "      <td>SI</td>\n",
       "      <td>SI</td>\n",
       "      <td>SI</td>\n",
       "      <td>SI</td>\n",
       "      <td>SI</td>\n",
       "      <td>SI</td>\n",
       "      <td>SI</td>\n",
       "      <td>SI</td>\n",
       "      <td>SI</td>\n",
       "    </tr>\n",
       "    <tr>\n",
       "      <th>1</th>\n",
       "      <td>DLAGU6516</td>\n",
       "      <td>POZO R013 CA�ADA HONDA</td>\n",
       "      <td>LERMA SANTIAGO PACIFICO</td>\n",
       "      <td>AGUASCALIENTES</td>\n",
       "      <td>AGUASCALIENTES</td>\n",
       "      <td>VALLE DE CHICALOTE</td>\n",
       "      <td>POZO</td>\n",
       "      <td>-102.20075</td>\n",
       "      <td>21.99958</td>\n",
       "      <td>2020</td>\n",
       "      <td>...</td>\n",
       "      <td>SI</td>\n",
       "      <td>SI</td>\n",
       "      <td>SI</td>\n",
       "      <td>SI</td>\n",
       "      <td>SI</td>\n",
       "      <td>SI</td>\n",
       "      <td>SI</td>\n",
       "      <td>SI</td>\n",
       "      <td>SI</td>\n",
       "      <td>SI</td>\n",
       "    </tr>\n",
       "    <tr>\n",
       "      <th>2</th>\n",
       "      <td>DLAGU7</td>\n",
       "      <td>POZO COSIO</td>\n",
       "      <td>LERMA SANTIAGO PACIFICO</td>\n",
       "      <td>AGUASCALIENTES</td>\n",
       "      <td>COSIO</td>\n",
       "      <td>VALLE DE AGUASCALIENTES</td>\n",
       "      <td>POZO</td>\n",
       "      <td>-102.28801</td>\n",
       "      <td>22.36685</td>\n",
       "      <td>2020</td>\n",
       "      <td>...</td>\n",
       "      <td>SI</td>\n",
       "      <td>SI</td>\n",
       "      <td>SI</td>\n",
       "      <td>NO</td>\n",
       "      <td>SI</td>\n",
       "      <td>SI</td>\n",
       "      <td>SI</td>\n",
       "      <td>SI</td>\n",
       "      <td>SI</td>\n",
       "      <td>SI</td>\n",
       "    </tr>\n",
       "    <tr>\n",
       "      <th>3</th>\n",
       "      <td>DLAGU9</td>\n",
       "      <td>POZO EL SALITRILLO</td>\n",
       "      <td>LERMA SANTIAGO PACIFICO</td>\n",
       "      <td>AGUASCALIENTES</td>\n",
       "      <td>RINCON DE ROMOS</td>\n",
       "      <td>VALLE DE AGUASCALIENTES</td>\n",
       "      <td>POZO</td>\n",
       "      <td>-102.29449</td>\n",
       "      <td>22.18435</td>\n",
       "      <td>2020</td>\n",
       "      <td>...</td>\n",
       "      <td>SI</td>\n",
       "      <td>SI</td>\n",
       "      <td>SI</td>\n",
       "      <td>SI</td>\n",
       "      <td>SI</td>\n",
       "      <td>SI</td>\n",
       "      <td>SI</td>\n",
       "      <td>SI</td>\n",
       "      <td>SI</td>\n",
       "      <td>SI</td>\n",
       "    </tr>\n",
       "    <tr>\n",
       "      <th>4</th>\n",
       "      <td>DLBAJ107</td>\n",
       "      <td>RANCHO EL TECOLOTE</td>\n",
       "      <td>PENINSULA DE BAJA CALIFORNIA</td>\n",
       "      <td>BAJA CALIFORNIA SUR</td>\n",
       "      <td>LA PAZ</td>\n",
       "      <td>TODOS SANTOS</td>\n",
       "      <td>POZO</td>\n",
       "      <td>-110.24480</td>\n",
       "      <td>23.45138</td>\n",
       "      <td>2020</td>\n",
       "      <td>...</td>\n",
       "      <td>SI</td>\n",
       "      <td>SI</td>\n",
       "      <td>NO</td>\n",
       "      <td>SI</td>\n",
       "      <td>SI</td>\n",
       "      <td>SI</td>\n",
       "      <td>SI</td>\n",
       "      <td>SI</td>\n",
       "      <td>SI</td>\n",
       "      <td>SI</td>\n",
       "    </tr>\n",
       "  </tbody>\n",
       "</table>\n",
       "<p>5 rows × 57 columns</p>\n",
       "</div>"
      ],
      "text/plain": [
       "       CLAVE                   SITIO           ORGANISMO_DE_CUENCA  \\\n",
       "0     DLAGU6            POZO SAN GIL       LERMA SANTIAGO PACIFICO   \n",
       "1  DLAGU6516  POZO R013 CA�ADA HONDA       LERMA SANTIAGO PACIFICO   \n",
       "2     DLAGU7              POZO COSIO       LERMA SANTIAGO PACIFICO   \n",
       "3     DLAGU9      POZO EL SALITRILLO       LERMA SANTIAGO PACIFICO   \n",
       "4   DLBAJ107      RANCHO EL TECOLOTE  PENINSULA DE BAJA CALIFORNIA   \n",
       "\n",
       "                ESTADO        MUNICIPIO                 ACUIFERO SUBTIPO  \\\n",
       "0       AGUASCALIENTES         ASIENTOS       VALLE DE CHICALOTE    POZO   \n",
       "1       AGUASCALIENTES   AGUASCALIENTES       VALLE DE CHICALOTE    POZO   \n",
       "2       AGUASCALIENTES            COSIO  VALLE DE AGUASCALIENTES    POZO   \n",
       "3       AGUASCALIENTES  RINCON DE ROMOS  VALLE DE AGUASCALIENTES    POZO   \n",
       "4  BAJA CALIFORNIA SUR           LA PAZ             TODOS SANTOS    POZO   \n",
       "\n",
       "    LONGITUD   LATITUD  PERIODO  ...  CUMPLE_CON_DUR CUMPLE_CON_CF  \\\n",
       "0 -102.02210  22.20887     2020  ...              SI            SI   \n",
       "1 -102.20075  21.99958     2020  ...              SI            SI   \n",
       "2 -102.28801  22.36685     2020  ...              SI            SI   \n",
       "3 -102.29449  22.18435     2020  ...              SI            SI   \n",
       "4 -110.24480  23.45138     2020  ...              SI            SI   \n",
       "\n",
       "   CUMPLE_CON_NO3 CUMPLE_CON_AS  CUMPLE_CON_CD CUMPLE_CON_CR CUMPLE_CON_HG  \\\n",
       "0              SI            SI             SI            SI            SI   \n",
       "1              SI            SI             SI            SI            SI   \n",
       "2              SI            NO             SI            SI            SI   \n",
       "3              SI            SI             SI            SI            SI   \n",
       "4              NO            SI             SI            SI            SI   \n",
       "\n",
       "  CUMPLE_CON_PB CUMPLE_CON_MN CUMPLE_CON_FE  \n",
       "0            SI            SI            SI  \n",
       "1            SI            SI            SI  \n",
       "2            SI            SI            SI  \n",
       "3            SI            SI            SI  \n",
       "4            SI            SI            SI  \n",
       "\n",
       "[5 rows x 57 columns]"
      ]
     },
     "execution_count": 947,
     "metadata": {},
     "output_type": "execute_result"
    }
   ],
   "source": [
    "df = pd.read_csv('datos/aguas_subterraneas_2020.csv')\n",
    "df.head()"
   ]
  },
  {
   "cell_type": "code",
   "execution_count": 948,
   "metadata": {},
   "outputs": [
    {
     "name": "stdout",
     "output_type": "stream",
     "text": [
      "<class 'pandas.core.frame.DataFrame'>\n",
      "RangeIndex: 1068 entries, 0 to 1067\n",
      "Data columns (total 57 columns):\n",
      " #   Column                Non-Null Count  Dtype  \n",
      "---  ------                --------------  -----  \n",
      " 0   CLAVE                 1068 non-null   object \n",
      " 1   SITIO                 1068 non-null   object \n",
      " 2   ORGANISMO_DE_CUENCA   1068 non-null   object \n",
      " 3   ESTADO                1068 non-null   object \n",
      " 4   MUNICIPIO             1068 non-null   object \n",
      " 5   ACUIFERO              1068 non-null   object \n",
      " 6   SUBTIPO               1068 non-null   object \n",
      " 7   LONGITUD              1068 non-null   float64\n",
      " 8   LATITUD               1068 non-null   float64\n",
      " 9   PERIODO               1068 non-null   int64  \n",
      " 10  ALC_mg/L              1064 non-null   float64\n",
      " 11  CALIDAD_ALC           1064 non-null   object \n",
      " 12  CONDUCT_mS/cm         1062 non-null   float64\n",
      " 13  CALIDAD_CONDUC        1062 non-null   object \n",
      " 14  SDT_mg/L              0 non-null      float64\n",
      " 15  SDT_M_mg/L            1066 non-null   object \n",
      " 16  CALIDAD_SDT_ra        1066 non-null   object \n",
      " 17  CALIDAD_SDT_salin     1066 non-null   object \n",
      " 18  FLUORUROS_mg/L        1068 non-null   object \n",
      " 19  CALIDAD_FLUO          1068 non-null   object \n",
      " 20  DUR_mg/L              1067 non-null   object \n",
      " 21  CALIDAD_DUR           1067 non-null   object \n",
      " 22  COLI_FEC_NMP/100_mL   1068 non-null   object \n",
      " 23  CALIDAD_COLI_FEC      1068 non-null   object \n",
      " 24  N_NO3_mg/L            1067 non-null   object \n",
      " 25  CALIDAD_N_NO3         1067 non-null   object \n",
      " 26  AS_TOT_mg/L           1068 non-null   object \n",
      " 27  CALIDAD_AS            1068 non-null   object \n",
      " 28  CD_TOT_mg/L           1068 non-null   object \n",
      " 29  CALIDAD_CD            1068 non-null   object \n",
      " 30  CR_TOT_mg/L           1068 non-null   object \n",
      " 31  CALIDAD_CR            1068 non-null   object \n",
      " 32  HG_TOT_mg/L           1068 non-null   object \n",
      " 33  CALIDAD_HG            1068 non-null   object \n",
      " 34  PB_TOT_mg/L           1068 non-null   object \n",
      " 35  CALIDAD_PB            1068 non-null   object \n",
      " 36  MN_TOT_mg/L           1068 non-null   object \n",
      " 37  CALIDAD_MN            1068 non-null   object \n",
      " 38  FE_TOT_mg/L           1068 non-null   object \n",
      " 39  CALIDAD_FE            1068 non-null   object \n",
      " 40  SEMAFORO              1068 non-null   object \n",
      " 41  CONTAMINANTES         634 non-null    object \n",
      " 42  CUMPLE_CON_ALC        1068 non-null   object \n",
      " 43  CUMPLE_CON_COND       1068 non-null   object \n",
      " 44  CUMPLE_CON_SDT_ra     1068 non-null   object \n",
      " 45  CUMPLE_CON_SDT_salin  1068 non-null   object \n",
      " 46  CUMPLE_CON_FLUO       1068 non-null   object \n",
      " 47  CUMPLE_CON_DUR        1068 non-null   object \n",
      " 48  CUMPLE_CON_CF         1068 non-null   object \n",
      " 49  CUMPLE_CON_NO3        1068 non-null   object \n",
      " 50  CUMPLE_CON_AS         1068 non-null   object \n",
      " 51  CUMPLE_CON_CD         1068 non-null   object \n",
      " 52  CUMPLE_CON_CR         1068 non-null   object \n",
      " 53  CUMPLE_CON_HG         1068 non-null   object \n",
      " 54  CUMPLE_CON_PB         1068 non-null   object \n",
      " 55  CUMPLE_CON_MN         1068 non-null   object \n",
      " 56  CUMPLE_CON_FE         1068 non-null   object \n",
      "dtypes: float64(5), int64(1), object(51)\n",
      "memory usage: 475.7+ KB\n"
     ]
    }
   ],
   "source": [
    "df.info()"
   ]
  },
  {
   "cell_type": "markdown",
   "metadata": {},
   "source": [
    "Obtengamos las columnas que tienen valores vacíos y la cantidad de nulos por cada columna"
   ]
  },
  {
   "cell_type": "code",
   "execution_count": 991,
   "metadata": {},
   "outputs": [
    {
     "data": {
      "text/html": [
       "<div>\n",
       "<style scoped>\n",
       "    .dataframe tbody tr th:only-of-type {\n",
       "        vertical-align: middle;\n",
       "    }\n",
       "\n",
       "    .dataframe tbody tr th {\n",
       "        vertical-align: top;\n",
       "    }\n",
       "\n",
       "    .dataframe thead th {\n",
       "        text-align: right;\n",
       "    }\n",
       "</style>\n",
       "<table border=\"1\" class=\"dataframe\">\n",
       "  <thead>\n",
       "    <tr style=\"text-align: right;\">\n",
       "      <th></th>\n",
       "      <th>columns</th>\n",
       "      <th>total</th>\n",
       "    </tr>\n",
       "  </thead>\n",
       "  <tbody>\n",
       "    <tr>\n",
       "      <th>0</th>\n",
       "      <td>ALC_mg/L</td>\n",
       "      <td>4</td>\n",
       "    </tr>\n",
       "    <tr>\n",
       "      <th>1</th>\n",
       "      <td>CALIDAD_ALC</td>\n",
       "      <td>4</td>\n",
       "    </tr>\n",
       "    <tr>\n",
       "      <th>2</th>\n",
       "      <td>CONDUCT_mS/cm</td>\n",
       "      <td>6</td>\n",
       "    </tr>\n",
       "    <tr>\n",
       "      <th>3</th>\n",
       "      <td>CALIDAD_CONDUC</td>\n",
       "      <td>6</td>\n",
       "    </tr>\n",
       "    <tr>\n",
       "      <th>4</th>\n",
       "      <td>SDT_mg/L</td>\n",
       "      <td>1068</td>\n",
       "    </tr>\n",
       "    <tr>\n",
       "      <th>5</th>\n",
       "      <td>SDT_M_mg/L</td>\n",
       "      <td>2</td>\n",
       "    </tr>\n",
       "    <tr>\n",
       "      <th>6</th>\n",
       "      <td>CALIDAD_SDT_ra</td>\n",
       "      <td>2</td>\n",
       "    </tr>\n",
       "    <tr>\n",
       "      <th>7</th>\n",
       "      <td>CALIDAD_SDT_salin</td>\n",
       "      <td>2</td>\n",
       "    </tr>\n",
       "    <tr>\n",
       "      <th>8</th>\n",
       "      <td>DUR_mg/L</td>\n",
       "      <td>1</td>\n",
       "    </tr>\n",
       "    <tr>\n",
       "      <th>9</th>\n",
       "      <td>CALIDAD_DUR</td>\n",
       "      <td>1</td>\n",
       "    </tr>\n",
       "    <tr>\n",
       "      <th>10</th>\n",
       "      <td>N_NO3_mg/L</td>\n",
       "      <td>1</td>\n",
       "    </tr>\n",
       "    <tr>\n",
       "      <th>11</th>\n",
       "      <td>CALIDAD_N_NO3</td>\n",
       "      <td>1</td>\n",
       "    </tr>\n",
       "    <tr>\n",
       "      <th>12</th>\n",
       "      <td>CONTAMINANTES</td>\n",
       "      <td>434</td>\n",
       "    </tr>\n",
       "  </tbody>\n",
       "</table>\n",
       "</div>"
      ],
      "text/plain": [
       "              columns  total\n",
       "0            ALC_mg/L      4\n",
       "1         CALIDAD_ALC      4\n",
       "2       CONDUCT_mS/cm      6\n",
       "3      CALIDAD_CONDUC      6\n",
       "4            SDT_mg/L   1068\n",
       "5          SDT_M_mg/L      2\n",
       "6      CALIDAD_SDT_ra      2\n",
       "7   CALIDAD_SDT_salin      2\n",
       "8            DUR_mg/L      1\n",
       "9         CALIDAD_DUR      1\n",
       "10         N_NO3_mg/L      1\n",
       "11      CALIDAD_N_NO3      1\n",
       "12      CONTAMINANTES    434"
      ]
     },
     "execution_count": 991,
     "metadata": {},
     "output_type": "execute_result"
    }
   ],
   "source": [
    "na_columns = df.columns[df.isna().any()].tolist()\n",
    "na_total = df[na_columns].isna().sum()\n",
    "\n",
    "pd.DataFrame({'columns': na_columns, 'total': na_total.to_list() })"
   ]
  },
  {
   "cell_type": "markdown",
   "metadata": {},
   "source": [
    "De la tabla anterior se puede apreciar que la columna de Solidos Totales Disueltos (SDT_mg/L) está completamente vacía. La segunda columna con mayor cantidad de nulos es Contaminantes, sin embargo, esta es de esperarse puesto que hay mediciones de agua que no arrojan contaminantes. En otras palabras, un valor nulo en esta columna equivale a ausencia de contaminantes en el agua.\n",
    "\n",
    "Las demás columnas presentan pocas observaciones nulas. Más adelante definiremos una estrategia para de imputación para estas columnas con valores faltantes."
   ]
  },
  {
   "cell_type": "markdown",
   "metadata": {},
   "source": [
    "Del resultado anterior se observa columnas que contienen la misma información pero en tipo de datos diferntes. También hay columnas numéricas detectadas como tipo \"object\". Vamos a extraer primero todas las columnas categóricas y binarias, ya que son candidatas a ser eliminadas."
   ]
  },
  {
   "cell_type": "code",
   "execution_count": 949,
   "metadata": {},
   "outputs": [
    {
     "data": {
      "text/plain": [
       "['CALIDAD_ALC',\n",
       " 'CALIDAD_CONDUC',\n",
       " 'CALIDAD_SDT_ra',\n",
       " 'CALIDAD_SDT_salin',\n",
       " 'CALIDAD_FLUO',\n",
       " 'CALIDAD_DUR',\n",
       " 'CALIDAD_COLI_FEC',\n",
       " 'CALIDAD_N_NO3',\n",
       " 'CALIDAD_AS',\n",
       " 'CALIDAD_CD',\n",
       " 'CALIDAD_CR',\n",
       " 'CALIDAD_HG',\n",
       " 'CALIDAD_PB',\n",
       " 'CALIDAD_MN',\n",
       " 'CALIDAD_FE',\n",
       " 'CUMPLE_CON_ALC',\n",
       " 'CUMPLE_CON_COND',\n",
       " 'CUMPLE_CON_SDT_ra',\n",
       " 'CUMPLE_CON_SDT_salin',\n",
       " 'CUMPLE_CON_FLUO',\n",
       " 'CUMPLE_CON_DUR',\n",
       " 'CUMPLE_CON_CF',\n",
       " 'CUMPLE_CON_NO3',\n",
       " 'CUMPLE_CON_AS',\n",
       " 'CUMPLE_CON_CD',\n",
       " 'CUMPLE_CON_CR',\n",
       " 'CUMPLE_CON_HG',\n",
       " 'CUMPLE_CON_PB',\n",
       " 'CUMPLE_CON_MN',\n",
       " 'CUMPLE_CON_FE']"
      ]
     },
     "execution_count": 949,
     "metadata": {},
     "output_type": "execute_result"
    }
   ],
   "source": [
    "#Obtenemos las columnas binarias o categóricas ya que tienen información repetida. Estas son candidatas a eliminarse\n",
    "cols_to_drop  = df.columns[df.columns.str.contains('CALIDAD|CUMPLE')].to_list()\n",
    "cols_to_drop\n"
   ]
  },
  {
   "cell_type": "markdown",
   "metadata": {},
   "source": [
    "Ahora revisemos una de las columnas numéricas que fueron detectadas como object. Tomaremos un ejemplo con Cadmio (CD_TOT_mg/L)"
   ]
  },
  {
   "cell_type": "code",
   "execution_count": 950,
   "metadata": {},
   "outputs": [
    {
     "data": {
      "text/plain": [
       "<0.003     1066\n",
       "0.0056        1\n",
       "0.03211       1\n",
       "Name: CD_TOT_mg/L, dtype: int64"
      ]
     },
     "execution_count": 950,
     "metadata": {},
     "output_type": "execute_result"
    }
   ],
   "source": [
    "df['CD_TOT_mg/L'].value_counts()"
   ]
  },
  {
   "cell_type": "markdown",
   "metadata": {},
   "source": [
    "De lo anterior se observa que valores muy pequeños son colocados como \"<\". Para ello, vamos a reemplazar este string por un valor arbitrario por debajo del umbral, de manera que podamos crear una cota inferior y así analizarlo por medio de un histograma o boxplot."
   ]
  },
  {
   "cell_type": "code",
   "execution_count": 951,
   "metadata": {},
   "outputs": [
    {
     "data": {
      "text/html": [
       "<style type=\"text/css\">\n",
       "</style>\n",
       "<table id=\"T_c4d54\">\n",
       "  <thead>\n",
       "    <tr>\n",
       "      <th id=\"T_c4d54_level0_col0\" class=\"col_heading level0 col0\" >AS_TOT_mg/L</th>\n",
       "      <th id=\"T_c4d54_level0_col1\" class=\"col_heading level0 col1\" >CD_TOT_mg/L</th>\n",
       "      <th id=\"T_c4d54_level0_col2\" class=\"col_heading level0 col2\" >FE_TOT_mg/L</th>\n",
       "      <th id=\"T_c4d54_level0_col3\" class=\"col_heading level0 col3\" >SDT_M_mg/L</th>\n",
       "      <th id=\"T_c4d54_level0_col4\" class=\"col_heading level0 col4\" >FLUORUROS_mg/L</th>\n",
       "      <th id=\"T_c4d54_level0_col5\" class=\"col_heading level0 col5\" >COLI_FEC_NMP/100_mL</th>\n",
       "      <th id=\"T_c4d54_level0_col6\" class=\"col_heading level0 col6\" >CR_TOT_mg/L</th>\n",
       "      <th id=\"T_c4d54_level0_col7\" class=\"col_heading level0 col7\" >DUR_mg/L</th>\n",
       "      <th id=\"T_c4d54_level0_col8\" class=\"col_heading level0 col8\" >HG_TOT_mg/L</th>\n",
       "      <th id=\"T_c4d54_level0_col9\" class=\"col_heading level0 col9\" >MN_TOT_mg/L</th>\n",
       "      <th id=\"T_c4d54_level0_col10\" class=\"col_heading level0 col10\" >N_NO3_mg/L</th>\n",
       "      <th id=\"T_c4d54_level0_col11\" class=\"col_heading level0 col11\" >PB_TOT_mg/L</th>\n",
       "    </tr>\n",
       "  </thead>\n",
       "  <tbody>\n",
       "    <tr>\n",
       "      <td id=\"T_c4d54_row0_col0\" class=\"data row0 col0\" ><0.01</td>\n",
       "      <td id=\"T_c4d54_row0_col1\" class=\"data row0 col1\" ><0.003</td>\n",
       "      <td id=\"T_c4d54_row0_col2\" class=\"data row0 col2\" ><0.025</td>\n",
       "      <td id=\"T_c4d54_row0_col3\" class=\"data row0 col3\" ><25</td>\n",
       "      <td id=\"T_c4d54_row0_col4\" class=\"data row0 col4\" ><0.2</td>\n",
       "      <td id=\"T_c4d54_row0_col5\" class=\"data row0 col5\" ><1.1</td>\n",
       "      <td id=\"T_c4d54_row0_col6\" class=\"data row0 col6\" ><0.005</td>\n",
       "      <td id=\"T_c4d54_row0_col7\" class=\"data row0 col7\" ><20</td>\n",
       "      <td id=\"T_c4d54_row0_col8\" class=\"data row0 col8\" ><0.0005</td>\n",
       "      <td id=\"T_c4d54_row0_col9\" class=\"data row0 col9\" ><0.0015</td>\n",
       "      <td id=\"T_c4d54_row0_col10\" class=\"data row0 col10\" ><0.02</td>\n",
       "      <td id=\"T_c4d54_row0_col11\" class=\"data row0 col11\" ><0.005</td>\n",
       "    </tr>\n",
       "  </tbody>\n",
       "</table>\n"
      ],
      "text/plain": [
       "<pandas.io.formats.style.Styler at 0x18c7e0eb0>"
      ]
     },
     "metadata": {},
     "output_type": "display_data"
    }
   ],
   "source": [
    "#Definimos las variables numéricas a analizar\n",
    "vars = [\n",
    "        'ALC_mg/L','AS_TOT_mg/L', 'CD_TOT_mg/L', 'FE_TOT_mg/L', 'SDT_M_mg/L',\n",
    "        'SDT_mg/L', 'FLUORUROS_mg/L', 'COLI_FEC_NMP/100_mL', 'CONDUCT_mS/cm', \n",
    "        'CR_TOT_mg/L', 'DUR_mg/L', 'HG_TOT_mg/L', 'MN_TOT_mg/L', 'N_NO3_mg/L', 'PB_TOT_mg/L' ]\n",
    "\n",
    "limits = {}\n",
    "for  var in vars:\n",
    "        if  (df[var].dtypes == 'object'):\n",
    "                #Obtenemos las observaciones que solo tengan < > o =\n",
    "                limits[var] = df[df[var].str.contains('<|>|=', na='na') == True][var].value_counts().index\n",
    "#Lo convertimos en DF para mejor visualización\n",
    "limits_df = pd.DataFrame(limits, index = [0])\n",
    "display(limits_df.style.hide(axis = 'index'))"
   ]
  },
  {
   "cell_type": "markdown",
   "metadata": {},
   "source": [
    "Se observan que 12 variables tienen valores string. Vamos a proceder sustituir estos strings por valores numéricos."
   ]
  },
  {
   "cell_type": "code",
   "execution_count": 952,
   "metadata": {},
   "outputs": [
    {
     "data": {
      "text/html": [
       "<div>\n",
       "<style scoped>\n",
       "    .dataframe tbody tr th:only-of-type {\n",
       "        vertical-align: middle;\n",
       "    }\n",
       "\n",
       "    .dataframe tbody tr th {\n",
       "        vertical-align: top;\n",
       "    }\n",
       "\n",
       "    .dataframe thead th {\n",
       "        text-align: right;\n",
       "    }\n",
       "</style>\n",
       "<table border=\"1\" class=\"dataframe\">\n",
       "  <thead>\n",
       "    <tr style=\"text-align: right;\">\n",
       "      <th></th>\n",
       "      <th>attributes</th>\n",
       "      <th>attr_values</th>\n",
       "    </tr>\n",
       "  </thead>\n",
       "  <tbody>\n",
       "    <tr>\n",
       "      <th>0</th>\n",
       "      <td>AS_TOT_mg/L</td>\n",
       "      <td>0.01</td>\n",
       "    </tr>\n",
       "    <tr>\n",
       "      <th>1</th>\n",
       "      <td>CD_TOT_mg/L</td>\n",
       "      <td>0.003</td>\n",
       "    </tr>\n",
       "    <tr>\n",
       "      <th>2</th>\n",
       "      <td>FE_TOT_mg/L</td>\n",
       "      <td>0.025</td>\n",
       "    </tr>\n",
       "    <tr>\n",
       "      <th>3</th>\n",
       "      <td>SDT_M_mg/L</td>\n",
       "      <td>25</td>\n",
       "    </tr>\n",
       "    <tr>\n",
       "      <th>4</th>\n",
       "      <td>FLUORUROS_mg/L</td>\n",
       "      <td>0.2</td>\n",
       "    </tr>\n",
       "    <tr>\n",
       "      <th>5</th>\n",
       "      <td>COLI_FEC_NMP/100_mL</td>\n",
       "      <td>1.1</td>\n",
       "    </tr>\n",
       "    <tr>\n",
       "      <th>6</th>\n",
       "      <td>CR_TOT_mg/L</td>\n",
       "      <td>0.005</td>\n",
       "    </tr>\n",
       "    <tr>\n",
       "      <th>7</th>\n",
       "      <td>DUR_mg/L</td>\n",
       "      <td>20</td>\n",
       "    </tr>\n",
       "    <tr>\n",
       "      <th>8</th>\n",
       "      <td>HG_TOT_mg/L</td>\n",
       "      <td>0.0005</td>\n",
       "    </tr>\n",
       "    <tr>\n",
       "      <th>9</th>\n",
       "      <td>MN_TOT_mg/L</td>\n",
       "      <td>0.0015</td>\n",
       "    </tr>\n",
       "    <tr>\n",
       "      <th>10</th>\n",
       "      <td>N_NO3_mg/L</td>\n",
       "      <td>0.02</td>\n",
       "    </tr>\n",
       "    <tr>\n",
       "      <th>11</th>\n",
       "      <td>PB_TOT_mg/L</td>\n",
       "      <td>0.005</td>\n",
       "    </tr>\n",
       "  </tbody>\n",
       "</table>\n",
       "</div>"
      ],
      "text/plain": [
       "             attributes attr_values\n",
       "0           AS_TOT_mg/L        0.01\n",
       "1           CD_TOT_mg/L       0.003\n",
       "2           FE_TOT_mg/L       0.025\n",
       "3            SDT_M_mg/L          25\n",
       "4        FLUORUROS_mg/L         0.2\n",
       "5   COLI_FEC_NMP/100_mL         1.1\n",
       "6           CR_TOT_mg/L       0.005\n",
       "7              DUR_mg/L          20\n",
       "8           HG_TOT_mg/L      0.0005\n",
       "9           MN_TOT_mg/L      0.0015\n",
       "10           N_NO3_mg/L        0.02\n",
       "11          PB_TOT_mg/L       0.005"
      ]
     },
     "metadata": {},
     "output_type": "display_data"
    }
   ],
   "source": [
    "#Extraemos las columnas que deben ser convertidas de object a float\n",
    "columns = limits_df.columns\n",
    "\n",
    "#Hacemos un transpose para que la tabla tenga dos columnas, una con los atributos químicos y otra con sus valores\n",
    "limits_df = limits_df.transpose()\n",
    "limits_df = limits_df.reset_index(level = 0)\n",
    "limits_df.rename(columns={'index': 'attributes', 0:'attr_values'}, inplace= True)\n",
    "\n",
    "#Extraemos los valores numéricos, eliminando cualquier string (por ej. '<')\n",
    "limits_df.attr_values = limits_df.attr_values.str.extract('(\\d+\\.\\d+|\\d+)')\n",
    "\n",
    "display(limits_df)\n",
    "   \n",
    "   "
   ]
  },
  {
   "cell_type": "code",
   "execution_count": 953,
   "metadata": {},
   "outputs": [],
   "source": [
    "#Sustituimos los valores string por un valor float arbitrario, que se encuentre por debajo de lo indicado por la columna\n",
    "for col in columns:\n",
    "   val =  (limits_df.loc[limits_df.attributes == col].attr_values.values[0])\n",
    "   str_match = '<'+ val\n",
    "   val = float(val)\n",
    "\n",
    "   df.loc[df[col] == str_match, col] = val -(val/10)\n",
    "   \n",
    "   #Convertimos la columna a tipo float\n",
    "   df[col] = df[col].astype(float)"
   ]
  },
  {
   "cell_type": "code",
   "execution_count": 954,
   "metadata": {},
   "outputs": [
    {
     "data": {
      "text/html": [
       "<div>\n",
       "<style scoped>\n",
       "    .dataframe tbody tr th:only-of-type {\n",
       "        vertical-align: middle;\n",
       "    }\n",
       "\n",
       "    .dataframe tbody tr th {\n",
       "        vertical-align: top;\n",
       "    }\n",
       "\n",
       "    .dataframe thead th {\n",
       "        text-align: right;\n",
       "    }\n",
       "</style>\n",
       "<table border=\"1\" class=\"dataframe\">\n",
       "  <thead>\n",
       "    <tr style=\"text-align: right;\">\n",
       "      <th></th>\n",
       "      <th>FE_TOT_mg/L</th>\n",
       "    </tr>\n",
       "  </thead>\n",
       "  <tbody>\n",
       "    <tr>\n",
       "      <th>425</th>\n",
       "      <td>178.6150</td>\n",
       "    </tr>\n",
       "    <tr>\n",
       "      <th>331</th>\n",
       "      <td>16.4371</td>\n",
       "    </tr>\n",
       "    <tr>\n",
       "      <th>9</th>\n",
       "      <td>14.0600</td>\n",
       "    </tr>\n",
       "    <tr>\n",
       "      <th>799</th>\n",
       "      <td>13.4400</td>\n",
       "    </tr>\n",
       "    <tr>\n",
       "      <th>561</th>\n",
       "      <td>7.3820</td>\n",
       "    </tr>\n",
       "    <tr>\n",
       "      <th>...</th>\n",
       "      <td>...</td>\n",
       "    </tr>\n",
       "    <tr>\n",
       "      <th>675</th>\n",
       "      <td>0.0225</td>\n",
       "    </tr>\n",
       "    <tr>\n",
       "      <th>672</th>\n",
       "      <td>0.0225</td>\n",
       "    </tr>\n",
       "    <tr>\n",
       "      <th>671</th>\n",
       "      <td>0.0225</td>\n",
       "    </tr>\n",
       "    <tr>\n",
       "      <th>670</th>\n",
       "      <td>0.0225</td>\n",
       "    </tr>\n",
       "    <tr>\n",
       "      <th>1067</th>\n",
       "      <td>0.0225</td>\n",
       "    </tr>\n",
       "  </tbody>\n",
       "</table>\n",
       "<p>1068 rows × 1 columns</p>\n",
       "</div>"
      ],
      "text/plain": [
       "      FE_TOT_mg/L\n",
       "425      178.6150\n",
       "331       16.4371\n",
       "9         14.0600\n",
       "799       13.4400\n",
       "561        7.3820\n",
       "...           ...\n",
       "675        0.0225\n",
       "672        0.0225\n",
       "671        0.0225\n",
       "670        0.0225\n",
       "1067       0.0225\n",
       "\n",
       "[1068 rows x 1 columns]"
      ]
     },
     "execution_count": 954,
     "metadata": {},
     "output_type": "execute_result"
    }
   ],
   "source": [
    "#Probamos la conversión con una de las columnas\n",
    "df[['FE_TOT_mg/L']].sort_values(by = 'FE_TOT_mg/L', ascending = False)"
   ]
  },
  {
   "cell_type": "code",
   "execution_count": 955,
   "metadata": {},
   "outputs": [
    {
     "data": {
      "text/html": [
       "<div>\n",
       "<style scoped>\n",
       "    .dataframe tbody tr th:only-of-type {\n",
       "        vertical-align: middle;\n",
       "    }\n",
       "\n",
       "    .dataframe tbody tr th {\n",
       "        vertical-align: top;\n",
       "    }\n",
       "\n",
       "    .dataframe thead th {\n",
       "        text-align: right;\n",
       "    }\n",
       "</style>\n",
       "<table border=\"1\" class=\"dataframe\">\n",
       "  <thead>\n",
       "    <tr style=\"text-align: right;\">\n",
       "      <th></th>\n",
       "      <th>attributes</th>\n",
       "      <th>unique_vals</th>\n",
       "    </tr>\n",
       "  </thead>\n",
       "  <tbody>\n",
       "    <tr>\n",
       "      <th>0</th>\n",
       "      <td>ALC_mg/L</td>\n",
       "      <td>817</td>\n",
       "    </tr>\n",
       "    <tr>\n",
       "      <th>1</th>\n",
       "      <td>AS_TOT_mg/L</td>\n",
       "      <td>209</td>\n",
       "    </tr>\n",
       "    <tr>\n",
       "      <th>2</th>\n",
       "      <td>CD_TOT_mg/L</td>\n",
       "      <td>3</td>\n",
       "    </tr>\n",
       "    <tr>\n",
       "      <th>3</th>\n",
       "      <td>FE_TOT_mg/L</td>\n",
       "      <td>615</td>\n",
       "    </tr>\n",
       "    <tr>\n",
       "      <th>4</th>\n",
       "      <td>SDT_M_mg/L</td>\n",
       "      <td>926</td>\n",
       "    </tr>\n",
       "    <tr>\n",
       "      <th>5</th>\n",
       "      <td>SDT_mg/L</td>\n",
       "      <td>1</td>\n",
       "    </tr>\n",
       "    <tr>\n",
       "      <th>6</th>\n",
       "      <td>FLUORUROS_mg/L</td>\n",
       "      <td>862</td>\n",
       "    </tr>\n",
       "    <tr>\n",
       "      <th>7</th>\n",
       "      <td>COLI_FEC_NMP/100_mL</td>\n",
       "      <td>125</td>\n",
       "    </tr>\n",
       "    <tr>\n",
       "      <th>8</th>\n",
       "      <td>CONDUCT_mS/cm</td>\n",
       "      <td>802</td>\n",
       "    </tr>\n",
       "    <tr>\n",
       "      <th>9</th>\n",
       "      <td>CR_TOT_mg/L</td>\n",
       "      <td>168</td>\n",
       "    </tr>\n",
       "    <tr>\n",
       "      <th>10</th>\n",
       "      <td>DUR_mg/L</td>\n",
       "      <td>890</td>\n",
       "    </tr>\n",
       "    <tr>\n",
       "      <th>11</th>\n",
       "      <td>HG_TOT_mg/L</td>\n",
       "      <td>61</td>\n",
       "    </tr>\n",
       "    <tr>\n",
       "      <th>12</th>\n",
       "      <td>MN_TOT_mg/L</td>\n",
       "      <td>362</td>\n",
       "    </tr>\n",
       "    <tr>\n",
       "      <th>13</th>\n",
       "      <td>N_NO3_mg/L</td>\n",
       "      <td>996</td>\n",
       "    </tr>\n",
       "    <tr>\n",
       "      <th>14</th>\n",
       "      <td>PB_TOT_mg/L</td>\n",
       "      <td>31</td>\n",
       "    </tr>\n",
       "  </tbody>\n",
       "</table>\n",
       "</div>"
      ],
      "text/plain": [
       "             attributes  unique_vals\n",
       "0              ALC_mg/L          817\n",
       "1           AS_TOT_mg/L          209\n",
       "2           CD_TOT_mg/L            3\n",
       "3           FE_TOT_mg/L          615\n",
       "4            SDT_M_mg/L          926\n",
       "5              SDT_mg/L            1\n",
       "6        FLUORUROS_mg/L          862\n",
       "7   COLI_FEC_NMP/100_mL          125\n",
       "8         CONDUCT_mS/cm          802\n",
       "9           CR_TOT_mg/L          168\n",
       "10             DUR_mg/L          890\n",
       "11          HG_TOT_mg/L           61\n",
       "12          MN_TOT_mg/L          362\n",
       "13           N_NO3_mg/L          996\n",
       "14          PB_TOT_mg/L           31"
      ]
     },
     "execution_count": 955,
     "metadata": {},
     "output_type": "execute_result"
    }
   ],
   "source": [
    "uniques = {'attributes': [], 'unique_vals': []}\n",
    "for col in vars:\n",
    "    uniques['attributes'].append(col) \n",
    "    uniques['unique_vals'].append(df[col].unique().size)\n",
    "    \n",
    "pd.DataFrame(uniques)"
   ]
  },
  {
   "cell_type": "markdown",
   "metadata": {},
   "source": [
    "De la tabla anterior, el atributo Solidos Disueltos Totales (SDT_mg/L) está completamente vacío y por eso aparece que tiene solo un valor único. En el caso de Cadmio (CD_TOT), este tiene apenas 3 valores únicos. Revisemos cuáles son estos valores."
   ]
  },
  {
   "cell_type": "code",
   "execution_count": 956,
   "metadata": {},
   "outputs": [
    {
     "data": {
      "text/plain": [
       "0.00270    1066\n",
       "0.00560       1\n",
       "0.03211       1\n",
       "Name: CD_TOT_mg/L, dtype: int64"
      ]
     },
     "execution_count": 956,
     "metadata": {},
     "output_type": "execute_result"
    }
   ],
   "source": [
    "df['CD_TOT_mg/L'].value_counts()"
   ]
  },
  {
   "cell_type": "markdown",
   "metadata": {},
   "source": [
    "De lo anterior se puede apreciar que casi el 100% de las observaciones caen dentro del rango aceptable (<0.003), mientras que los otros dos valores no cumplen con el parámetro requerido (>0.005). Esto significa que podríamos perfectamente usar la variable binaria correspondiente a este atributo, ya que la información proporcionada es exactamente la misma.\n",
    "\n",
    "La columna de Solidos Totales Disueltos se encuentra vacía y por eso aparece con un solo valor único, sin embargo, esta tiene una relación directa con la conductividad del agua, donde puede ser calculada con la siguiente fórmula (https://iwaponline.com/wst/article/77/8/1998/38602/Relationship-between-total-dissolved-solids-and):\n",
    "\n",
    "TDS (mg/L) = Ke x EC(uS/cm)\n",
    "\n",
    "donde Ke es un factor que normalmente varía entre 0.55 a 0.85 y EC es la conductividad del agua.\n",
    "\n",
    "Como la relación de los sólidos totales disueltos es directamente proporcional a la conductividad del agua, esta variable puede ser eliminada para fines de entrenar el modelo, ya que estaría altamente correlacionada con la conductividad, y por ende proporcionar la misma información para el modelo.\n",
    "\n",
    "\n",
    "A continuación eliminamos dos de las variables numéricas que no usaremos."
   ]
  },
  {
   "cell_type": "code",
   "execution_count": 958,
   "metadata": {},
   "outputs": [],
   "source": [
    "#Eliminar Solidos totales disueltos y Cadmio (esta última usaremos mejor la binaria)"
   ]
  },
  {
   "cell_type": "markdown",
   "metadata": {},
   "source": [
    "Ahora revisemos la correlación entre cada una de las variables del conjunto de datos."
   ]
  },
  {
   "cell_type": "code",
   "execution_count": 959,
   "metadata": {},
   "outputs": [
    {
     "data": {
      "text/plain": [
       "<AxesSubplot: >"
      ]
     },
     "execution_count": 959,
     "metadata": {},
     "output_type": "execute_result"
    },
    {
     "data": {
      "image/png": "[encoded data removed]",
      "text/plain": [
       "<Figure size 1000x1000 with 2 Axes>"
      ]
     },
     "metadata": {},
     "output_type": "display_data"
    }
   ],
   "source": [
    "cmap = LinearSegmentedColormap.from_list(\n",
    "    name='test', \n",
    "    colors=['red','white','red'])\n",
    "plt.figure(figsize=(10,10))\n",
    "sns.heatmap(np.round(df[vars].corr(), 2), annot=True, cmap = cmap, vmin = -1.0, vmax = 1.0)"
   ]
  },
  {
   "cell_type": "markdown",
   "metadata": {},
   "source": [
    "De la tabla anterior se destacan 5 variables que tienen una correlación fuerte:\n",
    "\n",
    "* Mercurio (HG)\n",
    "* Manganeso (MN)\n",
    "* Hierro (FE)\n",
    "* Conductividad (CONDUCT)\n",
    "* Dureza (DUR)\n",
    "\n",
    "Ahora revisemos cuáles de estas variables tienen campos vacíos"
   ]
  },
  {
   "cell_type": "code",
   "execution_count": 960,
   "metadata": {},
   "outputs": [
    {
     "data": {
      "text/plain": [
       "HG_TOT_mg/L      False\n",
       "MN_TOT_mg/L      False\n",
       "FE_TOT_mg/L      False\n",
       "CONDUCT_mS/cm     True\n",
       "DUR_mg/L          True\n",
       "dtype: bool"
      ]
     },
     "execution_count": 960,
     "metadata": {},
     "output_type": "execute_result"
    }
   ],
   "source": [
    "df[['HG_TOT_mg/L', 'MN_TOT_mg/L', 'FE_TOT_mg/L', 'CONDUCT_mS/cm', 'DUR_mg/L']].isna().any()"
   ]
  },
  {
   "cell_type": "code",
   "execution_count": 961,
   "metadata": {},
   "outputs": [
    {
     "data": {
      "text/html": [
       "<div>\n",
       "<style scoped>\n",
       "    .dataframe tbody tr th:only-of-type {\n",
       "        vertical-align: middle;\n",
       "    }\n",
       "\n",
       "    .dataframe tbody tr th {\n",
       "        vertical-align: top;\n",
       "    }\n",
       "\n",
       "    .dataframe thead th {\n",
       "        text-align: right;\n",
       "    }\n",
       "</style>\n",
       "<table border=\"1\" class=\"dataframe\">\n",
       "  <thead>\n",
       "    <tr style=\"text-align: right;\">\n",
       "      <th></th>\n",
       "      <th>DUR_mg/L</th>\n",
       "      <th>CUMPLE_CON_DUR</th>\n",
       "      <th>CUMPLE_CON_COND</th>\n",
       "    </tr>\n",
       "  </thead>\n",
       "  <tbody>\n",
       "    <tr>\n",
       "      <th>18</th>\n",
       "      <td>57.6926</td>\n",
       "      <td>SI</td>\n",
       "      <td>ND</td>\n",
       "    </tr>\n",
       "    <tr>\n",
       "      <th>281</th>\n",
       "      <td>45.5170</td>\n",
       "      <td>SI</td>\n",
       "      <td>ND</td>\n",
       "    </tr>\n",
       "    <tr>\n",
       "      <th>293</th>\n",
       "      <td>41.5632</td>\n",
       "      <td>SI</td>\n",
       "      <td>ND</td>\n",
       "    </tr>\n",
       "    <tr>\n",
       "      <th>616</th>\n",
       "      <td>593.7000</td>\n",
       "      <td>NO</td>\n",
       "      <td>ND</td>\n",
       "    </tr>\n",
       "    <tr>\n",
       "      <th>891</th>\n",
       "      <td>383.3319</td>\n",
       "      <td>SI</td>\n",
       "      <td>ND</td>\n",
       "    </tr>\n",
       "    <tr>\n",
       "      <th>906</th>\n",
       "      <td>293.0001</td>\n",
       "      <td>SI</td>\n",
       "      <td>ND</td>\n",
       "    </tr>\n",
       "  </tbody>\n",
       "</table>\n",
       "</div>"
      ],
      "text/plain": [
       "     DUR_mg/L CUMPLE_CON_DUR CUMPLE_CON_COND\n",
       "18    57.6926             SI              ND\n",
       "281   45.5170             SI              ND\n",
       "293   41.5632             SI              ND\n",
       "616  593.7000             NO              ND\n",
       "891  383.3319             SI              ND\n",
       "906  293.0001             SI              ND"
      ]
     },
     "execution_count": 961,
     "metadata": {},
     "output_type": "execute_result"
    }
   ],
   "source": [
    "df[df['CONDUCT_mS/cm'].isna()][['DUR_mg/L', 'CUMPLE_CON_DUR', 'CUMPLE_CON_COND']]"
   ]
  },
  {
   "cell_type": "code",
   "execution_count": 978,
   "metadata": {},
   "outputs": [
    {
     "data": {
      "text/html": [
       "<div>\n",
       "<style scoped>\n",
       "    .dataframe tbody tr th:only-of-type {\n",
       "        vertical-align: middle;\n",
       "    }\n",
       "\n",
       "    .dataframe tbody tr th {\n",
       "        vertical-align: top;\n",
       "    }\n",
       "\n",
       "    .dataframe thead th {\n",
       "        text-align: right;\n",
       "    }\n",
       "</style>\n",
       "<table border=\"1\" class=\"dataframe\">\n",
       "  <thead>\n",
       "    <tr style=\"text-align: right;\">\n",
       "      <th></th>\n",
       "      <th>CONDUCT_mS/cm</th>\n",
       "    </tr>\n",
       "  </thead>\n",
       "  <tbody>\n",
       "    <tr>\n",
       "      <th>635</th>\n",
       "      <td>736.0</td>\n",
       "    </tr>\n",
       "  </tbody>\n",
       "</table>\n",
       "</div>"
      ],
      "text/plain": [
       "     CONDUCT_mS/cm\n",
       "635          736.0"
      ]
     },
     "execution_count": 978,
     "metadata": {},
     "output_type": "execute_result"
    }
   ],
   "source": [
    "df[df['DUR_mg/L'].isna()][['CONDUCT_mS/cm', ]]"
   ]
  },
  {
   "cell_type": "markdown",
   "metadata": {},
   "source": [
    "De lo anterior se visualiza que las variables CONDUCT y DUR tienen campos vacíos, mientras que las demás no. Como su correlación es de cerca 0.7, podríamos utilizar la información de una columna para completar la otra. Pero primero, revisemos que porcentaje de las observaciones coinciden en cumplimiento con los atributos de conductividad y dureza."
   ]
  },
  {
   "cell_type": "code",
   "execution_count": 962,
   "metadata": {},
   "outputs": [
    {
     "data": {
      "text/plain": [
       "0.849250936329588"
      ]
     },
     "execution_count": 962,
     "metadata": {},
     "output_type": "execute_result"
    }
   ],
   "source": [
    "#Al existir una alta correlación entre conductividad y dureza, las columnas de cumplimiento coinciden en casi el 85% de las veces. Se podría imputar una de estas columna con el valor correspondiente de la otra\n",
    "len(df[df['CUMPLE_CON_COND'] == df['CUMPLE_CON_DUR']])/len(df)"
   ]
  },
  {
   "cell_type": "code",
   "execution_count": null,
   "metadata": {},
   "outputs": [],
   "source": []
  },
  {
   "cell_type": "code",
   "execution_count": 963,
   "metadata": {},
   "outputs": [
    {
     "data": {
      "text/plain": [
       "<AxesSubplot: >"
      ]
     },
     "execution_count": 963,
     "metadata": {},
     "output_type": "execute_result"
    },
    {
     "data": {
      "image/png": "[encoded data removed]",
      "text/plain": [
       "<Figure size 640x480 with 1 Axes>"
      ]
     },
     "metadata": {},
     "output_type": "display_data"
    }
   ],
   "source": [
    "df[['FE_TOT_mg/L']].boxplot()"
   ]
  },
  {
   "cell_type": "code",
   "execution_count": 964,
   "metadata": {},
   "outputs": [
    {
     "data": {
      "text/plain": [
       "<AxesSubplot: >"
      ]
     },
     "execution_count": 964,
     "metadata": {},
     "output_type": "execute_result"
    },
    {
     "data": {
      "image/png": "[encoded data removed]",
      "text/plain": [
       "<Figure size 640x480 with 1 Axes>"
      ]
     },
     "metadata": {},
     "output_type": "display_data"
    }
   ],
   "source": [
    "df_test = df.drop(index = df[df['FE_TOT_mg/L'] > 0.5].index)\n",
    "df_test[['FE_TOT_mg/L']].boxplot()"
   ]
  },
  {
   "cell_type": "code",
   "execution_count": 965,
   "metadata": {},
   "outputs": [
    {
     "data": {
      "text/plain": [
       "Series([], dtype: int64)"
      ]
     },
     "execution_count": 965,
     "metadata": {},
     "output_type": "execute_result"
    }
   ],
   "source": [
    "df[['SDT_mg/L']].value_counts()"
   ]
  },
  {
   "cell_type": "code",
   "execution_count": 966,
   "metadata": {},
   "outputs": [
    {
     "data": {
      "text/plain": [
       "SDT_M_mg/L\n",
       "292.0         4\n",
       "320.0         4\n",
       "380.0         4\n",
       "496.0         4\n",
       "317.0         4\n",
       "             ..\n",
       "444.0         1\n",
       "445.4         1\n",
       "446.0         1\n",
       "449.0         1\n",
       "82170.0       1\n",
       "Length: 925, dtype: int64"
      ]
     },
     "execution_count": 966,
     "metadata": {},
     "output_type": "execute_result"
    }
   ],
   "source": [
    "df[['SDT_M_mg/L']].value_counts()"
   ]
  },
  {
   "cell_type": "code",
   "execution_count": 967,
   "metadata": {},
   "outputs": [
    {
     "data": {
      "text/plain": [
       "ALC_mg/L\n",
       "157.62      5\n",
       "257.85      4\n",
       "168.72      4\n",
       "197.58      4\n",
       "161.00      4\n",
       "           ..\n",
       "189.72      1\n",
       "189.81      1\n",
       "190.05      1\n",
       "190.06      1\n",
       "1650.00     1\n",
       "Length: 816, dtype: int64"
      ]
     },
     "execution_count": 967,
     "metadata": {},
     "output_type": "execute_result"
    }
   ],
   "source": [
    "df[['ALC_mg/L']].value_counts()"
   ]
  },
  {
   "cell_type": "code",
   "execution_count": 968,
   "metadata": {},
   "outputs": [
    {
     "data": {
      "text/plain": [
       "<AxesSubplot: >"
      ]
     },
     "execution_count": 968,
     "metadata": {},
     "output_type": "execute_result"
    },
    {
     "data": {
      "image/png": "[encoded data removed]",
      "text/plain": [
       "<Figure size 640x480 with 1 Axes>"
      ]
     },
     "metadata": {},
     "output_type": "display_data"
    }
   ],
   "source": [
    "df[['ALC_mg/L']].boxplot()"
   ]
  },
  {
   "cell_type": "code",
   "execution_count": 969,
   "metadata": {},
   "outputs": [
    {
     "data": {
      "text/plain": [
       "FLUORUROS_mg/L\n",
       "0.1800            162\n",
       "0.4660              3\n",
       "0.5202              3\n",
       "0.5900              2\n",
       "0.5620              2\n",
       "                 ... \n",
       "0.4523              1\n",
       "0.4542              1\n",
       "0.4570              1\n",
       "0.4592              1\n",
       "34.8033             1\n",
       "Length: 862, dtype: int64"
      ]
     },
     "execution_count": 969,
     "metadata": {},
     "output_type": "execute_result"
    }
   ],
   "source": [
    "df[['FLUORUROS_mg/L']].value_counts()"
   ]
  },
  {
   "cell_type": "code",
   "execution_count": 970,
   "metadata": {},
   "outputs": [
    {
     "data": {
      "text/plain": [
       "SI    932\n",
       "NO    136\n",
       "Name: CUMPLE_CON_FE, dtype: int64"
      ]
     },
     "execution_count": 970,
     "metadata": {},
     "output_type": "execute_result"
    }
   ],
   "source": [
    "df['CUMPLE_CON_FE'].value_counts()"
   ]
  },
  {
   "cell_type": "code",
   "execution_count": 971,
   "metadata": {},
   "outputs": [
    {
     "data": {
      "text/html": [
       "<div>\n",
       "<style scoped>\n",
       "    .dataframe tbody tr th:only-of-type {\n",
       "        vertical-align: middle;\n",
       "    }\n",
       "\n",
       "    .dataframe tbody tr th {\n",
       "        vertical-align: top;\n",
       "    }\n",
       "\n",
       "    .dataframe thead th {\n",
       "        text-align: right;\n",
       "    }\n",
       "</style>\n",
       "<table border=\"1\" class=\"dataframe\">\n",
       "  <thead>\n",
       "    <tr style=\"text-align: right;\">\n",
       "      <th></th>\n",
       "      <th>SEMAFORO</th>\n",
       "    </tr>\n",
       "  </thead>\n",
       "  <tbody>\n",
       "    <tr>\n",
       "      <th>0</th>\n",
       "      <td>Verde</td>\n",
       "    </tr>\n",
       "    <tr>\n",
       "      <th>1</th>\n",
       "      <td>Verde</td>\n",
       "    </tr>\n",
       "    <tr>\n",
       "      <th>2</th>\n",
       "      <td>Rojo</td>\n",
       "    </tr>\n",
       "    <tr>\n",
       "      <th>3</th>\n",
       "      <td>Verde</td>\n",
       "    </tr>\n",
       "    <tr>\n",
       "      <th>4</th>\n",
       "      <td>Rojo</td>\n",
       "    </tr>\n",
       "  </tbody>\n",
       "</table>\n",
       "</div>"
      ],
      "text/plain": [
       "  SEMAFORO\n",
       "0    Verde\n",
       "1    Verde\n",
       "2     Rojo\n",
       "3    Verde\n",
       "4     Rojo"
      ]
     },
     "execution_count": 971,
     "metadata": {},
     "output_type": "execute_result"
    }
   ],
   "source": [
    "y = df[['SEMAFORO']]\n",
    "y.head()"
   ]
  },
  {
   "cell_type": "code",
   "execution_count": 972,
   "metadata": {},
   "outputs": [
    {
     "data": {
      "text/plain": [
       "SEMAFORO\n",
       "Verde       40.636704\n",
       "Rojo        36.235955\n",
       "Amarillo    23.127341\n",
       "dtype: float64"
      ]
     },
     "execution_count": 972,
     "metadata": {},
     "output_type": "execute_result"
    }
   ],
   "source": [
    "(y.value_counts()/len(y)) * 100"
   ]
  },
  {
   "cell_type": "code",
   "execution_count": 973,
   "metadata": {},
   "outputs": [],
   "source": [
    "columns_to_drop = df.columns[10:41].to_list()\n",
    "columns_to_drop.append('CONTAMINANTES')\n",
    "X = df.drop(columns_to_drop, axis = 1)"
   ]
  },
  {
   "cell_type": "code",
   "execution_count": 974,
   "metadata": {},
   "outputs": [
    {
     "data": {
      "text/plain": [
       "13"
      ]
     },
     "execution_count": 974,
     "metadata": {},
     "output_type": "execute_result"
    }
   ],
   "source": [
    "df.isna().any().sum()"
   ]
  },
  {
   "cell_type": "code",
   "execution_count": 975,
   "metadata": {},
   "outputs": [
    {
     "data": {
      "text/plain": [
       "CLAVE                      0\n",
       "SITIO                      0\n",
       "ORGANISMO_DE_CUENCA        0\n",
       "ESTADO                     0\n",
       "MUNICIPIO                  0\n",
       "ACUIFERO                   0\n",
       "SUBTIPO                    0\n",
       "LONGITUD                   0\n",
       "LATITUD                    0\n",
       "PERIODO                    0\n",
       "ALC_mg/L                   4\n",
       "CALIDAD_ALC                4\n",
       "CONDUCT_mS/cm              6\n",
       "CALIDAD_CONDUC             6\n",
       "SDT_mg/L                1068\n",
       "SDT_M_mg/L                 2\n",
       "CALIDAD_SDT_ra             2\n",
       "CALIDAD_SDT_salin          2\n",
       "FLUORUROS_mg/L             0\n",
       "CALIDAD_FLUO               0\n",
       "DUR_mg/L                   1\n",
       "CALIDAD_DUR                1\n",
       "COLI_FEC_NMP/100_mL        0\n",
       "CALIDAD_COLI_FEC           0\n",
       "N_NO3_mg/L                 1\n",
       "CALIDAD_N_NO3              1\n",
       "AS_TOT_mg/L                0\n",
       "CALIDAD_AS                 0\n",
       "CD_TOT_mg/L                0\n",
       "CALIDAD_CD                 0\n",
       "CR_TOT_mg/L                0\n",
       "CALIDAD_CR                 0\n",
       "HG_TOT_mg/L                0\n",
       "CALIDAD_HG                 0\n",
       "PB_TOT_mg/L                0\n",
       "CALIDAD_PB                 0\n",
       "MN_TOT_mg/L                0\n",
       "CALIDAD_MN                 0\n",
       "FE_TOT_mg/L                0\n",
       "CALIDAD_FE                 0\n",
       "SEMAFORO                   0\n",
       "CONTAMINANTES            434\n",
       "CUMPLE_CON_ALC             0\n",
       "CUMPLE_CON_COND            0\n",
       "CUMPLE_CON_SDT_ra          0\n",
       "CUMPLE_CON_SDT_salin       0\n",
       "CUMPLE_CON_FLUO            0\n",
       "CUMPLE_CON_DUR             0\n",
       "CUMPLE_CON_CF              0\n",
       "CUMPLE_CON_NO3             0\n",
       "CUMPLE_CON_AS              0\n",
       "CUMPLE_CON_CD              0\n",
       "CUMPLE_CON_CR              0\n",
       "CUMPLE_CON_HG              0\n",
       "CUMPLE_CON_PB              0\n",
       "CUMPLE_CON_MN              0\n",
       "CUMPLE_CON_FE              0\n",
       "dtype: int64"
      ]
     },
     "execution_count": 975,
     "metadata": {},
     "output_type": "execute_result"
    }
   ],
   "source": [
    "df.isna().sum()"
   ]
  },
  {
   "cell_type": "code",
   "execution_count": 976,
   "metadata": {},
   "outputs": [],
   "source": [
    "na_columns = df.columns[df.isna().any()].to_list()"
   ]
  },
  {
   "cell_type": "code",
   "execution_count": 977,
   "metadata": {},
   "outputs": [
    {
     "data": {
      "text/plain": [
       "ALC_mg/L                4\n",
       "CALIDAD_ALC             4\n",
       "CONDUCT_mS/cm           6\n",
       "CALIDAD_CONDUC          6\n",
       "SDT_mg/L             1068\n",
       "SDT_M_mg/L              2\n",
       "CALIDAD_SDT_ra          2\n",
       "CALIDAD_SDT_salin       2\n",
       "DUR_mg/L                1\n",
       "CALIDAD_DUR             1\n",
       "N_NO3_mg/L              1\n",
       "CALIDAD_N_NO3           1\n",
       "CONTAMINANTES         434\n",
       "dtype: int64"
      ]
     },
     "execution_count": 977,
     "metadata": {},
     "output_type": "execute_result"
    }
   ],
   "source": [
    "df[na_columns].isna().sum()"
   ]
  },
  {
   "cell_type": "code",
   "execution_count": null,
   "metadata": {},
   "outputs": [],
   "source": []
  }
 ],
 "metadata": {
  "kernelspec": {
   "display_name": "Python 3.10.6 ('py310')",
   "language": "python",
   "name": "python3"
  },
  "language_info": {
   "codemirror_mode": {
    "name": "ipython",
    "version": 3
   },
   "file_extension": ".py",
   "mimetype": "text/x-python",
   "name": "python",
   "nbconvert_exporter": "python",
   "pygments_lexer": "ipython3",
   "version": "3.10.6"
  },
  "orig_nbformat": 4,
  "vscode": {
   "interpreter": {
    "hash": "81ff2fe0ae35ce5251883a350ac079b6c4bd568891be8057f18956a37bbe1b9c"
   }
  }
 },
 "nbformat": 4,
 "nbformat_minor": 2
}
