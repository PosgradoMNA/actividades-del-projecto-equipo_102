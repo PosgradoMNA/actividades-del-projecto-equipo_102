{
 "cells": [
  {
   "cell_type": "code",
   "execution_count": 1,
   "metadata": {},
   "outputs": [],
   "source": [
    "import pandas as pd\n",
    "import numpy as np\n",
    "from sklearn.base import BaseEstimator, TransformerMixin\n",
    "from sklearn.impute import SimpleImputer\n",
    "from sklearn.compose import ColumnTransformer\n",
    "from sklearn.preprocessing import OneHotEncoder, LabelEncoder\n",
    "from sklearn.pipeline import Pipeline\n",
    "from sklearn.metrics import classification_report\n",
    "from sklearn.metrics import confusion_matrix"
   ]
  },
  {
   "cell_type": "code",
   "execution_count": 2,
   "metadata": {},
   "outputs": [
    {
     "data": {
      "text/html": [
       "<div>\n",
       "<style scoped>\n",
       "    .dataframe tbody tr th:only-of-type {\n",
       "        vertical-align: middle;\n",
       "    }\n",
       "\n",
       "    .dataframe tbody tr th {\n",
       "        vertical-align: top;\n",
       "    }\n",
       "\n",
       "    .dataframe thead th {\n",
       "        text-align: right;\n",
       "    }\n",
       "</style>\n",
       "<table border=\"1\" class=\"dataframe\">\n",
       "  <thead>\n",
       "    <tr style=\"text-align: right;\">\n",
       "      <th></th>\n",
       "      <th>CLAVE</th>\n",
       "      <th>SITIO</th>\n",
       "      <th>ORGANISMO_DE_CUENCA</th>\n",
       "      <th>ESTADO</th>\n",
       "      <th>MUNICIPIO</th>\n",
       "      <th>ACUIFERO</th>\n",
       "      <th>SUBTIPO</th>\n",
       "      <th>LONGITUD</th>\n",
       "      <th>LATITUD</th>\n",
       "      <th>PERIODO</th>\n",
       "      <th>...</th>\n",
       "      <th>CUMPLE_CON_DUR</th>\n",
       "      <th>CUMPLE_CON_CF</th>\n",
       "      <th>CUMPLE_CON_NO3</th>\n",
       "      <th>CUMPLE_CON_AS</th>\n",
       "      <th>CUMPLE_CON_CD</th>\n",
       "      <th>CUMPLE_CON_CR</th>\n",
       "      <th>CUMPLE_CON_HG</th>\n",
       "      <th>CUMPLE_CON_PB</th>\n",
       "      <th>CUMPLE_CON_MN</th>\n",
       "      <th>CUMPLE_CON_FE</th>\n",
       "    </tr>\n",
       "  </thead>\n",
       "  <tbody>\n",
       "    <tr>\n",
       "      <th>0</th>\n",
       "      <td>DLAGU6</td>\n",
       "      <td>POZO SAN GIL</td>\n",
       "      <td>LERMA SANTIAGO PACIFICO</td>\n",
       "      <td>AGUASCALIENTES</td>\n",
       "      <td>ASIENTOS</td>\n",
       "      <td>VALLE DE CHICALOTE</td>\n",
       "      <td>POZO</td>\n",
       "      <td>-102.02210</td>\n",
       "      <td>22.20887</td>\n",
       "      <td>2020</td>\n",
       "      <td>...</td>\n",
       "      <td>SI</td>\n",
       "      <td>SI</td>\n",
       "      <td>SI</td>\n",
       "      <td>SI</td>\n",
       "      <td>SI</td>\n",
       "      <td>SI</td>\n",
       "      <td>SI</td>\n",
       "      <td>SI</td>\n",
       "      <td>SI</td>\n",
       "      <td>SI</td>\n",
       "    </tr>\n",
       "    <tr>\n",
       "      <th>1</th>\n",
       "      <td>DLAGU6516</td>\n",
       "      <td>POZO R013 CA�ADA HONDA</td>\n",
       "      <td>LERMA SANTIAGO PACIFICO</td>\n",
       "      <td>AGUASCALIENTES</td>\n",
       "      <td>AGUASCALIENTES</td>\n",
       "      <td>VALLE DE CHICALOTE</td>\n",
       "      <td>POZO</td>\n",
       "      <td>-102.20075</td>\n",
       "      <td>21.99958</td>\n",
       "      <td>2020</td>\n",
       "      <td>...</td>\n",
       "      <td>SI</td>\n",
       "      <td>SI</td>\n",
       "      <td>SI</td>\n",
       "      <td>SI</td>\n",
       "      <td>SI</td>\n",
       "      <td>SI</td>\n",
       "      <td>SI</td>\n",
       "      <td>SI</td>\n",
       "      <td>SI</td>\n",
       "      <td>SI</td>\n",
       "    </tr>\n",
       "    <tr>\n",
       "      <th>2</th>\n",
       "      <td>DLAGU7</td>\n",
       "      <td>POZO COSIO</td>\n",
       "      <td>LERMA SANTIAGO PACIFICO</td>\n",
       "      <td>AGUASCALIENTES</td>\n",
       "      <td>COSIO</td>\n",
       "      <td>VALLE DE AGUASCALIENTES</td>\n",
       "      <td>POZO</td>\n",
       "      <td>-102.28801</td>\n",
       "      <td>22.36685</td>\n",
       "      <td>2020</td>\n",
       "      <td>...</td>\n",
       "      <td>SI</td>\n",
       "      <td>SI</td>\n",
       "      <td>SI</td>\n",
       "      <td>NO</td>\n",
       "      <td>SI</td>\n",
       "      <td>SI</td>\n",
       "      <td>SI</td>\n",
       "      <td>SI</td>\n",
       "      <td>SI</td>\n",
       "      <td>SI</td>\n",
       "    </tr>\n",
       "    <tr>\n",
       "      <th>3</th>\n",
       "      <td>DLAGU9</td>\n",
       "      <td>POZO EL SALITRILLO</td>\n",
       "      <td>LERMA SANTIAGO PACIFICO</td>\n",
       "      <td>AGUASCALIENTES</td>\n",
       "      <td>RINCON DE ROMOS</td>\n",
       "      <td>VALLE DE AGUASCALIENTES</td>\n",
       "      <td>POZO</td>\n",
       "      <td>-102.29449</td>\n",
       "      <td>22.18435</td>\n",
       "      <td>2020</td>\n",
       "      <td>...</td>\n",
       "      <td>SI</td>\n",
       "      <td>SI</td>\n",
       "      <td>SI</td>\n",
       "      <td>SI</td>\n",
       "      <td>SI</td>\n",
       "      <td>SI</td>\n",
       "      <td>SI</td>\n",
       "      <td>SI</td>\n",
       "      <td>SI</td>\n",
       "      <td>SI</td>\n",
       "    </tr>\n",
       "    <tr>\n",
       "      <th>4</th>\n",
       "      <td>DLBAJ107</td>\n",
       "      <td>RANCHO EL TECOLOTE</td>\n",
       "      <td>PENINSULA DE BAJA CALIFORNIA</td>\n",
       "      <td>BAJA CALIFORNIA SUR</td>\n",
       "      <td>LA PAZ</td>\n",
       "      <td>TODOS SANTOS</td>\n",
       "      <td>POZO</td>\n",
       "      <td>-110.24480</td>\n",
       "      <td>23.45138</td>\n",
       "      <td>2020</td>\n",
       "      <td>...</td>\n",
       "      <td>SI</td>\n",
       "      <td>SI</td>\n",
       "      <td>NO</td>\n",
       "      <td>SI</td>\n",
       "      <td>SI</td>\n",
       "      <td>SI</td>\n",
       "      <td>SI</td>\n",
       "      <td>SI</td>\n",
       "      <td>SI</td>\n",
       "      <td>SI</td>\n",
       "    </tr>\n",
       "  </tbody>\n",
       "</table>\n",
       "<p>5 rows × 57 columns</p>\n",
       "</div>"
      ],
      "text/plain": [
       "       CLAVE                   SITIO           ORGANISMO_DE_CUENCA  \\\n",
       "0     DLAGU6            POZO SAN GIL       LERMA SANTIAGO PACIFICO   \n",
       "1  DLAGU6516  POZO R013 CA�ADA HONDA       LERMA SANTIAGO PACIFICO   \n",
       "2     DLAGU7              POZO COSIO       LERMA SANTIAGO PACIFICO   \n",
       "3     DLAGU9      POZO EL SALITRILLO       LERMA SANTIAGO PACIFICO   \n",
       "4   DLBAJ107      RANCHO EL TECOLOTE  PENINSULA DE BAJA CALIFORNIA   \n",
       "\n",
       "                ESTADO        MUNICIPIO                 ACUIFERO SUBTIPO  \\\n",
       "0       AGUASCALIENTES         ASIENTOS       VALLE DE CHICALOTE    POZO   \n",
       "1       AGUASCALIENTES   AGUASCALIENTES       VALLE DE CHICALOTE    POZO   \n",
       "2       AGUASCALIENTES            COSIO  VALLE DE AGUASCALIENTES    POZO   \n",
       "3       AGUASCALIENTES  RINCON DE ROMOS  VALLE DE AGUASCALIENTES    POZO   \n",
       "4  BAJA CALIFORNIA SUR           LA PAZ             TODOS SANTOS    POZO   \n",
       "\n",
       "    LONGITUD   LATITUD  PERIODO  ...  CUMPLE_CON_DUR CUMPLE_CON_CF  \\\n",
       "0 -102.02210  22.20887     2020  ...              SI            SI   \n",
       "1 -102.20075  21.99958     2020  ...              SI            SI   \n",
       "2 -102.28801  22.36685     2020  ...              SI            SI   \n",
       "3 -102.29449  22.18435     2020  ...              SI            SI   \n",
       "4 -110.24480  23.45138     2020  ...              SI            SI   \n",
       "\n",
       "   CUMPLE_CON_NO3 CUMPLE_CON_AS  CUMPLE_CON_CD CUMPLE_CON_CR CUMPLE_CON_HG  \\\n",
       "0              SI            SI             SI            SI            SI   \n",
       "1              SI            SI             SI            SI            SI   \n",
       "2              SI            NO             SI            SI            SI   \n",
       "3              SI            SI             SI            SI            SI   \n",
       "4              NO            SI             SI            SI            SI   \n",
       "\n",
       "  CUMPLE_CON_PB CUMPLE_CON_MN CUMPLE_CON_FE  \n",
       "0            SI            SI            SI  \n",
       "1            SI            SI            SI  \n",
       "2            SI            SI            SI  \n",
       "3            SI            SI            SI  \n",
       "4            SI            SI            SI  \n",
       "\n",
       "[5 rows x 57 columns]"
      ]
     },
     "execution_count": 2,
     "metadata": {},
     "output_type": "execute_result"
    }
   ],
   "source": [
    "df = pd.read_csv('datos/aguas_subterraneas_2020.csv')\n",
    "df.head()"
   ]
  },
  {
   "cell_type": "markdown",
   "metadata": {},
   "source": [
    "En el ejercicio anterior habíamos concluido que estaríamos usando las variables numéricas en lugar de las binarias y categóricas para los atributos químicos, a excepción del \"Cadmio\", ya que solo tienen 3 datos únicos y por tanto cuenta con casi la misma informaicón que la binaria.\n",
    "\n",
    "También concluimos eliminar la variable \"SDT_mg/L\", puesto que la columna está completamente vacía, además que es un atributo que puede ser estimado a partir de la conductividad, por lo que ambas tendrían una correlación alta.\n",
    "\n",
    "Por último, también se eliminan aquellas variables con una correlación mayor o igual a 0.75, como el caso del hierro, manganeso y mercurio. Por tanto, nos estaremos quedando solamente con la variable del hierro."
   ]
  },
  {
   "cell_type": "code",
   "execution_count": 3,
   "metadata": {},
   "outputs": [],
   "source": [
    "cols_to_drop  = df.columns[df.columns.str.contains('(?!CUMPLE_CON_CD)(?:CALIDAD|CUMPLE)')].to_list()\n",
    "cols_to_drop.extend(['CLAVE', 'SITIO', 'CONTAMINANTES', 'ORGANISMO_DE_CUENCA', 'PERIODO', \n",
    "                     'CD_TOT_mg/L', 'ACUIFERO', 'SDT_mg/L', 'LONGITUD', 'LATITUD' , 'HG_TOT_mg/L', 'MN_TOT_mg/L'])"
   ]
  },
  {
   "cell_type": "markdown",
   "metadata": {},
   "source": [
    "Definimos nuestras X y y"
   ]
  },
  {
   "cell_type": "code",
   "execution_count": 4,
   "metadata": {},
   "outputs": [],
   "source": [
    "\n",
    "X = df.drop(cols_to_drop + ['SEMAFORO'], axis = 1)"
   ]
  },
  {
   "cell_type": "code",
   "execution_count": 5,
   "metadata": {},
   "outputs": [
    {
     "data": {
      "text/html": [
       "<div>\n",
       "<style scoped>\n",
       "    .dataframe tbody tr th:only-of-type {\n",
       "        vertical-align: middle;\n",
       "    }\n",
       "\n",
       "    .dataframe tbody tr th {\n",
       "        vertical-align: top;\n",
       "    }\n",
       "\n",
       "    .dataframe thead th {\n",
       "        text-align: right;\n",
       "    }\n",
       "</style>\n",
       "<table border=\"1\" class=\"dataframe\">\n",
       "  <thead>\n",
       "    <tr style=\"text-align: right;\">\n",
       "      <th></th>\n",
       "      <th>ESTADO</th>\n",
       "      <th>MUNICIPIO</th>\n",
       "      <th>SUBTIPO</th>\n",
       "      <th>ALC_mg/L</th>\n",
       "      <th>CONDUCT_mS/cm</th>\n",
       "      <th>SDT_M_mg/L</th>\n",
       "      <th>FLUORUROS_mg/L</th>\n",
       "      <th>DUR_mg/L</th>\n",
       "      <th>COLI_FEC_NMP/100_mL</th>\n",
       "      <th>N_NO3_mg/L</th>\n",
       "      <th>AS_TOT_mg/L</th>\n",
       "      <th>CR_TOT_mg/L</th>\n",
       "      <th>PB_TOT_mg/L</th>\n",
       "      <th>FE_TOT_mg/L</th>\n",
       "      <th>CUMPLE_CON_CD</th>\n",
       "    </tr>\n",
       "  </thead>\n",
       "  <tbody>\n",
       "    <tr>\n",
       "      <th>0</th>\n",
       "      <td>AGUASCALIENTES</td>\n",
       "      <td>ASIENTOS</td>\n",
       "      <td>POZO</td>\n",
       "      <td>229.990</td>\n",
       "      <td>940.0</td>\n",
       "      <td>603.6</td>\n",
       "      <td>0.9766</td>\n",
       "      <td>213.732</td>\n",
       "      <td>&lt;1.1</td>\n",
       "      <td>4.184656</td>\n",
       "      <td>0.0161</td>\n",
       "      <td>&lt;0.005</td>\n",
       "      <td>&lt;0.005</td>\n",
       "      <td>0.0891</td>\n",
       "      <td>SI</td>\n",
       "    </tr>\n",
       "    <tr>\n",
       "      <th>1</th>\n",
       "      <td>AGUASCALIENTES</td>\n",
       "      <td>AGUASCALIENTES</td>\n",
       "      <td>POZO</td>\n",
       "      <td>231.990</td>\n",
       "      <td>608.0</td>\n",
       "      <td>445.4</td>\n",
       "      <td>0.9298</td>\n",
       "      <td>185.0514</td>\n",
       "      <td>&lt;1.1</td>\n",
       "      <td>5.75011</td>\n",
       "      <td>0.0134</td>\n",
       "      <td>&lt;0.005</td>\n",
       "      <td>&lt;0.005</td>\n",
       "      <td>&lt;0.025</td>\n",
       "      <td>SI</td>\n",
       "    </tr>\n",
       "    <tr>\n",
       "      <th>2</th>\n",
       "      <td>AGUASCALIENTES</td>\n",
       "      <td>COSIO</td>\n",
       "      <td>POZO</td>\n",
       "      <td>204.920</td>\n",
       "      <td>532.0</td>\n",
       "      <td>342</td>\n",
       "      <td>1.8045</td>\n",
       "      <td>120.719</td>\n",
       "      <td>&lt;1.1</td>\n",
       "      <td>1.449803</td>\n",
       "      <td>0.037</td>\n",
       "      <td>&lt;0.005</td>\n",
       "      <td>&lt;0.005</td>\n",
       "      <td>&lt;0.025</td>\n",
       "      <td>SI</td>\n",
       "    </tr>\n",
       "    <tr>\n",
       "      <th>3</th>\n",
       "      <td>AGUASCALIENTES</td>\n",
       "      <td>RINCON DE ROMOS</td>\n",
       "      <td>POZO</td>\n",
       "      <td>327.000</td>\n",
       "      <td>686.0</td>\n",
       "      <td>478.6</td>\n",
       "      <td>1.1229</td>\n",
       "      <td>199.879</td>\n",
       "      <td>&lt;1.1</td>\n",
       "      <td>1.258597</td>\n",
       "      <td>0.0154</td>\n",
       "      <td>0.005</td>\n",
       "      <td>&lt;0.005</td>\n",
       "      <td>&lt;0.025</td>\n",
       "      <td>SI</td>\n",
       "    </tr>\n",
       "    <tr>\n",
       "      <th>4</th>\n",
       "      <td>BAJA CALIFORNIA SUR</td>\n",
       "      <td>LA PAZ</td>\n",
       "      <td>POZO</td>\n",
       "      <td>309.885</td>\n",
       "      <td>1841.0</td>\n",
       "      <td>1179</td>\n",
       "      <td>0.2343</td>\n",
       "      <td>476.9872</td>\n",
       "      <td>291</td>\n",
       "      <td>15.672251</td>\n",
       "      <td>&lt;0.01</td>\n",
       "      <td>&lt;0.005</td>\n",
       "      <td>&lt;0.005</td>\n",
       "      <td>&lt;0.025</td>\n",
       "      <td>SI</td>\n",
       "    </tr>\n",
       "  </tbody>\n",
       "</table>\n",
       "</div>"
      ],
      "text/plain": [
       "                ESTADO        MUNICIPIO SUBTIPO  ALC_mg/L  CONDUCT_mS/cm  \\\n",
       "0       AGUASCALIENTES         ASIENTOS    POZO   229.990          940.0   \n",
       "1       AGUASCALIENTES   AGUASCALIENTES    POZO   231.990          608.0   \n",
       "2       AGUASCALIENTES            COSIO    POZO   204.920          532.0   \n",
       "3       AGUASCALIENTES  RINCON DE ROMOS    POZO   327.000          686.0   \n",
       "4  BAJA CALIFORNIA SUR           LA PAZ    POZO   309.885         1841.0   \n",
       "\n",
       "  SDT_M_mg/L FLUORUROS_mg/L  DUR_mg/L COLI_FEC_NMP/100_mL N_NO3_mg/L  \\\n",
       "0      603.6         0.9766   213.732                <1.1   4.184656   \n",
       "1      445.4         0.9298  185.0514                <1.1    5.75011   \n",
       "2        342         1.8045   120.719                <1.1   1.449803   \n",
       "3      478.6         1.1229   199.879                <1.1   1.258597   \n",
       "4       1179         0.2343  476.9872                 291  15.672251   \n",
       "\n",
       "  AS_TOT_mg/L CR_TOT_mg/L PB_TOT_mg/L FE_TOT_mg/L CUMPLE_CON_CD  \n",
       "0      0.0161      <0.005      <0.005      0.0891            SI  \n",
       "1      0.0134      <0.005      <0.005      <0.025            SI  \n",
       "2       0.037      <0.005      <0.005      <0.025            SI  \n",
       "3      0.0154       0.005      <0.005      <0.025            SI  \n",
       "4       <0.01      <0.005      <0.005      <0.025            SI  "
      ]
     },
     "execution_count": 5,
     "metadata": {},
     "output_type": "execute_result"
    }
   ],
   "source": [
    "X.head()"
   ]
  },
  {
   "cell_type": "code",
   "execution_count": 6,
   "metadata": {},
   "outputs": [],
   "source": [
    "y = df[['SEMAFORO']]"
   ]
  },
  {
   "cell_type": "code",
   "execution_count": 7,
   "metadata": {},
   "outputs": [
    {
     "data": {
      "text/html": [
       "<div>\n",
       "<style scoped>\n",
       "    .dataframe tbody tr th:only-of-type {\n",
       "        vertical-align: middle;\n",
       "    }\n",
       "\n",
       "    .dataframe tbody tr th {\n",
       "        vertical-align: top;\n",
       "    }\n",
       "\n",
       "    .dataframe thead th {\n",
       "        text-align: right;\n",
       "    }\n",
       "</style>\n",
       "<table border=\"1\" class=\"dataframe\">\n",
       "  <thead>\n",
       "    <tr style=\"text-align: right;\">\n",
       "      <th></th>\n",
       "      <th>SEMAFORO</th>\n",
       "    </tr>\n",
       "  </thead>\n",
       "  <tbody>\n",
       "    <tr>\n",
       "      <th>0</th>\n",
       "      <td>Verde</td>\n",
       "    </tr>\n",
       "    <tr>\n",
       "      <th>1</th>\n",
       "      <td>Verde</td>\n",
       "    </tr>\n",
       "    <tr>\n",
       "      <th>2</th>\n",
       "      <td>Rojo</td>\n",
       "    </tr>\n",
       "    <tr>\n",
       "      <th>3</th>\n",
       "      <td>Verde</td>\n",
       "    </tr>\n",
       "    <tr>\n",
       "      <th>4</th>\n",
       "      <td>Rojo</td>\n",
       "    </tr>\n",
       "  </tbody>\n",
       "</table>\n",
       "</div>"
      ],
      "text/plain": [
       "  SEMAFORO\n",
       "0    Verde\n",
       "1    Verde\n",
       "2     Rojo\n",
       "3    Verde\n",
       "4     Rojo"
      ]
     },
     "execution_count": 7,
     "metadata": {},
     "output_type": "execute_result"
    }
   ],
   "source": [
    "y.head()"
   ]
  },
  {
   "cell_type": "markdown",
   "metadata": {},
   "source": [
    "Ahora clasificamos cada columna por su tipo de dato"
   ]
  },
  {
   "cell_type": "code",
   "execution_count": 8,
   "metadata": {},
   "outputs": [
    {
     "name": "stdout",
     "output_type": "stream",
     "text": [
      "Numeric variables: ['ALC_mg/L', 'CONDUCT_mS/cm', 'SDT_M_mg/L', 'FLUORUROS_mg/L', 'DUR_mg/L', 'COLI_FEC_NMP/100_mL', 'N_NO3_mg/L', 'AS_TOT_mg/L', 'CR_TOT_mg/L', 'PB_TOT_mg/L', 'FE_TOT_mg/L']\n",
      "\n",
      "Categorical variables: ['ESTADO', 'MUNICIPIO', 'SUBTIPO']\n",
      "\n",
      "Binary variables: ['CUMPLE_CON_CD']\n"
     ]
    }
   ],
   "source": [
    "bin_vars =  ['CUMPLE_CON_CD']\n",
    "cat_vars = ['ESTADO', 'MUNICIPIO', 'SUBTIPO']\n",
    "num_vars = X.drop(cat_vars + bin_vars, axis = 1).columns.to_list()\n",
    "\n",
    "print(f'Numeric variables: {num_vars}\\n')\n",
    "print(f'Categorical variables: {cat_vars}\\n')\n",
    "print(f'Binary variables: {bin_vars}')"
   ]
  },
  {
   "cell_type": "code",
   "execution_count": 9,
   "metadata": {},
   "outputs": [],
   "source": [
    "class TextToNumImputer(BaseEstimator, TransformerMixin):\n",
    "    \n",
    "    \n",
    "    def get_text_values(self, df):\n",
    "        vars = [\n",
    "        'ALC_mg/L','AS_TOT_mg/L', 'CD_TOT_mg/L', 'FE_TOT_mg/L', 'SDT_M_mg/L',\n",
    "        'SDT_mg/L', 'FLUORUROS_mg/L', 'COLI_FEC_NMP/100_mL', 'CONDUCT_mS/cm', \n",
    "        'CR_TOT_mg/L', 'DUR_mg/L', 'HG_TOT_mg/L', 'MN_TOT_mg/L', 'N_NO3_mg/L', 'PB_TOT_mg/L' ]\n",
    "\n",
    "        limits = {}\n",
    "        for  var in vars:\n",
    "                if  (var in df.columns and df[var].dtypes == 'object'):\n",
    "                        #Obtenemos las observaciones que solo tengan < > o =\n",
    "                        limits[var] = df[df[var].str.contains('<|>|=', na='na') == True][var].value_counts().index\n",
    "        #Lo convertimos en DF para mejor visualización\n",
    "        return pd.DataFrame(limits, index = [0])\n",
    "    \n",
    "    def extract_values(self, df):\n",
    "        #Extraemos las columnas que deben ser convertidas de object a float\n",
    "        limits_df = self.get_text_values(df)\n",
    "\n",
    "        #Hacemos un transpose para que la tabla tenga dos columnas, una con los atributos químicos y otra con sus valores\n",
    "        limits_df = limits_df.transpose()\n",
    "        limits_df = limits_df.reset_index(level = 0)\n",
    "        limits_df.rename(columns={'index': 'attributes', 0:'attr_values'}, inplace= True)\n",
    "\n",
    "        #Extraemos los valores numéricos, eliminando cualquier string (por ej. '<')\n",
    "        limits_df.attr_values = limits_df.attr_values.str.extract('(\\d+\\.\\d+|\\d+)')\n",
    "\n",
    "        return limits_df\n",
    "   \n",
    "    def replace_text(self, df):\n",
    "        \n",
    "        limits_df = self.extract_values(df)\n",
    "                \n",
    "        for col in limits_df.attributes:\n",
    "            val =  (limits_df.loc[limits_df.attributes == col].attr_values.values[0])\n",
    "            str_match = '<'+ val\n",
    "            val = float(val)\n",
    "\n",
    "            df.loc[df[col] == str_match, col] = val -(val/10)\n",
    "            \n",
    "            #Convertimos la columna a tipo float\n",
    "            df[col] = df[col].astype(float)\n",
    "            \n",
    "        return df\n",
    "        \n",
    "    def fit(self, X, y = None):\n",
    "        return self\n",
    "    \n",
    "    def transform(self, X):\n",
    "        \n",
    "        return self.replace_text(X)"
   ]
  },
  {
   "cell_type": "code",
   "execution_count": 10,
   "metadata": {},
   "outputs": [],
   "source": [
    "cat_pipeline = Pipeline(steps = [\n",
    "    ('cat-imp-mode', SimpleImputer(strategy='most_frequent')),\n",
    "    ('encoder', OneHotEncoder(drop='if_binary',handle_unknown = 'ignore', sparse=False))\n",
    "    ])\n",
    "bin_pipeline = Pipeline(steps = [\n",
    "    ('bin-imp-mode', SimpleImputer(strategy='most_frequent')),\n",
    "    ('encoder', OneHotEncoder(drop='if_binary',handle_unknown = 'ignore', sparse=False))\n",
    "    ])\n",
    "num_pipeline = Pipeline(steps = [\n",
    "    ('text-imputer', TextToNumImputer()),\n",
    "    ('imp-median', SimpleImputer(strategy='median'))])\n",
    "\n",
    "preprocessor = ColumnTransformer(transformers = [\n",
    "    ('bin-imp', bin_pipeline, bin_vars),\n",
    "    ('catimp', cat_pipeline, cat_vars),\n",
    "    ('custom-imp', num_pipeline, (num_vars)),\n",
    "   ],\n",
    "    remainder='passthrough')\n",
    "\t\t\t\n"
   ]
  },
  {
   "cell_type": "code",
   "execution_count": 11,
   "metadata": {},
   "outputs": [
    {
     "data": {
      "text/plain": [
       "array(['SI', 'NO'], dtype=object)"
      ]
     },
     "execution_count": 11,
     "metadata": {},
     "output_type": "execute_result"
    }
   ],
   "source": [
    "X['CUMPLE_CON_CD'].unique()"
   ]
  },
  {
   "cell_type": "code",
   "execution_count": 12,
   "metadata": {},
   "outputs": [
    {
     "name": "stderr",
     "output_type": "stream",
     "text": [
      "C:\\Users\\matth\\AppData\\Local\\Temp\\ipykernel_8292\\209048438.py:3: SettingWithCopyWarning: \n",
      "A value is trying to be set on a copy of a slice from a DataFrame\n",
      "\n",
      "See the caveats in the documentation: https://pandas.pydata.org/pandas-docs/stable/user_guide/indexing.html#returning-a-view-versus-a-copy\n",
      "  y.drop(y.index[no_rows],inplace=True)\n"
     ]
    }
   ],
   "source": [
    "no_rows = X.index[X['CUMPLE_CON_CD'] == 'NO'].tolist()\n",
    "X.drop(X.index[no_rows],inplace=True)\n",
    "y.drop(y.index[no_rows],inplace=True)"
   ]
  },
  {
   "cell_type": "code",
   "execution_count": 13,
   "metadata": {},
   "outputs": [
    {
     "data": {
      "text/plain": [
       "array(['SI'], dtype=object)"
      ]
     },
     "execution_count": 13,
     "metadata": {},
     "output_type": "execute_result"
    }
   ],
   "source": [
    "X['CUMPLE_CON_CD'].unique()"
   ]
  },
  {
   "cell_type": "code",
   "execution_count": 14,
   "metadata": {},
   "outputs": [],
   "source": [
    "\n",
    "#probamos el transformer\n",
    "#scaled_f = preprocessor.fit_transform(X)\n",
    "\n",
    "#Imprimimos una muestra de los datos transformados\n",
    "#pd.DataFrame(scaled_f)"
   ]
  },
  {
   "cell_type": "code",
   "execution_count": 15,
   "metadata": {},
   "outputs": [
    {
     "name": "stdout",
     "output_type": "stream",
     "text": [
      "Feature: ESTADO, Score: 0.01429\n",
      "Feature: MUNICIPIO, Score: 0.01689\n",
      "Feature: SUBTIPO, Score: 0.00000\n",
      "Feature: ALC_mg/L, Score: 0.04223\n",
      "Feature: CONDUCT_mS/cm, Score: 0.05860\n",
      "Feature: SDT_M_mg/L, Score: 0.00657\n",
      "Feature: FLUORUROS_mg/L, Score: 0.20792\n",
      "Feature: DUR_mg/L, Score: 0.14432\n",
      "Feature: COLI_FEC_NMP/100_mL, Score: 0.07998\n",
      "Feature: N_NO3_mg/L, Score: 0.12023\n",
      "Feature: AS_TOT_mg/L, Score: 0.11449\n",
      "Feature: CR_TOT_mg/L, Score: 0.02044\n",
      "Feature: PB_TOT_mg/L, Score: 0.01741\n",
      "Feature: FE_TOT_mg/L, Score: 0.08801\n",
      "Feature: CUMPLE_CON_CD, Score: 0.00000\n"
     ]
    },
    {
     "data": {
      "image/png": "[encoded data removed]",
      "text/plain": [
       "<Figure size 432x288 with 1 Axes>"
      ]
     },
     "metadata": {
      "needs_background": "light"
     },
     "output_type": "display_data"
    }
   ],
   "source": [
    "import numpy as np\n",
    "from sklearn.model_selection import train_test_split\n",
    "from sklearn.tree import DecisionTreeClassifier\n",
    "from sklearn.inspection import permutation_importance\n",
    "import matplotlib.pyplot as plt\n",
    "\n",
    "X_train, X_test, y_train, y_test = train_test_split(X, y, test_size=0.1, random_state=42)\n",
    "tree = DecisionTreeClassifier()\n",
    "\n",
    "pipeline_DT = Pipeline(steps=[('ct', preprocessor), ('m', tree)])\n",
    "\n",
    "pipeline_DT.fit(X_train, y_train)\n",
    "y_hat_dt = pipeline_DT.predict(X_train)\n",
    "importance = permutation_importance(pipeline_DT, X_train, y_train.values.ravel(), n_repeats=10,random_state=42)\n",
    "for i,v in enumerate(importance['importances_mean']):\n",
    "\tprint('Feature: %s, Score: %.5f' % (X.columns[i],v))\n",
    "\n",
    "plt.barh(X.columns.to_numpy(), np.sort(importance['importances_mean']))\n",
    "plt.show()"
   ]
  },
  {
   "cell_type": "code",
   "execution_count": 16,
   "metadata": {},
   "outputs": [],
   "source": [
    "#import eli5\n",
    "#from eli5.sklearn import PermutationImportance\n",
    "\n",
    "#perm = PermutationImportance(pipeline_DT, random_state=1).fit(X_train, y_train)\n",
    "#eli5.show_weights(perm, feature_names = X_test.columns.tolist())"
   ]
  },
  {
   "cell_type": "code",
   "execution_count": 17,
   "metadata": {},
   "outputs": [],
   "source": [
    "target_names = ['Amarillo', 'Rojo', 'Verde']"
   ]
  },
  {
   "cell_type": "code",
   "execution_count": 18,
   "metadata": {},
   "outputs": [
    {
     "name": "stdout",
     "output_type": "stream",
     "text": [
      "              precision    recall  f1-score   support\n",
      "\n",
      "    Amarillo       1.00      1.00      1.00       222\n",
      "        Rojo       1.00      1.00      1.00       349\n",
      "       Verde       1.00      1.00      1.00       388\n",
      "\n",
      "    accuracy                           1.00       959\n",
      "   macro avg       1.00      1.00      1.00       959\n",
      "weighted avg       1.00      1.00      1.00       959\n",
      "\n"
     ]
    }
   ],
   "source": [
    "print(classification_report(y_train, y_hat_dt, target_names=target_names))"
   ]
  },
  {
   "cell_type": "code",
   "execution_count": 19,
   "metadata": {},
   "outputs": [
    {
     "data": {
      "text/plain": [
       "array([[222,   0,   0],\n",
       "       [  0, 349,   0],\n",
       "       [  0,   0, 388]], dtype=int64)"
      ]
     },
     "execution_count": 19,
     "metadata": {},
     "output_type": "execute_result"
    }
   ],
   "source": [
    "cm_dt = confusion_matrix(y_train, y_hat_dt)\n",
    "cm_dt"
   ]
  },
  {
   "cell_type": "code",
   "execution_count": 20,
   "metadata": {},
   "outputs": [
    {
     "name": "stderr",
     "output_type": "stream",
     "text": [
      "c:\\Users\\matth\\anaconda3\\lib\\site-packages\\sklearn\\pipeline.py:382: DataConversionWarning: A column-vector y was passed when a 1d array was expected. Please change the shape of y to (n_samples,), for example using ravel().\n",
      "  self._final_estimator.fit(Xt, y, **fit_params_last_step)\n"
     ]
    },
    {
     "name": "stdout",
     "output_type": "stream",
     "text": [
      "Feature: ESTADO, Score: 0.01429\n",
      "Feature: MUNICIPIO, Score: 0.01689\n",
      "Feature: SUBTIPO, Score: 0.00000\n",
      "Feature: ALC_mg/L, Score: 0.04223\n",
      "Feature: CONDUCT_mS/cm, Score: 0.05860\n",
      "Feature: SDT_M_mg/L, Score: 0.00657\n",
      "Feature: FLUORUROS_mg/L, Score: 0.20792\n",
      "Feature: DUR_mg/L, Score: 0.14432\n",
      "Feature: COLI_FEC_NMP/100_mL, Score: 0.07998\n",
      "Feature: N_NO3_mg/L, Score: 0.12023\n",
      "Feature: AS_TOT_mg/L, Score: 0.11449\n",
      "Feature: CR_TOT_mg/L, Score: 0.02044\n",
      "Feature: PB_TOT_mg/L, Score: 0.01741\n",
      "Feature: FE_TOT_mg/L, Score: 0.08801\n",
      "Feature: CUMPLE_CON_CD, Score: 0.00000\n"
     ]
    },
    {
     "data": {
      "image/png": "[encoded data removed]",
      "text/plain": [
       "<Figure size 432x288 with 1 Axes>"
      ]
     },
     "metadata": {
      "needs_background": "light"
     },
     "output_type": "display_data"
    }
   ],
   "source": [
    "import numpy as np\n",
    "from sklearn.model_selection import train_test_split\n",
    "from sklearn.ensemble import RandomForestClassifier\n",
    "from sklearn.inspection import permutation_importance\n",
    "import matplotlib.pyplot as plt\n",
    "\n",
    "tree = RandomForestClassifier(random_state=42,\n",
    "                              criterion='gini')\n",
    "\n",
    "pipeline_RF = Pipeline(steps=[('ct', preprocessor), ('m', tree)])\n",
    "\n",
    "pipeline_RF.fit(X_train, y_train)\n",
    "y_hat_rf = pipeline_DT.predict(X_train)\n",
    "importance = permutation_importance(pipeline_DT, X_train, y_train.values.ravel(), n_repeats=10,random_state=42)\n",
    "for i,v in enumerate(importance['importances_mean']):\n",
    "\tprint('Feature: %s, Score: %.5f' % (X.columns[i],v))\n",
    "\n",
    "plt.barh(X.columns.to_numpy(), np.sort(importance['importances_mean']))\n",
    "plt.show()"
   ]
  },
  {
   "cell_type": "code",
   "execution_count": 21,
   "metadata": {},
   "outputs": [
    {
     "name": "stdout",
     "output_type": "stream",
     "text": [
      "              precision    recall  f1-score   support\n",
      "\n",
      "    Amarillo       1.00      1.00      1.00       222\n",
      "        Rojo       1.00      1.00      1.00       349\n",
      "       Verde       1.00      1.00      1.00       388\n",
      "\n",
      "    accuracy                           1.00       959\n",
      "   macro avg       1.00      1.00      1.00       959\n",
      "weighted avg       1.00      1.00      1.00       959\n",
      "\n"
     ]
    }
   ],
   "source": [
    "print(classification_report(y_train, y_hat_rf, target_names=target_names))"
   ]
  },
  {
   "cell_type": "code",
   "execution_count": 22,
   "metadata": {},
   "outputs": [
    {
     "data": {
      "text/plain": [
       "array([[222,   0,   0],\n",
       "       [  0, 349,   0],\n",
       "       [  0,   0, 388]], dtype=int64)"
      ]
     },
     "execution_count": 22,
     "metadata": {},
     "output_type": "execute_result"
    }
   ],
   "source": [
    "cm_rf = confusion_matrix(y_train, y_hat_rf)\n",
    "cm_rf"
   ]
  }
 ],
 "metadata": {
  "kernelspec": {
   "display_name": "Python 3.9.12 ('base')",
   "language": "python",
   "name": "python3"
  },
  "language_info": {
   "codemirror_mode": {
    "name": "ipython",
    "version": 3
   },
   "file_extension": ".py",
   "mimetype": "text/x-python",
   "name": "python",
   "nbconvert_exporter": "python",
   "pygments_lexer": "ipython3",
   "version": "3.9.12"
  },
  "orig_nbformat": 4,
  "vscode": {
   "interpreter": {
    "hash": "8607d81fc6318cb05ed35a8010608a8fe3010a47ba3e0e927835a55241641039"
   }
  }
 },
 "nbformat": 4,
 "nbformat_minor": 2
}
